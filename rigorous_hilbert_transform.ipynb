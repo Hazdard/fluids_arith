{
 "cells": [
  {
   "cell_type": "markdown",
   "id": "88818861-d942-4547-9416-10a524a2c6a1",
   "metadata": {},
   "source": [
    "Given a function $f$ with suitable integrability, the Hilbert transform of $f$ is defined as\n",
    "$$\n",
    "H(f)(x) \\coloneqq \\frac{1}{\\pi} \\text{p.v.}\\int_{-\\infty}^\\infty \\frac{f(y)}{x-y} \\ dy.\n",
    "$$\n",
    "We employ interval arithmetic to compute the Hilbert transform of a function $f$ using Gaussian-Legendre quadrature with rigorous error bounds. The idea of Gaussian-Legendre quadrature is to approximate an integral with a sum. That is,\n",
    "$$\n",
    "\\int_{-1}^1 g(x) \\ dx \\approx \\sum_{i=1}^N w_i g(x_i)\n",
    "$$\n",
    "for some nodes $x_i$ and weights $w_i$ to be determined. Given this integral over $[-1,1]$, we can then integrate $g$ over any interval $[a,b]$ using a change of coordinates to get\n",
    "$$\n",
    "\\int_a^b f(x) \\ dx \\approx \\frac{b-a}{2}\\sum_{i=1}^N w_ig(\\frac{b-a}{2}x_i + \\frac{a+b}{2}).\n",
    "$$\n",
    "The idea in identifying the nodes and weights is to use interpolating orthogonal polynomials. In our case, the Legendre polynomials are used, and the $N$ nodes are the $N$ roots of the $N$-th Legendre polynomial. The error of our approximation is given by\n",
    "$$\n",
    "\\mathcal{E} \\leq \\frac{(b-a)^{2N+1}(N!)^4}{(2N+1)[(2N)!]^3}|f^{(2N)}(\\xi)|\n",
    "$$\n",
    "for some $\\xi \\in (a,b)$. \n",
    "\n",
    "We note that $f$ must have $2N$ continuous derivatives for this to make sense. The Hilbert transform, however, has a singularity, so we must integrate by parts until we have something that makes sense.\n",
    "\n",
    "For simplicity, let us take $f(x) = xe^{-x^2}$ and compute the Hilbert transform $H(f)$ of the Gaussian $f$ using a $4$-point Gaussian quadrature. In this case, we want something $C^8$ in the integrand, so we must use the rapid decay of $f$ to integrate by parts to define the Hilbert transform differently. For any $g \\in \\mathcal{S}(\\mathbb{R})$ (the Schwartz class), one application of integration by parts gives\n",
    "$$\n",
    "H(g)(x) \\coloneqq -\\frac{1}{\\pi}\\int_{-\\infty}^\\infty \\log(|x-y|)g'(y) \\ dy.\n",
    "$$\n",
    "This integrand is not continuous, but integrating $\\log(|x-y|)$ gives something continuous, so we iteratively apply integration by parts until we get something suitably regular.\n",
    "\n",
    "Choose points $y_0,\\ldots, y_N \\in \\mathbb{R}$. Then we can write\n",
    "$$\n",
    "H(g)(x) = \\sum_{k=1}^N \\int_{y_{k-1}}^{y_k} K(x-y)g^{(m)}(y) \\ dy + \\int_{-\\infty}^{y_0} K(x-y)g^{(m)}(y) \\ dy + \\int_{y_N}^\\infty K(x-y)g^{(m)}(y) \\ dy.\n",
    "$$\n",
    "Dealing with the integrals at infinity separately, we can focus on computing the sum\n",
    "$$\n",
    "\\sum_{k=1}^N \\int_{y_{k-1}}^{y_k} K(x-y)g^{(m)}(y) \\ dy.\n",
    "$$\n",
    "We apply symbolic integration to get the functions $K$ and $g^{(m)}$ from integration by parts. I use Maple since I didn't have time to figure out Sage (it was giving something weird when integrating symbolically).\n"
   ]
  },
  {
   "cell_type": "code",
   "execution_count": 2,
   "id": "817d5a37-7b79-4520-a20c-ed2510e4d790",
   "metadata": {
    "vscode": {
     "languageId": "python"
    }
   },
   "outputs": [
    {
     "name": "stdout",
     "output_type": "stream",
     "text": [
      "[0.010050167084168057752424384748270738174383934746480594001248 +/- 4.12e-61]\n",
      "[5.6804642744228413763445684180029526974130288813716307245997e-28 +/- 5.20e-87]\n",
      "[0.010050167084168057752424385316317165616668072380937435801543 +/- 1.59e-61]\n"
     ]
    }
   ],
   "source": [
    "import sympy as sp\n",
    "\n",
    "# Set interval arithmetic precision\n",
    "prec = 200\n",
    "RBF = RealBallField(prec)\n",
    "RIF = RealIntervalField(prec)\n",
    "\n",
    "def nodes():\n",
    "    x0 = -RBF(sqrt(3/7 + 2/7 * sqrt(6/5)))\n",
    "    x1 = -RBF(sqrt(3/7 - 2/7 * sqrt(6/5)))\n",
    "    return [x0, x1, -x1, -x0]\n",
    "\n",
    "def weights():\n",
    "    w0 = RBF((18 + sqrt(30))/36)\n",
    "    w1 = RBF((18 - sqrt(30))/36)\n",
    "    return [w1, w0, w0, w1]\n",
    "\n",
    "def rigorous_gauss_quad(f, a, b, node_list, weight_list):\n",
    "    n = 4 \n",
    "    ans = 0\n",
    "    for k in range(n):\n",
    "        shifted_node = node_list[k]*(b-a)/2 + (a+b)/2\n",
    "        ans += weight_list[k] * f(x = shifted_node)\n",
    "\n",
    "    return ans * (b-a)/2\n",
    "\n",
    "def rigorous_error(f, a, b):\n",
    "    n = int(4)\n",
    "    m = int(2*n)\n",
    "    I = RIF(a,b)\n",
    "    sup = 0\n",
    "\n",
    "    # Find a bound on of |f| over I.\n",
    "    # Note that I is small, so even if bound is rough it shouldn't be that bad?\n",
    "    m1 = abs(RIF(f(x=I)).upper())\n",
    "    m2 = abs(RIF(f(x=I)).lower())\n",
    "\n",
    "    sup = max(m1,m2)\n",
    "\n",
    "    err = ((b-a)**(m+1)*(factorial(n))**4) / ((m+1)*(factorial(m))**3) * RBF(sup)\n",
    "\n",
    "    # multiply by [-1,1]  +/- err\n",
    "\n",
    "    return err\n",
    "\n",
    "# Define function found symbolically in Maple (function to be integrated)\n",
    "def func(x):\n",
    "    return exp(x)\n",
    "\n",
    "# Also define its 8-th derivative\n",
    "def d_func(x):\n",
    "    return exp(x)\n",
    "\n",
    "x = var('x')\n",
    "a = RBF(0)\n",
    "b = RBF(0.01)\n",
    "\n",
    "gq = rigorous_gauss_quad(func(x), a, b, nodes(), weights())\n",
    "err = rigorous_error(d_func(x), a, b)\n",
    "\n",
    "print(gq)\n",
    "print(err) # The actual error is not this, just an upper bound for the error.\n",
    "print(gq + err) \n"
   ]
  },
  {
   "cell_type": "code",
   "execution_count": null,
   "id": "10ee7225-aae8-40b5-bcef-46cbfe5626d1",
   "metadata": {
    "vscode": {
     "languageId": "python"
    }
   },
   "outputs": [],
   "source": []
  }
 ],
 "metadata": {
  "kernelspec": {
   "display_name": "SageMath 10.5",
   "language": "sage",
   "name": "SageMath-10.5"
  },
  "language_info": {
   "codemirror_mode": {
    "name": "ipython",
    "version": 3
   },
   "file_extension": ".py",
   "mimetype": "text/x-python",
   "name": "sage",
   "nbconvert_exporter": "python",
   "pygments_lexer": "ipython3",
   "version": "3.12.5"
  }
 },
 "nbformat": 4,
 "nbformat_minor": 5
}
