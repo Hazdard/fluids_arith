{
 "cells": [
  {
   "cell_type": "code",
   "execution_count": 2,
   "id": "ade1dec0",
   "metadata": {},
   "outputs": [],
   "source": [
    "## Adding the .simplify_full() command may give cleaner functions to look at, but drastically increases the runtime (from 0.5 sec to more than 4 min), and, most importantly, causes completely unstable computations that ruin the precision (for unknown reasons).\n",
    "\n",
    "prec = 200\n",
    "R = RealBallField(prec)\n",
    "var('x')\n",
    "\n",
    "W = (-x/2 + sqrt(1/27 + x^2/4))^(1/3) - (x/2 + sqrt(1/27 + x^2/4))^(1/3)\n",
    "W_prime = diff(W, x)\n",
    "a = 1 + W/x + W_prime\n",
    "b = (3*x)/2 + W\n",
    "\n",
    "# Number of derivatives to compute\n",
    "n = 7\n",
    "\n",
    "a_derivs = [a]\n",
    "b_derivs = [b]\n",
    "\n",
    "for k in range(1, n+1):\n",
    "    a_deriv_k = diff(a, x, k)\n",
    "    b_deriv_k = diff(b, x, k)\n",
    "    a_derivs.append(a_deriv_k)\n",
    "    b_derivs.append(b_deriv_k)\n",
    "\n",
    "# Convert symbolic functions to numerical ones evaluable on RealBallField elements\n",
    "a_funcs = [fast_callable(expr, vars=[x], domain=R) for expr in a_derivs]\n",
    "b_funcs = [fast_callable(expr, vars=[x], domain=R) for expr in b_derivs]"
   ]
  },
  {
   "cell_type": "code",
   "execution_count": 3,
   "id": "42c6d9ac",
   "metadata": {},
   "outputs": [
    {
     "name": "stdout",
     "output_type": "stream",
     "text": [
      "Evaluations of the derivatives of a at x = 0.0001 :\n",
      "d^0a/dx^0(0.00) = [-0.9999999600000017999999001662669631274003983790422471895 +/- 7.56e-56]\n",
      "d^1a/dx^1(0.00) = [0.000799999928000005798336938468026595776345951029044 +/- 8.55e-52]\n",
      "d^2a/dx^2(0.00) = [7.9999978400002879999689929811039824949855652564 +/- 2.34e-47]\n",
      "d^3a/dx^3(0.00) = [-0.043199988480001850069981468082356835946720 +/- 5.19e-43]\n",
      "d^4a/dx^4(0.00) = [-431.9996544000923999834558388888214793664 +/- 3.91e-38]\n",
      "d^5a/dx^5(0.00) = [6.911996304000990993444504102741236 +/- 7.71e-34]\n",
      "d^6a/dx^6(0.00) = [69119.8891200495331066890978070840 +/- 7.62e-29]\n",
      "d^7a/dx^7(0.00) = [-2217.59801867599812272201538 +/- 5.28e-24]\n",
      "\n",
      "Evaluations of the derivatives of b at x = 0.0001 :\n",
      "d^0b/dx^0(0.00) = [5.000000099999997239608814495811068247709449231015594972e-5 +/- 7.99e-60]\n",
      "d^1b/dx^1(0.00) = [0.5000000299999985000000868752989239014661372612460925573969 +/- 2.79e-59]\n",
      "d^2b/dx^2(0.00) = [0.000599999940000005068752636988434330920591240324935507947 +/- 4.35e-58]\n",
      "d^3b/dx^3(0.00) = [5.999998200000251999972107484501318963427256284537690286630 +/- 6.80e-58]\n",
      "d^4b/dx^4(0.00) = [-0.0359999899200016649249648317305402884321682700665580660 +/- 4.48e-56]\n",
      "d^5b/dx^5(0.00) = [-359.999697600083159984835899155396372465225120161581841356 +/- 3.37e-55]\n",
      "d^6b/dx^6(0.00) = [6.04799667360090839685374902386558646262725300235219723 +/- 5.31e-54]\n",
      "d^7b/dx^7(0.00) = [60479.900208045405347640180191100249164056044930264000199 +/- 3.29e-52]\n"
     ]
    }
   ],
   "source": [
    "x0 = R(0.0001)\n",
    "\n",
    "print(\"Evaluations of the derivatives of a at x =\",float(x0),\":\")\n",
    "for k in range(n+1):\n",
    "    a_val = a_funcs[k](x0)\n",
    "    print(f\"d^{k}a/dx^{k}({x0.center():.2f}) = {a_val}\")\n",
    "\n",
    "print(\"\\nEvaluations of the derivatives of b at x =\",float(x0),\":\")\n",
    "for k in range(n+1):\n",
    "    b_val = b_funcs[k](x0)\n",
    "    print(f\"d^{k}b/dx^{k}({x0.center():.2f}) = {b_val}\")"
   ]
  },
  {
   "cell_type": "code",
   "execution_count": 38,
   "id": "3f900d71",
   "metadata": {},
   "outputs": [
    {
     "name": "stdout",
     "output_type": "stream",
     "text": [
      "Approximation de l'intégrale : [14.9808891904547596163520615034256312653395603419574840439 +/- 9.33e-56]\n",
      "Borne d'erreur théorique (approx.) : [0.0057607433217189314750290360046457607433217189314750290360046 +/- 5.99e-62]\n",
      "L'intégrale est contenue dans l'intervalle [ 14.97512844713304 , 14.98664993377648 ]\n"
     ]
    }
   ],
   "source": [
    "def rigorous_max_partial_derivatives(f, x1, x2, y1, y2):\n",
    "    var('x y')\n",
    "    I_x = RIF(x1, x2)\n",
    "    I_y = RIF(y1, y2)\n",
    "\n",
    "    # dérivées partielles\n",
    "    fx = diff(f, x)\n",
    "    fy = diff(f, y)\n",
    "\n",
    "    # Evaluation sur domaine 2D\n",
    "    fx_eval = RIF(fx(x=I_x, y=I_y))\n",
    "    fy_eval = RIF(fy(x=I_x, y=I_y))\n",
    "\n",
    "    # Majoration de la valeur absolue\n",
    "    fx_sup = max(abs(fx_eval.lower()), abs(fx_eval.upper()))\n",
    "    fy_sup = max(abs(fy_eval.lower()), abs(fy_eval.upper()))\n",
    "\n",
    "    return fx_sup, fy_sup\n",
    "\n",
    "def riemann_integral(f_expr, x1, x2, y1, y2, n):\n",
    "    \n",
    "    var('x y')\n",
    "    f_num = fast_callable(f_expr, vars=[x, y], domain=R)\n",
    "\n",
    "    dx = (R(x2) - R(x1))/n\n",
    "    dy = (R(y2) - R(y1))/n\n",
    "\n",
    "    total = R(0)\n",
    "    for i in range(n):\n",
    "        for j in range(n):\n",
    "            xi = R(x1) + i*dx\n",
    "            yj = R(y1) + j*dy\n",
    "            total += f_num(xi, yj) * dx * dy\n",
    "        \n",
    "        # Calcul du taux de complétion\n",
    "        percent = int((i / n) * 100)\n",
    "        sys.stdout.write(f\"\\rProgression : {percent}%\")\n",
    "        sys.stdout.flush()\n",
    "\n",
    "    # Calcul des bornes sur les dérivées partielles\n",
    "    max_fx, max_fy = max_partial_derivatives(f_expr, x1, x2, y1, y2, N_grid=100)\n",
    "\n",
    "    # Calcul borne d'erreur théorique\n",
    "    largeur = R(x2) - R(x1)\n",
    "    hauteur = R(y2) - R(y1)\n",
    "    error_bound = (largeur * hauteur / n) * (largeur * max_fx + hauteur * max_fy)\n",
    "\n",
    "    return total, error_bound\n",
    "\n",
    "# Exemple d'utilisation\n",
    "var('x y')\n",
    "f_expr = log(x^2+y+42)\n",
    "approx_integral, error_bound = riemann_integral(f_expr, -1, 1, -1, 1, n=100)\n",
    "\n",
    "print(f\"\\rApproximation de l'intégrale : {approx_integral}\")\n",
    "print(f\"Borne d'erreur théorique (approx.) : {error_bound}\")\n",
    "print(\"L'intégrale est contenue dans l'intervalle [\",float((approx_integral-error_bound).lower()) ,\",\",float((approx_integral+error_bound).upper()),\"]\")"
   ]
  }
 ],
 "metadata": {
  "kernelspec": {
   "display_name": "SageMath 10.5",
   "language": "sage",
   "name": "SageMath-10.5"
  },
  "language_info": {
   "codemirror_mode": {
    "name": "ipython",
    "version": 3
   },
   "file_extension": ".py",
   "mimetype": "text/x-python",
   "name": "python",
   "nbconvert_exporter": "python",
   "pygments_lexer": "ipython3",
   "version": "3.12.5"
  }
 },
 "nbformat": 4,
 "nbformat_minor": 5
}
