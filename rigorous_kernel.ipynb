{
 "cells": [
  {
   "cell_type": "markdown",
   "id": "6bca48db",
   "metadata": {},
   "source": [
    "Utiliser uniquement les fonctions dans les listes, sinon on recalcule tout à chaque fois !!!!\n",
    "\n",
    "Ré-écrire la fonction qui calcule les intégrales à l'aide de la fonction somme de riemann, pour que ça soit plus joli.\n",
    "\n",
    "Faire une version de l'intégrale avec quadrature de gauss, ou même plus simplement point milieux, rectangles, etc ... et faire une fonction globale qui cherche les bornes et l'utiliser pour donner la précision des intégrales\n",
    "\n",
    "Changer les fonction qui approximent pour leur passer directement la liste des points sur lequel on test et on prend la base, comme ça on contrôle n et tout.\n",
    "\n",
    "Utiliser taylor avec des arguments plus clairs\n",
    "\n",
    "Il faut convertir a et b et leurs dérivées en RBF/RIF quand je les initialise ? Ou peut importe car on convertit tout après ?\n",
    "\n",
    "Peut être borner rigoureusement séparemment les lambda et les phi pour avoir une borne sur le noyau ?\n",
    "\n",
    "1- Calculer le nouveau noyau  \n",
    "2- Faire un calculateur d'intégrale rigoureux avec une borne précise (et donc encore réparer les dérivées d'ordre haut)  \n",
    "3- Borner les noyaux loins de 0 pour se ramener à un rectangle  \n",
    "\n",
    "Bonus : inégalité de Poincaré pour la norme H^3 car on est sur un compact"
   ]
  },
  {
   "cell_type": "code",
   "execution_count": null,
   "id": "ade1dec0",
   "metadata": {},
   "outputs": [],
   "source": [
    "## Adding the .simplify_full() command may give cleaner functions to look at, but drastically increases the runtime (from 0.5 sec to more than 4 min), and, most importantly, causes completely unstable computations that ruin the precision (for unknown reasons).\n",
    "import time\n",
    "import numpy as np\n",
    "prec = 300\n",
    "RBF = RealBallField(prec)\n",
    "RIF = RealIntervalField(prec)\n",
    "var('x')\n",
    "assume(x, 'real')\n",
    "var('y')\n",
    "assume(y, 'real')\n",
    "\n",
    "n_derivs=10  # Number of derivatives to compute\n",
    "\n",
    "\n",
    "W = (-x/2 + sqrt(1/27 + x^2/4))^(1/3) - (x/2 + sqrt(1/27 + x^2/4))^(1/3)\n",
    "W_prime = diff(W, x)\n",
    "a = 1 + W/x + W_prime\n",
    "b = (3*x)/2 + W\n",
    "a_derivs = [a]\n",
    "a_derivs_0=[RBF(a_derivs[0].taylor(x,0))]\n",
    "b_derivs = [b]\n",
    "b_derivs_0=[RBF(b_derivs[0].taylor(x,0))]\n",
    "for k in range(1, n_derivs):\n",
    "    a_derivs.append(diff(a, x, k))\n",
    "    a_derivs_0.append(RBF(a_derivs[k].taylor(x,0)))\n",
    "    b_derivs.append(diff(b, x, k))\n",
    "    b_derivs_0.append(RBF(b_derivs[k].taylor(x,0)))\n",
    "\n",
    "\n",
    "phi_0 = -a_derivs[0] + b_derivs[1]/2 + a_derivs[2]/2 - a_derivs[4]/2 + a_derivs[6]/2\n",
    "phi_1 = -a_derivs[0] - b_derivs[1]/2 + 2*a_derivs[2] + b_derivs[3]/2 - 3*a_derivs[4] - b_derivs[5]/2\n",
    "phi_2 = -a_derivs[0] - (3/2)*b_derivs[1] + (9/2)*a_derivs[2] + (5/2)*b_derivs[3] \n",
    "phi_3 = -a_derivs[0] - (5/2)*b_derivs[1] # corresponds to the sign in the inequality\n",
    "phi_list = [phi_0, phi_1, phi_2, phi_3]\n",
    "\n",
    "phi_0_0 = -a_derivs_0[0] + b_derivs_0[1]/2 + a_derivs_0[2]/2 - a_derivs_0[4]/2 + a_derivs_0[6]/2\n",
    "phi_1_0 = -a_derivs_0[0] - b_derivs_0[1]/2 + 2*a_derivs_0[2] + b_derivs_0[3]/2 - 3*a_derivs_0[4] - b_derivs_0[5]/2\n",
    "phi_2_0 = -a_derivs_0[0] - (3/2)*b_derivs_0[1] + (9/2)*a_derivs_0[2] + (5/2)*b_derivs_0[3]\n",
    "phi_3_0 = -a_derivs_0[0] - (5/2)*b_derivs_0[1]  \n",
    "phi_list_0 = [phi_0_0, phi_1_0, phi_2_0, phi_3_0]\n",
    "\n",
    "\n",
    "# Base Fourier function\n",
    "f = (pi/4) * exp(-2*pi*abs(x)) * (2*(pi**2)*(x**2) + 3*pi*abs(x) + 3/2)\n",
    "lambda_0 = f\n",
    "lambda_1 = -diff(f, x)\n",
    "lambda_2 = -diff(f, x, 2)\n",
    "lambda_3 = 2*diff(f, x, 3)\n",
    "lambda_4 = diff(f, x, 4)\n",
    "lambda_list = [lambda_0,lambda_1,lambda_2,lambda_3,lambda_4]\n",
    "lambda_list_0 = [limit(lambda_0,x=0),limit(lambda_1,x=0),limit(lambda_2,x=0),limit(lambda_3,x=0),limit(lambda_4,x=0)]\n",
    "\n",
    "\n",
    "M_0 = (lambda_list[0](x=x - y) * phi_list[0](x=y))\n",
    "M_1 = (lambda_list[1](x=x - y) * diff(phi_list[1], x)(x=y) + lambda_list[2](x=x - y) * phi_list[1](x=y))\n",
    "M_2 = (lambda_list[3](x=x - y) * diff(diff(phi_list[2], x),x)(x=y) +lambda_list[3](x=x - y) * diff(phi_list[2], x)(x=y)+ lambda_list[4](x=x - y) * phi_list[2](x=y))\n",
    "M_list=[M_0,M_1,M_2]\n",
    "\n",
    "\n",
    "# Convert symbolic functions to numerical ones that have RealBallField/RealIntervalField for domain\n",
    "# and repair the numerical singularities at 0\n",
    "\n",
    "def smooth_fast_callable(f,x,zero_value=RBF(0)):\n",
    "    f_fast = fast_callable(f, vars=[x], domain=RBF)\n",
    "    def f_modified(ball):\n",
    "        return RBF(zero_value) if abs(RBF(ball).center()) <= 2**(-prec) else f_fast(ball) # Set the sensibility to be equal to the field precision\n",
    "    return f_modified\n",
    "\n",
    "a_funcs = [smooth_fast_callable(a_derivs[k],x,a_derivs_0[k]) for k in range(n_derivs)]\n",
    "b_funcs = [smooth_fast_callable(b_derivs[k],x,b_derivs_0[k]) for k in range(n_derivs)]\n",
    "phi_funcs = [smooth_fast_callable(phi_list[k],x,phi_list_0[k]) for k in range(4)]\n",
    "lambda_funcs = [smooth_fast_callable(lambda_list[k],x,lambda_list_0[k]) for k in range(5)]\n",
    "\n",
    "\n",
    "phi_1_d1_0=diff(phi_list[1],x).taylor(x,0)\n",
    "phi_1_d1_func=smooth_fast_callable(diff(phi_list[1],x),x,phi_1_d1_0)\n",
    "\n",
    "phi_2_d1_0=diff(phi_list[2],x).taylor(x,0)\n",
    "phi_2_d1_func=smooth_fast_callable(diff(phi_list[2],x),x,phi_2_d1_0)\n",
    "phi_2_d2_0=diff(diff(phi_list[2],x),x).taylor(x,0)\n",
    "phi_2_d2_func=smooth_fast_callable(diff(diff(phi_list[2],x),x),x,phi_2_d2_0)\n",
    "\n",
    "def M_0_func(ball1,ball2):\n",
    "   return lambda_funcs[0](ball1-ball2)*phi_funcs[0](ball2)\n",
    "    \n",
    "def M_1_func(ball1, ball2):\n",
    "    return (lambda_funcs[1](ball1-ball2) * phi_1_d1_func(ball2) + lambda_funcs[2](ball1-ball2) * phi_funcs[1](ball2))\n",
    "\n",
    "def M_2_func(ball1, ball2):\n",
    "    return (lambda_funcs[3](ball1-ball2) * phi_2_d2_func(ball2) + lambda_funcs[3](ball1-ball2) * phi_2_d1_func(ball2) + lambda_funcs[4](ball1-ball2) * phi_funcs[2](ball2))\n",
    "\n",
    "M_funcs=[M_0_func,M_1_func,M_2_func]"
   ]
  },
  {
   "cell_type": "code",
   "execution_count": null,
   "id": "9cd72c17",
   "metadata": {},
   "outputs": [],
   "source": [
    "# Compare old and new versions\n",
    "\n",
    "print(fast_callable(a_derivs[1],vars=[x],domain=RBF)(RBF(1e-30)))\n",
    "print(fast_callable(a_derivs[1],vars=[x],domain=RBF)(RBF(0)))\n",
    "print(smooth_fast_callable(a_derivs[1],x,a_derivs_0[1])(RBF(0)))\n",
    "\n",
    "print(fast_callable(M_2,vars=[x,y],domain=RBF)(RBF(pi),RBF(0)))\n",
    "print(M_2_func(RBF(pi),RBF(0)))\n",
    "\n",
    "I=RIF(-2,1)\n",
    "print(M_0_func(I,I))"
   ]
  },
  {
   "cell_type": "code",
   "execution_count": null,
   "id": "37d4ddc8",
   "metadata": {},
   "outputs": [],
   "source": [
    "plots = []\n",
    "colors = ['purple', 'red', 'blue', 'green', 'orange']\n",
    "\n",
    "for k in range(4):\n",
    "    axes_label = [r'$x$', f'$\\\\varphi_{{{k}}}(x)$']\n",
    "    p = plot(phi_funcs[k], (x, -2, 2), color=colors[k],figsize=3,\n",
    "             axes_labels=axes_label, gridlines=True)\n",
    "    plots.append(p)\n",
    "\n",
    "show(graphics_array([plots]), figsize=[15, 3])"
   ]
  },
  {
   "cell_type": "code",
   "execution_count": null,
   "id": "8de6b680",
   "metadata": {},
   "outputs": [],
   "source": [
    "plots = []\n",
    "colors = ['purple', 'red', 'blue', 'green', 'orange']\n",
    "\n",
    "for k in range(5):\n",
    "    axes_label = [r'$x$', f'$\\\\lambda_{{{k}}}(x)$']\n",
    "    p = plot(lambda_funcs[k], (x, -2, 2), color=colors[k],figsize=3,\n",
    "             axes_labels=axes_label, gridlines=True)\n",
    "    plots.append(p)\n",
    "\n",
    "show(graphics_array([plots]), figsize=[15, 3])"
   ]
  },
  {
   "cell_type": "code",
   "execution_count": null,
   "id": "3f900d71",
   "metadata": {},
   "outputs": [],
   "source": [
    "def rigorous_max_partial_derivatives(fx,fy, x1, x2, y1, y2):\n",
    "    I_x = RBF(x1, x2)\n",
    "    I_y = RBF(y1, y2)\n",
    "\n",
    "    fx_eval = RBF(fx(x=I_x, y=I_y))\n",
    "    fy_eval = RBF(fy(x=I_x, y=I_y))\n",
    "\n",
    "    fx_sup = RBF(max(abs(fx_eval.lower()), abs(fx_eval.upper())))\n",
    "    fy_sup = RBF(max(abs(fy_eval.lower()), abs(fy_eval.upper())))\n",
    "\n",
    "    return fx_sup, fy_sup\n",
    "\n",
    "#max_fx, max_fy = rigorous_max_partial_derivatives(f_expr, x1, x2, y1, y2)\n",
    "\n",
    "# Calcul borne d'erreur théorique\n",
    "# largeur = R(x2) - R(x1)\n",
    "# hauteur = R(y2) - R(y1)\n",
    "# error_bound = (largeur * hauteur / n) * (largeur * max_fx + hauteur * max_fy)\n",
    "# print(f\"Borne d'erreur théorique (approx.) : {error_bound}\")\n",
    "# print(\"L'intégrale est contenue dans l'intervalle [\",float((approx_integral-error_bound).lower()) ,\",\",float((approx_integral+error_bound).upper()),\"]\")"
   ]
  },
  {
   "cell_type": "code",
   "execution_count": 53,
   "id": "87d9e474",
   "metadata": {},
   "outputs": [],
   "source": [
    "def grid(A,n,B=NaN,offset=0):\n",
    "    if B==NaN:\n",
    "        B=A ; A=-B\n",
    "    if n==1:\n",
    "        return [A]\n",
    "    return ([A + (B-A)*(i+offset)/(n-1) for i in range(n)])\n",
    "\n",
    "def riemann_sum(f, y1, y2, n):\n",
    "    delta = (y2 - y1) / n\n",
    "    y_points = [y1 + i * delta for i in range(n)]\n",
    "    def g(x):\n",
    "        return sum(delta * f(x, y_i) for y_i in y_points)\n",
    "    return y_points,g\n",
    "\n",
    "def riemann_integral(f, x1, x2, y1, y2, n):\n",
    "\n",
    "    dx = (RBF(x2) - RBF(x1))/n\n",
    "    dy = (RBF(y2) - RBF(y1))/n\n",
    "\n",
    "    total = RBF(0)\n",
    "    for i in range(n):\n",
    "        for j in range(n):\n",
    "            xi = RBF(x1) + i*dx\n",
    "            yj = RBF(y1) + j*dy\n",
    "            total += f(xi, yj) * dx * dy\n",
    "            if f(xi,yj).is_NaN():\n",
    "                print(yj.center())\n",
    "            sys.stdout.write(f\"\\rProgression : {int(((n*i+j) / (n**2)) * 100)}%\") # Progress bar\n",
    "            sys.stdout.flush()\n",
    "    print()\n",
    "    return total "
   ]
  },
  {
   "cell_type": "code",
   "execution_count": 52,
   "id": "27184569",
   "metadata": {},
   "outputs": [
    {
     "name": "stdout",
     "output_type": "stream",
     "text": [
      "[-2, -14/9, -10/9, -2/3, -2/9, 2/9, 2/3, 10/9, 14/9, 2]\n",
      "[1, 10/9, 11/9, 4/3, 13/9, 14/9, 5/3, 16/9, 17/9, 2]\n",
      "Progression : 99%\n",
      "Approximation de l'intégrale : [1353.652778247825431729189710725344174039866515532137347610347196107651353606258248586 +/- 2.89e-82]\n"
     ]
    }
   ],
   "source": [
    "print(grid(2,10))\n",
    "print(grid(1,10,2))\n",
    "approx_integral  = riemann_integral(M_funcs[0],-1,1,-1,1, n=10)\n",
    "print(f\"\\rApproximation de l'intégrale : {approx_integral}\")"
   ]
  },
  {
   "cell_type": "code",
   "execution_count": null,
   "id": "f008c25d",
   "metadata": {},
   "outputs": [],
   "source": [
    "def K(q, center, sig):\n",
    "    return exp(-(q-center)**2/(2 * sig**2)) + exp(-(q+center)**2/(2 * sig**2))\n",
    "\n",
    "def G(q, center, sig):\n",
    "    return exp(-(q-center)**2/(2 * sig**2))\n",
    "\n",
    "def fit_num(func, basis_pts, train_pts, sigma=1/2, basis_type='G'):\n",
    "    true_vals = vector(RR, [func(x) for x in train_pts])    \n",
    "    basis_num=len(basis_pts)\n",
    "    train_num=len(train_pts)\n",
    "    var('p, q, r')\n",
    "    if basis_type == 'G':\n",
    "        fG = fast_callable(G(p, q, r), vars=[p, q, r], domain=RR)\n",
    "        M_norm = matrix(RR, train_num, basis_num, lambda i, j: fG(train_pts[i], basis_pts[j], sigma))\n",
    "    elif basis_type == 'K':\n",
    "        fG = fast_callable(K(p, q, r), vars=[p, q, r], domain=RR)\n",
    "        M_norm = matrix(RR, train_num, basis_num, lambda i, j: fG(train_pts[i], basis_pts[j], sigma))\n",
    "    \n",
    "    # use numpy least squares to fit\n",
    "    result, residual, rk, sth = np.linalg.lstsq(M_norm, true_vals, rcond=None)\n",
    "    mse = np.mean((np.dot(M_norm, result) - true_vals)**2)\n",
    "    print(f\"Mean squared error: {mse}\")\n",
    "    \n",
    "    # calculate the approximate function\n",
    "    if basis_type == 'G':\n",
    "        approx_fun = sum([result[j] * G(x, basis_pts[j], sigma) for j in range(basis_num)])\n",
    "    elif basis_type == 'K':\n",
    "        approx_fun = sum([result[j] * K(x, basis_pts[j], sigma) for j in range(basis_num)])        \n",
    "    \n",
    "    return result, approx_fun, mse"
   ]
  },
  {
   "cell_type": "code",
   "execution_count": 29,
   "id": "8ee1ab63",
   "metadata": {},
   "outputs": [
    {
     "name": "stdout",
     "output_type": "stream",
     "text": [
      "Mean squared error: 239.91576477930047\n"
     ]
    },
    {
     "data": {
      "image/png": "[encoded data removed]",
      "text/plain": [
       "Graphics object consisting of 2 graphics primitives"
      ]
     },
     "execution_count": 29,
     "metadata": {},
     "output_type": "execute_result"
    }
   ],
   "source": [
    "f=lambda_funcs[3]\n",
    "\n",
    "res, app, err = fit_num(f, basis_pts=[-10 + (2*10*i)/n_base for i in range(100)],train_pts=[-10 + (2*10*i)/n_base for i in range(200)], basis_type='G', sigma=1/12, )\n",
    "\n",
    "line1 = plot(app, (x, -10, 10),color='red')\n",
    "line2 = plot(f, (x, -10, 10),color='blue')\n",
    "line1+line2"
   ]
  },
  {
   "cell_type": "markdown",
   "id": "cf9c065b",
   "metadata": {},
   "source": [
    "We want to approximate in $H^3(\\mathbb{R})$ the kernel operator $T : f \\mapsto \\displaystyle \\int_\\mathbb{R} K(x,y)f(y)\\mathrm{d}y$ using gaussians.  \n",
    "Assuming that we can bound the kernel away from zero, we only need to find an approximation on a bounded (compact) domain $[-A,A]$, provided that the approximation also decays fast enough at infinity.  \n",
    "We first discretize the integral operator using a Riemann sum : $ T(f)(x) \\approx \\displaystyle \\sum_{i=1}^n \\delta K(x,y_i)f(y_i) $  \n",
    "Then we approximate each $K(x,y_i)$ separately using gaussians (maybe we should directly approximate the Riemann sum): $K(x,y_i) \\approx \\displaystyle \\sum_{j=1}^n c_{i,j} e^{-\\frac{(x-x_j)^2}{2\\sigma}} $  \n",
    "Finally, since $f\\mapsto f(x_i)$ is represented in $H^3(\\mathbb{R})$ by the inverse Fourier transform of $\\displaystyle \\frac{e^{2i\\pi \\xi x_i}}{(1+\\xi^2)^3}$, denoted $\\eta_{x_i}(x)$, the approximate operator can be written as :  \n",
    "$T_n : f \\mapsto \\displaystyle \\int_\\mathbb{R} K_n(x,y)f(y)\\mathrm{d}y$, where $K_n(x,y) = \\displaystyle \\sum_{i=1}^n \\sum_{j=1}^n c_{i,j} e^{ \\frac{(x-x_j)^2}{2\\sigma}}\\eta_{y_i}(y) $.\n",
    "\n",
    "We now need to numerically compute the $H^3([-A,A])$ norm of the difference with rigorous bounds, and hope that it is small enough for a not too large $n$."
   ]
  },
  {
   "cell_type": "code",
   "execution_count": null,
   "id": "26bbbd0f",
   "metadata": {},
   "outputs": [
    {
     "name": "stdout",
     "output_type": "stream",
     "text": [
      "Mean squared error: 3.127098517987118e-12\n",
      "Mean squared error: 1.3614421844614648e-10\n",
      "Mean squared error: 1.484191508440888e-09\n",
      "Mean squared error: 1.3314149924507124e-09\n",
      "Mean squared error: 3.599741452698064e-08\n",
      "Mean squared error: 5.2877099423139894e-08\n",
      "Mean squared error: 3.5997030596421525e-08\n",
      "Mean squared error: 1.3314003773210805e-09\n",
      "Mean squared error: 1.4842129201225397e-09\n",
      "Mean squared error: 1.3614037152471682e-10\n"
     ]
    }
   ],
   "source": [
    "A=1\n",
    "n_riem=10\n",
    "n_basis=200\n",
    "n_train = 300\n",
    "basis_pts=grid(A,n_basis)\n",
    "train_pts=grid(A,n_train)\n",
    "\n",
    "K=M_0_func\n",
    "\n",
    "riemann_points,approx_M = riemann_sum(K,-A,A,n_riem)\n",
    "c = [[0 for j in range(n_basis)] for i in range(n_riem)] # c[i] is the list of the coefficients of the gaussian kernel that approximates K(x,y_i)\n",
    "for i in range(n_riem):\n",
    "    coefficients, approx, err = fit_num(lambda x: K(x,riemann_points[i]), basis_pts, train_pts, sigma=1/40, basis_type='G')\n",
    "    c[i]=coefficients"
   ]
  },
  {
   "cell_type": "code",
   "execution_count": null,
   "id": "f2bfb762",
   "metadata": {},
   "outputs": [],
   "source": [
    "def compute_approx_kernel(K,A,n_riem,n_basis,n_train,sigma=1/2, basis_type='G'):\n",
    "    basis_pts=[-A + (2*A*i)/n_base for i in range(n_basis)]\n",
    "    train_pts=[-A + (2*A*i)/n_train for i in range(n_train)]\n",
    "    riemann_points,approx_M = riemann_sum(K,-A,A,n_riem)\n",
    "    c = [[0 for j in range(n_basis)] for i in range(n_riem)]\n",
    "    for i in range(n_riem):\n",
    "        coefficients, approx, err = fit_num(lambda x: K(x,riemann_points[i]), basis_pts, train_pts, sigma, basis_type)\n",
    "        c[i]=coefficients\n",
    "    def eta(x_i,x):\n",
    "        return lambda_funcs[0](x-x_i)\n",
    "    def K_approx(x,y):\n",
    "        s=RBF(0)\n",
    "        for i in range(n_riem):\n",
    "            for j in range(n_basis):\n",
    "                s+= RBF(c[i][j])*RBF(G(x, basis_pts[j], sigma))*eta(riemann_points[i],y)\n",
    "        return s\n",
    "    return K_approx"
   ]
  },
  {
   "cell_type": "code",
   "execution_count": null,
   "id": "eac6220e",
   "metadata": {},
   "outputs": [],
   "source": [
    "K=M_0_func\n",
    "\n",
    "K_n = compute_approx_kernel(K,1,10,200,300,1/40)\n",
    "\n",
    "print(riemann_integral(lambda x, y: (K(x, y) - K_n(x, y))**2, -1, 1, -1, 1, 50))\n"
   ]
  },
  {
   "cell_type": "code",
   "execution_count": null,
   "id": "29478386",
   "metadata": {},
   "outputs": [],
   "source": [
    "test_x=[-1+2*i/n for i in range(15)]\n",
    "\n",
    "test_y=[-1+2*(i+1/2)/n for i in range(15)]\n",
    "\n",
    "for x in test_x:\n",
    "    for y in test_y:\n",
    "        print(x,y,K(x,y)-K_n(x,y))"
   ]
  },
  {
   "cell_type": "code",
   "execution_count": null,
   "id": "262a5b35",
   "metadata": {},
   "outputs": [],
   "source": [
    "K=fast_callable(x^2+y^2,vars=[x,y],domain=RBF)\n",
    "\n",
    "K_n = compute_approx_kernel(K,1,10,100,200,1/40)\n",
    "\n",
    "print(riemann_integral(lambda x, y: (K(x, y) - K_n(x, y))**2, -1, 1, -1, 1, 50))"
   ]
  }
 ],
 "metadata": {
  "kernelspec": {
   "display_name": "SageMath 10.5",
   "language": "sage",
   "name": "SageMath-10.5"
  },
  "language_info": {
   "codemirror_mode": {
    "name": "ipython",
    "version": 3
   },
   "file_extension": ".py",
   "mimetype": "text/x-python",
   "name": "python",
   "nbconvert_exporter": "python",
   "pygments_lexer": "ipython3",
   "version": "3.12.5"
  }
 },
 "nbformat": 4,
 "nbformat_minor": 5
}
