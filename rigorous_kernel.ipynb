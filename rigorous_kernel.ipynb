{
 "cells": [
  {
   "cell_type": "code",
   "execution_count": null,
   "id": "6c507392",
   "metadata": {},
   "outputs": [
    {
     "data": {
      "text/html": [
       "<html>\\(\\displaystyle \\verb|a(x)|\\verb| |\\verb|=| -\\frac{{\\left(324 \\cdot 3^{\\frac{2}{3}} x^{3} - {\\left(27 \\cdot 18^{\\frac{1}{3}} 3^{\\frac{2}{3}} x^{3} + 4 \\cdot 18^{\\frac{1}{3}} 3^{\\frac{2}{3}} x\\right)} {\\left(\\sqrt{3} \\sqrt{27 \\, x^{2} + 4} - 9 \\, x\\right)}^{\\frac{2}{3}} + 48 \\cdot 3^{\\frac{2}{3}} x - 12 \\, {\\left(9 \\cdot 3^{\\frac{1}{6}} x^{2} + 3^{\\frac{1}{6}}\\right)} \\sqrt{27 \\, x^{2} + 4}\\right)} {\\left(\\sqrt{3} \\sqrt{27 \\, x^{2} + 4} + 9 \\, x\\right)}^{\\frac{2}{3}} + 12 \\, {\\left(27 \\cdot 3^{\\frac{2}{3}} x^{3} + 4 \\cdot 3^{\\frac{2}{3}} x + {\\left(9 \\cdot 3^{\\frac{1}{6}} x^{2} + 3^{\\frac{1}{6}}\\right)} \\sqrt{27 \\, x^{2} + 4}\\right)} {\\left(\\sqrt{3} \\sqrt{27 \\, x^{2} + 4} - 9 \\, x\\right)}^{\\frac{2}{3}}}{3 \\, {\\left(27 \\cdot 18^{\\frac{1}{3}} x^{3} + 4 \\cdot 18^{\\frac{1}{3}} x\\right)} {\\left(3 \\, \\sqrt{3} x + \\sqrt{27 \\, x^{2} + 4}\\right)}^{\\frac{2}{3}} {\\left(\\sqrt{3} \\sqrt{27 \\, x^{2} + 4} - 9 \\, x\\right)}^{\\frac{2}{3}}}\\)</html>"
      ],
      "text/latex": [
       "$\\displaystyle \\verb|a(x)|\\verb| |\\verb|=| -\\frac{{\\left(324 \\cdot 3^{\\frac{2}{3}} x^{3} - {\\left(27 \\cdot 18^{\\frac{1}{3}} 3^{\\frac{2}{3}} x^{3} + 4 \\cdot 18^{\\frac{1}{3}} 3^{\\frac{2}{3}} x\\right)} {\\left(\\sqrt{3} \\sqrt{27 \\, x^{2} + 4} - 9 \\, x\\right)}^{\\frac{2}{3}} + 48 \\cdot 3^{\\frac{2}{3}} x - 12 \\, {\\left(9 \\cdot 3^{\\frac{1}{6}} x^{2} + 3^{\\frac{1}{6}}\\right)} \\sqrt{27 \\, x^{2} + 4}\\right)} {\\left(\\sqrt{3} \\sqrt{27 \\, x^{2} + 4} + 9 \\, x\\right)}^{\\frac{2}{3}} + 12 \\, {\\left(27 \\cdot 3^{\\frac{2}{3}} x^{3} + 4 \\cdot 3^{\\frac{2}{3}} x + {\\left(9 \\cdot 3^{\\frac{1}{6}} x^{2} + 3^{\\frac{1}{6}}\\right)} \\sqrt{27 \\, x^{2} + 4}\\right)} {\\left(\\sqrt{3} \\sqrt{27 \\, x^{2} + 4} - 9 \\, x\\right)}^{\\frac{2}{3}}}{3 \\, {\\left(27 \\cdot 18^{\\frac{1}{3}} x^{3} + 4 \\cdot 18^{\\frac{1}{3}} x\\right)} {\\left(3 \\, \\sqrt{3} x + \\sqrt{27 \\, x^{2} + 4}\\right)}^{\\frac{2}{3}} {\\left(\\sqrt{3} \\sqrt{27 \\, x^{2} + 4} - 9 \\, x\\right)}^{\\frac{2}{3}}}$"
      ],
      "text/plain": [
       "'a(x) =' -1/3*((324*3^(2/3)*x^3 - (27*18^(1/3)*3^(2/3)*x^3 + 4*18^(1/3)*3^(2/3)*x)*(sqrt(3)*sqrt(27*x^2 + 4) - 9*x)^(2/3) + 48*3^(2/3)*x - 12*(9*3^(1/6)*x^2 + 3^(1/6))*sqrt(27*x^2 + 4))*(sqrt(3)*sqrt(27*x^2 + 4) + 9*x)^(2/3) + 12*(27*3^(2/3)*x^3 + 4*3^(2/3)*x + (9*3^(1/6)*x^2 + 3^(1/6))*sqrt(27*x^2 + 4))*(sqrt(3)*sqrt(27*x^2 + 4) - 9*x)^(2/3))/((27*18^(1/3)*x^3 + 4*18^(1/3)*x)*(3*sqrt(3)*x + sqrt(27*x^2 + 4))^(2/3)*(sqrt(3)*sqrt(27*x^2 + 4) - 9*x)^(2/3))"
      ]
     },
     "metadata": {},
     "output_type": "display_data"
    },
    {
     "data": {
      "text/html": [
       "<html>\\(\\displaystyle \\verb|b(x)|\\verb| |\\verb|=| \\frac{1}{36} \\cdot 18^{\\frac{2}{3}} {\\left(3 \\cdot 18^{\\frac{1}{3}} x - 2 \\, {\\left(\\sqrt{3} \\sqrt{27 \\, x^{2} + 4} + 9 \\, x\\right)}^{\\frac{1}{3}} + 2 \\, {\\left(\\sqrt{3} \\sqrt{27 \\, x^{2} + 4} - 9 \\, x\\right)}^{\\frac{1}{3}}\\right)}\\)</html>"
      ],
      "text/latex": [
       "$\\displaystyle \\verb|b(x)|\\verb| |\\verb|=| \\frac{1}{36} \\cdot 18^{\\frac{2}{3}} {\\left(3 \\cdot 18^{\\frac{1}{3}} x - 2 \\, {\\left(\\sqrt{3} \\sqrt{27 \\, x^{2} + 4} + 9 \\, x\\right)}^{\\frac{1}{3}} + 2 \\, {\\left(\\sqrt{3} \\sqrt{27 \\, x^{2} + 4} - 9 \\, x\\right)}^{\\frac{1}{3}}\\right)}$"
      ],
      "text/plain": [
       "'b(x) =' 1/36*18^(2/3)*(3*18^(1/3)*x - 2*(sqrt(3)*sqrt(27*x^2 + 4) + 9*x)^(1/3) + 2*(sqrt(3)*sqrt(27*x^2 + 4) - 9*x)^(1/3))"
      ]
     },
     "metadata": {},
     "output_type": "display_data"
    },
    {
     "data": {
      "text/html": [
       "<html>\\(\\displaystyle \\verb|d^1a/dx^1|\\verb| |\\verb|=| \\frac{8 \\, {\\left({\\left(729 \\cdot 3^{\\frac{1}{6}} x^{5} + 189 \\cdot 3^{\\frac{1}{6}} x^{3} - {\\left(81 \\cdot 3^{\\frac{2}{3}} x^{4} + 21 \\cdot 3^{\\frac{2}{3}} x^{2} + 2 \\cdot 3^{\\frac{2}{3}}\\right)} \\sqrt{27 \\, x^{2} + 4} + 12 \\cdot 3^{\\frac{1}{6}} x\\right)} {\\left(\\sqrt{3} \\sqrt{27 \\, x^{2} + 4} + 9 \\, x\\right)}^{\\frac{2}{3}} + {\\left(729 \\cdot 3^{\\frac{1}{6}} x^{5} + 189 \\cdot 3^{\\frac{1}{6}} x^{3} + {\\left(81 \\cdot 3^{\\frac{2}{3}} x^{4} + 21 \\cdot 3^{\\frac{2}{3}} x^{2} + 2 \\cdot 3^{\\frac{2}{3}}\\right)} \\sqrt{27 \\, x^{2} + 4} + 12 \\cdot 3^{\\frac{1}{6}} x\\right)} {\\left(\\sqrt{3} \\sqrt{27 \\, x^{2} + 4} - 9 \\, x\\right)}^{\\frac{2}{3}}\\right)}}{{\\left(729 \\cdot 18^{\\frac{1}{3}} \\sqrt{3} x^{6} + 216 \\cdot 18^{\\frac{1}{3}} \\sqrt{3} x^{4} + 16 \\cdot 18^{\\frac{1}{3}} \\sqrt{3} x^{2}\\right)} {\\left(3 \\, \\sqrt{3} x + \\sqrt{27 \\, x^{2} + 4}\\right)}^{\\frac{2}{3}} {\\left(\\sqrt{3} \\sqrt{27 \\, x^{2} + 4} - 9 \\, x\\right)}^{\\frac{2}{3}}}\\)</html>"
      ],
      "text/latex": [
       "$\\displaystyle \\verb|d^1a/dx^1|\\verb| |\\verb|=| \\frac{8 \\, {\\left({\\left(729 \\cdot 3^{\\frac{1}{6}} x^{5} + 189 \\cdot 3^{\\frac{1}{6}} x^{3} - {\\left(81 \\cdot 3^{\\frac{2}{3}} x^{4} + 21 \\cdot 3^{\\frac{2}{3}} x^{2} + 2 \\cdot 3^{\\frac{2}{3}}\\right)} \\sqrt{27 \\, x^{2} + 4} + 12 \\cdot 3^{\\frac{1}{6}} x\\right)} {\\left(\\sqrt{3} \\sqrt{27 \\, x^{2} + 4} + 9 \\, x\\right)}^{\\frac{2}{3}} + {\\left(729 \\cdot 3^{\\frac{1}{6}} x^{5} + 189 \\cdot 3^{\\frac{1}{6}} x^{3} + {\\left(81 \\cdot 3^{\\frac{2}{3}} x^{4} + 21 \\cdot 3^{\\frac{2}{3}} x^{2} + 2 \\cdot 3^{\\frac{2}{3}}\\right)} \\sqrt{27 \\, x^{2} + 4} + 12 \\cdot 3^{\\frac{1}{6}} x\\right)} {\\left(\\sqrt{3} \\sqrt{27 \\, x^{2} + 4} - 9 \\, x\\right)}^{\\frac{2}{3}}\\right)}}{{\\left(729 \\cdot 18^{\\frac{1}{3}} \\sqrt{3} x^{6} + 216 \\cdot 18^{\\frac{1}{3}} \\sqrt{3} x^{4} + 16 \\cdot 18^{\\frac{1}{3}} \\sqrt{3} x^{2}\\right)} {\\left(3 \\, \\sqrt{3} x + \\sqrt{27 \\, x^{2} + 4}\\right)}^{\\frac{2}{3}} {\\left(\\sqrt{3} \\sqrt{27 \\, x^{2} + 4} - 9 \\, x\\right)}^{\\frac{2}{3}}}$"
      ],
      "text/plain": [
       "'d^1a/dx^1 =' 8*((729*3^(1/6)*x^5 + 189*3^(1/6)*x^3 - (81*3^(2/3)*x^4 + 21*3^(2/3)*x^2 + 2*3^(2/3))*sqrt(27*x^2 + 4) + 12*3^(1/6)*x)*(sqrt(3)*sqrt(27*x^2 + 4) + 9*x)^(2/3) + (729*3^(1/6)*x^5 + 189*3^(1/6)*x^3 + (81*3^(2/3)*x^4 + 21*3^(2/3)*x^2 + 2*3^(2/3))*sqrt(27*x^2 + 4) + 12*3^(1/6)*x)*(sqrt(3)*sqrt(27*x^2 + 4) - 9*x)^(2/3))/((729*18^(1/3)*sqrt(3)*x^6 + 216*18^(1/3)*sqrt(3)*x^4 + 16*18^(1/3)*sqrt(3)*x^2)*(3*sqrt(3)*x + sqrt(27*x^2 + 4))^(2/3)*(sqrt(3)*sqrt(27*x^2 + 4) - 9*x)^(2/3))"
      ]
     },
     "metadata": {},
     "output_type": "display_data"
    },
    {
     "data": {
      "text/html": [
       "<html>\\(\\displaystyle \\verb|d^1b/dx^1|\\verb| |\\verb|=| -\\frac{{\\left(54 \\cdot 3^{\\frac{2}{3}} x^{2} - {\\left(27 \\cdot 18^{\\frac{1}{3}} 3^{\\frac{2}{3}} x^{2} + 4 \\cdot 18^{\\frac{1}{3}} 3^{\\frac{2}{3}}\\right)} {\\left(\\sqrt{3} \\sqrt{27 \\, x^{2} + 4} - 9 \\, x\\right)}^{\\frac{2}{3}} - 18 \\cdot 3^{\\frac{1}{6}} \\sqrt{27 \\, x^{2} + 4} x + 8 \\cdot 3^{\\frac{2}{3}}\\right)} {\\left(\\sqrt{3} \\sqrt{27 \\, x^{2} + 4} + 9 \\, x\\right)}^{\\frac{2}{3}} + 2 \\, {\\left(27 \\cdot 3^{\\frac{2}{3}} x^{2} + 9 \\cdot 3^{\\frac{1}{6}} \\sqrt{27 \\, x^{2} + 4} x + 4 \\cdot 3^{\\frac{2}{3}}\\right)} {\\left(\\sqrt{3} \\sqrt{27 \\, x^{2} + 4} - 9 \\, x\\right)}^{\\frac{2}{3}}}{2 \\, {\\left(27 \\cdot 18^{\\frac{1}{3}} x^{2} + 4 \\cdot 18^{\\frac{1}{3}}\\right)} {\\left(3 \\, \\sqrt{3} x + \\sqrt{27 \\, x^{2} + 4}\\right)}^{\\frac{2}{3}} {\\left(\\sqrt{3} \\sqrt{27 \\, x^{2} + 4} - 9 \\, x\\right)}^{\\frac{2}{3}}}\\)</html>"
      ],
      "text/latex": [
       "$\\displaystyle \\verb|d^1b/dx^1|\\verb| |\\verb|=| -\\frac{{\\left(54 \\cdot 3^{\\frac{2}{3}} x^{2} - {\\left(27 \\cdot 18^{\\frac{1}{3}} 3^{\\frac{2}{3}} x^{2} + 4 \\cdot 18^{\\frac{1}{3}} 3^{\\frac{2}{3}}\\right)} {\\left(\\sqrt{3} \\sqrt{27 \\, x^{2} + 4} - 9 \\, x\\right)}^{\\frac{2}{3}} - 18 \\cdot 3^{\\frac{1}{6}} \\sqrt{27 \\, x^{2} + 4} x + 8 \\cdot 3^{\\frac{2}{3}}\\right)} {\\left(\\sqrt{3} \\sqrt{27 \\, x^{2} + 4} + 9 \\, x\\right)}^{\\frac{2}{3}} + 2 \\, {\\left(27 \\cdot 3^{\\frac{2}{3}} x^{2} + 9 \\cdot 3^{\\frac{1}{6}} \\sqrt{27 \\, x^{2} + 4} x + 4 \\cdot 3^{\\frac{2}{3}}\\right)} {\\left(\\sqrt{3} \\sqrt{27 \\, x^{2} + 4} - 9 \\, x\\right)}^{\\frac{2}{3}}}{2 \\, {\\left(27 \\cdot 18^{\\frac{1}{3}} x^{2} + 4 \\cdot 18^{\\frac{1}{3}}\\right)} {\\left(3 \\, \\sqrt{3} x + \\sqrt{27 \\, x^{2} + 4}\\right)}^{\\frac{2}{3}} {\\left(\\sqrt{3} \\sqrt{27 \\, x^{2} + 4} - 9 \\, x\\right)}^{\\frac{2}{3}}}$"
      ],
      "text/plain": [
       "'d^1b/dx^1 =' -1/2*((54*3^(2/3)*x^2 - (27*18^(1/3)*3^(2/3)*x^2 + 4*18^(1/3)*3^(2/3))*(sqrt(3)*sqrt(27*x^2 + 4) - 9*x)^(2/3) - 18*3^(1/6)*sqrt(27*x^2 + 4)*x + 8*3^(2/3))*(sqrt(3)*sqrt(27*x^2 + 4) + 9*x)^(2/3) + 2*(27*3^(2/3)*x^2 + 9*3^(1/6)*sqrt(27*x^2 + 4)*x + 4*3^(2/3))*(sqrt(3)*sqrt(27*x^2 + 4) - 9*x)^(2/3))/((27*18^(1/3)*x^2 + 4*18^(1/3))*(3*sqrt(3)*x + sqrt(27*x^2 + 4))^(2/3)*(sqrt(3)*sqrt(27*x^2 + 4) - 9*x)^(2/3))"
      ]
     },
     "metadata": {},
     "output_type": "display_data"
    },
    {
     "data": {
      "text/html": [
       "<html>\\(\\displaystyle \\verb|d^2a/dx^2|\\verb| |\\verb|=| -\\frac{8 \\, {\\left({\\left(32805 \\, x^{7} + 11907 \\, x^{5} + 1692 \\, x^{3} - {\\left(3645 \\, \\sqrt{3} x^{6} + 1431 \\, \\sqrt{3} x^{4} + 294 \\, \\sqrt{3} x^{2} + 16 \\, \\sqrt{3}\\right)} \\sqrt{27 \\, x^{2} + 4} + 96 \\, x\\right)} {\\left(3 \\, \\sqrt{3} x + \\sqrt{27 \\, x^{2} + 4}\\right)}^{\\frac{2}{3}} + {\\left(10935 \\cdot 3^{\\frac{2}{3}} x^{7} + 3969 \\cdot 3^{\\frac{2}{3}} x^{5} + 564 \\cdot 3^{\\frac{2}{3}} x^{3} + 32 \\cdot 3^{\\frac{2}{3}} x + {\\left(3645 \\cdot 3^{\\frac{1}{6}} x^{6} + 1431 \\cdot 3^{\\frac{1}{6}} x^{4} + 294 \\cdot 3^{\\frac{1}{6}} x^{2} + 16 \\cdot 3^{\\frac{1}{6}}\\right)} \\sqrt{27 \\, x^{2} + 4}\\right)} {\\left(\\sqrt{3} \\sqrt{27 \\, x^{2} + 4} - 9 \\, x\\right)}^{\\frac{2}{3}}\\right)}}{{\\left(19683 \\cdot 18^{\\frac{1}{3}} x^{9} + 8748 \\cdot 18^{\\frac{1}{3}} x^{7} + 1296 \\cdot 18^{\\frac{1}{3}} x^{5} + 64 \\cdot 18^{\\frac{1}{3}} x^{3}\\right)} {\\left(3 \\, \\sqrt{3} x + \\sqrt{27 \\, x^{2} + 4}\\right)}^{\\frac{2}{3}} {\\left(\\sqrt{3} \\sqrt{27 \\, x^{2} + 4} - 9 \\, x\\right)}^{\\frac{2}{3}}}\\)</html>"
      ],
      "text/latex": [
       "$\\displaystyle \\verb|d^2a/dx^2|\\verb| |\\verb|=| -\\frac{8 \\, {\\left({\\left(32805 \\, x^{7} + 11907 \\, x^{5} + 1692 \\, x^{3} - {\\left(3645 \\, \\sqrt{3} x^{6} + 1431 \\, \\sqrt{3} x^{4} + 294 \\, \\sqrt{3} x^{2} + 16 \\, \\sqrt{3}\\right)} \\sqrt{27 \\, x^{2} + 4} + 96 \\, x\\right)} {\\left(3 \\, \\sqrt{3} x + \\sqrt{27 \\, x^{2} + 4}\\right)}^{\\frac{2}{3}} + {\\left(10935 \\cdot 3^{\\frac{2}{3}} x^{7} + 3969 \\cdot 3^{\\frac{2}{3}} x^{5} + 564 \\cdot 3^{\\frac{2}{3}} x^{3} + 32 \\cdot 3^{\\frac{2}{3}} x + {\\left(3645 \\cdot 3^{\\frac{1}{6}} x^{6} + 1431 \\cdot 3^{\\frac{1}{6}} x^{4} + 294 \\cdot 3^{\\frac{1}{6}} x^{2} + 16 \\cdot 3^{\\frac{1}{6}}\\right)} \\sqrt{27 \\, x^{2} + 4}\\right)} {\\left(\\sqrt{3} \\sqrt{27 \\, x^{2} + 4} - 9 \\, x\\right)}^{\\frac{2}{3}}\\right)}}{{\\left(19683 \\cdot 18^{\\frac{1}{3}} x^{9} + 8748 \\cdot 18^{\\frac{1}{3}} x^{7} + 1296 \\cdot 18^{\\frac{1}{3}} x^{5} + 64 \\cdot 18^{\\frac{1}{3}} x^{3}\\right)} {\\left(3 \\, \\sqrt{3} x + \\sqrt{27 \\, x^{2} + 4}\\right)}^{\\frac{2}{3}} {\\left(\\sqrt{3} \\sqrt{27 \\, x^{2} + 4} - 9 \\, x\\right)}^{\\frac{2}{3}}}$"
      ],
      "text/plain": [
       "'d^2a/dx^2 =' -8*((32805*x^7 + 11907*x^5 + 1692*x^3 - (3645*sqrt(3)*x^6 + 1431*sqrt(3)*x^4 + 294*sqrt(3)*x^2 + 16*sqrt(3))*sqrt(27*x^2 + 4) + 96*x)*(3*sqrt(3)*x + sqrt(27*x^2 + 4))^(2/3) + (10935*3^(2/3)*x^7 + 3969*3^(2/3)*x^5 + 564*3^(2/3)*x^3 + 32*3^(2/3)*x + (3645*3^(1/6)*x^6 + 1431*3^(1/6)*x^4 + 294*3^(1/6)*x^2 + 16*3^(1/6))*sqrt(27*x^2 + 4))*(sqrt(3)*sqrt(27*x^2 + 4) - 9*x)^(2/3))/((19683*18^(1/3)*x^9 + 8748*18^(1/3)*x^7 + 1296*18^(1/3)*x^5 + 64*18^(1/3)*x^3)*(3*sqrt(3)*x + sqrt(27*x^2 + 4))^(2/3)*(sqrt(3)*sqrt(27*x^2 + 4) - 9*x)^(2/3))"
      ]
     },
     "metadata": {},
     "output_type": "display_data"
    },
    {
     "data": {
      "text/html": [
       "<html>\\(\\displaystyle \\verb|d^2b/dx^2|\\verb| |\\verb|=| \\frac{6 \\, {\\left({\\left(243 \\cdot 3^{\\frac{1}{6}} x^{3} - {\\left(27 \\cdot 3^{\\frac{2}{3}} x^{2} - 2 \\cdot 3^{\\frac{2}{3}}\\right)} \\sqrt{27 \\, x^{2} + 4} + 36 \\cdot 3^{\\frac{1}{6}} x\\right)} {\\left(\\sqrt{3} \\sqrt{27 \\, x^{2} + 4} + 9 \\, x\\right)}^{\\frac{2}{3}} + {\\left(243 \\cdot 3^{\\frac{1}{6}} x^{3} + {\\left(27 \\cdot 3^{\\frac{2}{3}} x^{2} - 2 \\cdot 3^{\\frac{2}{3}}\\right)} \\sqrt{27 \\, x^{2} + 4} + 36 \\cdot 3^{\\frac{1}{6}} x\\right)} {\\left(\\sqrt{3} \\sqrt{27 \\, x^{2} + 4} - 9 \\, x\\right)}^{\\frac{2}{3}}\\right)}}{{\\left(729 \\cdot 18^{\\frac{1}{3}} \\sqrt{3} x^{4} + 216 \\cdot 18^{\\frac{1}{3}} \\sqrt{3} x^{2} + 16 \\cdot 18^{\\frac{1}{3}} \\sqrt{3}\\right)} {\\left(3 \\, \\sqrt{3} x + \\sqrt{27 \\, x^{2} + 4}\\right)}^{\\frac{2}{3}} {\\left(\\sqrt{3} \\sqrt{27 \\, x^{2} + 4} - 9 \\, x\\right)}^{\\frac{2}{3}}}\\)</html>"
      ],
      "text/latex": [
       "$\\displaystyle \\verb|d^2b/dx^2|\\verb| |\\verb|=| \\frac{6 \\, {\\left({\\left(243 \\cdot 3^{\\frac{1}{6}} x^{3} - {\\left(27 \\cdot 3^{\\frac{2}{3}} x^{2} - 2 \\cdot 3^{\\frac{2}{3}}\\right)} \\sqrt{27 \\, x^{2} + 4} + 36 \\cdot 3^{\\frac{1}{6}} x\\right)} {\\left(\\sqrt{3} \\sqrt{27 \\, x^{2} + 4} + 9 \\, x\\right)}^{\\frac{2}{3}} + {\\left(243 \\cdot 3^{\\frac{1}{6}} x^{3} + {\\left(27 \\cdot 3^{\\frac{2}{3}} x^{2} - 2 \\cdot 3^{\\frac{2}{3}}\\right)} \\sqrt{27 \\, x^{2} + 4} + 36 \\cdot 3^{\\frac{1}{6}} x\\right)} {\\left(\\sqrt{3} \\sqrt{27 \\, x^{2} + 4} - 9 \\, x\\right)}^{\\frac{2}{3}}\\right)}}{{\\left(729 \\cdot 18^{\\frac{1}{3}} \\sqrt{3} x^{4} + 216 \\cdot 18^{\\frac{1}{3}} \\sqrt{3} x^{2} + 16 \\cdot 18^{\\frac{1}{3}} \\sqrt{3}\\right)} {\\left(3 \\, \\sqrt{3} x + \\sqrt{27 \\, x^{2} + 4}\\right)}^{\\frac{2}{3}} {\\left(\\sqrt{3} \\sqrt{27 \\, x^{2} + 4} - 9 \\, x\\right)}^{\\frac{2}{3}}}$"
      ],
      "text/plain": [
       "'d^2b/dx^2 =' 6*((243*3^(1/6)*x^3 - (27*3^(2/3)*x^2 - 2*3^(2/3))*sqrt(27*x^2 + 4) + 36*3^(1/6)*x)*(sqrt(3)*sqrt(27*x^2 + 4) + 9*x)^(2/3) + (243*3^(1/6)*x^3 + (27*3^(2/3)*x^2 - 2*3^(2/3))*sqrt(27*x^2 + 4) + 36*3^(1/6)*x)*(sqrt(3)*sqrt(27*x^2 + 4) - 9*x)^(2/3))/((729*18^(1/3)*sqrt(3)*x^4 + 216*18^(1/3)*sqrt(3)*x^2 + 16*18^(1/3)*sqrt(3))*(3*sqrt(3)*x + sqrt(27*x^2 + 4))^(2/3)*(sqrt(3)*sqrt(27*x^2 + 4) - 9*x)^(2/3))"
      ]
     },
     "metadata": {},
     "output_type": "display_data"
    },
    {
     "data": {
      "text/html": [
       "<html>\\(\\displaystyle \\verb|d^3a/dx^3|\\verb| |\\verb|=| \\frac{48 \\, {\\left(3 \\, {\\left(131220 \\, \\sqrt{3} x^{9} + 60021 \\, \\sqrt{3} x^{7} + 14490 \\, \\sqrt{3} x^{5} + 1688 \\, \\sqrt{3} x^{3} - {\\left(43740 \\, x^{8} + 22437 \\, x^{6} + 7548 \\, x^{4} + 804 \\, x^{2} + 32\\right)} \\sqrt{27 \\, x^{2} + 4} + 64 \\, \\sqrt{3} x\\right)} {\\left(3 \\, \\sqrt{3} x + \\sqrt{27 \\, x^{2} + 4}\\right)}^{\\frac{2}{3}} + {\\left(393660 \\cdot 3^{\\frac{1}{6}} x^{9} + 180063 \\cdot 3^{\\frac{1}{6}} x^{7} + 43470 \\cdot 3^{\\frac{1}{6}} x^{5} + 5064 \\cdot 3^{\\frac{1}{6}} x^{3} + {\\left(43740 \\cdot 3^{\\frac{2}{3}} x^{8} + 22437 \\cdot 3^{\\frac{2}{3}} x^{6} + 7548 \\cdot 3^{\\frac{2}{3}} x^{4} + 804 \\cdot 3^{\\frac{2}{3}} x^{2} + 32 \\cdot 3^{\\frac{2}{3}}\\right)} \\sqrt{27 \\, x^{2} + 4} + 192 \\cdot 3^{\\frac{1}{6}} x\\right)} {\\left(\\sqrt{3} \\sqrt{27 \\, x^{2} + 4} - 9 \\, x\\right)}^{\\frac{2}{3}}\\right)}}{{\\left(531441 \\cdot 18^{\\frac{1}{3}} \\sqrt{3} x^{12} + 314928 \\cdot 18^{\\frac{1}{3}} \\sqrt{3} x^{10} + 69984 \\cdot 18^{\\frac{1}{3}} \\sqrt{3} x^{8} + 6912 \\cdot 18^{\\frac{1}{3}} \\sqrt{3} x^{6} + 256 \\cdot 18^{\\frac{1}{3}} \\sqrt{3} x^{4}\\right)} {\\left(3 \\, \\sqrt{3} x + \\sqrt{27 \\, x^{2} + 4}\\right)}^{\\frac{2}{3}} {\\left(\\sqrt{3} \\sqrt{27 \\, x^{2} + 4} - 9 \\, x\\right)}^{\\frac{2}{3}}}\\)</html>"
      ],
      "text/latex": [
       "$\\displaystyle \\verb|d^3a/dx^3|\\verb| |\\verb|=| \\frac{48 \\, {\\left(3 \\, {\\left(131220 \\, \\sqrt{3} x^{9} + 60021 \\, \\sqrt{3} x^{7} + 14490 \\, \\sqrt{3} x^{5} + 1688 \\, \\sqrt{3} x^{3} - {\\left(43740 \\, x^{8} + 22437 \\, x^{6} + 7548 \\, x^{4} + 804 \\, x^{2} + 32\\right)} \\sqrt{27 \\, x^{2} + 4} + 64 \\, \\sqrt{3} x\\right)} {\\left(3 \\, \\sqrt{3} x + \\sqrt{27 \\, x^{2} + 4}\\right)}^{\\frac{2}{3}} + {\\left(393660 \\cdot 3^{\\frac{1}{6}} x^{9} + 180063 \\cdot 3^{\\frac{1}{6}} x^{7} + 43470 \\cdot 3^{\\frac{1}{6}} x^{5} + 5064 \\cdot 3^{\\frac{1}{6}} x^{3} + {\\left(43740 \\cdot 3^{\\frac{2}{3}} x^{8} + 22437 \\cdot 3^{\\frac{2}{3}} x^{6} + 7548 \\cdot 3^{\\frac{2}{3}} x^{4} + 804 \\cdot 3^{\\frac{2}{3}} x^{2} + 32 \\cdot 3^{\\frac{2}{3}}\\right)} \\sqrt{27 \\, x^{2} + 4} + 192 \\cdot 3^{\\frac{1}{6}} x\\right)} {\\left(\\sqrt{3} \\sqrt{27 \\, x^{2} + 4} - 9 \\, x\\right)}^{\\frac{2}{3}}\\right)}}{{\\left(531441 \\cdot 18^{\\frac{1}{3}} \\sqrt{3} x^{12} + 314928 \\cdot 18^{\\frac{1}{3}} \\sqrt{3} x^{10} + 69984 \\cdot 18^{\\frac{1}{3}} \\sqrt{3} x^{8} + 6912 \\cdot 18^{\\frac{1}{3}} \\sqrt{3} x^{6} + 256 \\cdot 18^{\\frac{1}{3}} \\sqrt{3} x^{4}\\right)} {\\left(3 \\, \\sqrt{3} x + \\sqrt{27 \\, x^{2} + 4}\\right)}^{\\frac{2}{3}} {\\left(\\sqrt{3} \\sqrt{27 \\, x^{2} + 4} - 9 \\, x\\right)}^{\\frac{2}{3}}}$"
      ],
      "text/plain": [
       "'d^3a/dx^3 =' 48*(3*(131220*sqrt(3)*x^9 + 60021*sqrt(3)*x^7 + 14490*sqrt(3)*x^5 + 1688*sqrt(3)*x^3 - (43740*x^8 + 22437*x^6 + 7548*x^4 + 804*x^2 + 32)*sqrt(27*x^2 + 4) + 64*sqrt(3)*x)*(3*sqrt(3)*x + sqrt(27*x^2 + 4))^(2/3) + (393660*3^(1/6)*x^9 + 180063*3^(1/6)*x^7 + 43470*3^(1/6)*x^5 + 5064*3^(1/6)*x^3 + (43740*3^(2/3)*x^8 + 22437*3^(2/3)*x^6 + 7548*3^(2/3)*x^4 + 804*3^(2/3)*x^2 + 32*3^(2/3))*sqrt(27*x^2 + 4) + 192*3^(1/6)*x)*(sqrt(3)*sqrt(27*x^2 + 4) - 9*x)^(2/3))/((531441*18^(1/3)*sqrt(3)*x^12 + 314928*18^(1/3)*sqrt(3)*x^10 + 69984*18^(1/3)*sqrt(3)*x^8 + 6912*18^(1/3)*sqrt(3)*x^6 + 256*18^(1/3)*sqrt(3)*x^4)*(3*sqrt(3)*x + sqrt(27*x^2 + 4))^(2/3)*(sqrt(3)*sqrt(27*x^2 + 4) - 9*x)^(2/3))"
      ]
     },
     "metadata": {},
     "output_type": "display_data"
    },
    {
     "data": {
      "text/html": [
       "<html>\\(\\displaystyle \\verb|d^3b/dx^3|\\verb| |\\verb|=| -\\frac{6 \\, {\\left(3 \\, {\\left(3645 \\, x^{4} + 108 \\, x^{2} - 3 \\, {\\left(135 \\, \\sqrt{3} x^{3} - 34 \\, \\sqrt{3} x\\right)} \\sqrt{27 \\, x^{2} + 4} - 64\\right)} {\\left(3 \\, \\sqrt{3} x + \\sqrt{27 \\, x^{2} + 4}\\right)}^{\\frac{2}{3}} + {\\left(3645 \\cdot 3^{\\frac{2}{3}} x^{4} + 108 \\cdot 3^{\\frac{2}{3}} x^{2} + 9 \\, {\\left(135 \\cdot 3^{\\frac{1}{6}} x^{3} - 34 \\cdot 3^{\\frac{1}{6}} x\\right)} \\sqrt{27 \\, x^{2} + 4} - 64 \\cdot 3^{\\frac{2}{3}}\\right)} {\\left(\\sqrt{3} \\sqrt{27 \\, x^{2} + 4} - 9 \\, x\\right)}^{\\frac{2}{3}}\\right)}}{{\\left(19683 \\cdot 18^{\\frac{1}{3}} x^{6} + 8748 \\cdot 18^{\\frac{1}{3}} x^{4} + 1296 \\cdot 18^{\\frac{1}{3}} x^{2} + 64 \\cdot 18^{\\frac{1}{3}}\\right)} {\\left(3 \\, \\sqrt{3} x + \\sqrt{27 \\, x^{2} + 4}\\right)}^{\\frac{2}{3}} {\\left(\\sqrt{3} \\sqrt{27 \\, x^{2} + 4} - 9 \\, x\\right)}^{\\frac{2}{3}}}\\)</html>"
      ],
      "text/latex": [
       "$\\displaystyle \\verb|d^3b/dx^3|\\verb| |\\verb|=| -\\frac{6 \\, {\\left(3 \\, {\\left(3645 \\, x^{4} + 108 \\, x^{2} - 3 \\, {\\left(135 \\, \\sqrt{3} x^{3} - 34 \\, \\sqrt{3} x\\right)} \\sqrt{27 \\, x^{2} + 4} - 64\\right)} {\\left(3 \\, \\sqrt{3} x + \\sqrt{27 \\, x^{2} + 4}\\right)}^{\\frac{2}{3}} + {\\left(3645 \\cdot 3^{\\frac{2}{3}} x^{4} + 108 \\cdot 3^{\\frac{2}{3}} x^{2} + 9 \\, {\\left(135 \\cdot 3^{\\frac{1}{6}} x^{3} - 34 \\cdot 3^{\\frac{1}{6}} x\\right)} \\sqrt{27 \\, x^{2} + 4} - 64 \\cdot 3^{\\frac{2}{3}}\\right)} {\\left(\\sqrt{3} \\sqrt{27 \\, x^{2} + 4} - 9 \\, x\\right)}^{\\frac{2}{3}}\\right)}}{{\\left(19683 \\cdot 18^{\\frac{1}{3}} x^{6} + 8748 \\cdot 18^{\\frac{1}{3}} x^{4} + 1296 \\cdot 18^{\\frac{1}{3}} x^{2} + 64 \\cdot 18^{\\frac{1}{3}}\\right)} {\\left(3 \\, \\sqrt{3} x + \\sqrt{27 \\, x^{2} + 4}\\right)}^{\\frac{2}{3}} {\\left(\\sqrt{3} \\sqrt{27 \\, x^{2} + 4} - 9 \\, x\\right)}^{\\frac{2}{3}}}$"
      ],
      "text/plain": [
       "'d^3b/dx^3 =' -6*(3*(3645*x^4 + 108*x^2 - 3*(135*sqrt(3)*x^3 - 34*sqrt(3)*x)*sqrt(27*x^2 + 4) - 64)*(3*sqrt(3)*x + sqrt(27*x^2 + 4))^(2/3) + (3645*3^(2/3)*x^4 + 108*3^(2/3)*x^2 + 9*(135*3^(1/6)*x^3 - 34*3^(1/6)*x)*sqrt(27*x^2 + 4) - 64*3^(2/3))*(sqrt(3)*sqrt(27*x^2 + 4) - 9*x)^(2/3))/((19683*18^(1/3)*x^6 + 8748*18^(1/3)*x^4 + 1296*18^(1/3)*x^2 + 64*18^(1/3))*(3*sqrt(3)*x + sqrt(27*x^2 + 4))^(2/3)*(sqrt(3)*sqrt(27*x^2 + 4) - 9*x)^(2/3))"
      ]
     },
     "metadata": {},
     "output_type": "display_data"
    },
    {
     "data": {
      "text/html": [
       "<html>\\(\\displaystyle \\verb|d^4a/dx^4|\\verb| |\\verb|=| -\\frac{48 \\, {\\left({\\left(38972340 \\, x^{11} + 21119859 \\, x^{9} + 7816338 \\, x^{7} + 1368072 \\, x^{5} + 101760 \\, x^{3} - {\\left(4330260 \\, \\sqrt{3} x^{10} + 2689281 \\, \\sqrt{3} x^{8} + 1334016 \\, \\sqrt{3} x^{6} + 205500 \\, \\sqrt{3} x^{4} + 16320 \\, \\sqrt{3} x^{2} + 512 \\, \\sqrt{3}\\right)} \\sqrt{27 \\, x^{2} + 4} + 3072 \\, x\\right)} {\\left(3 \\, \\sqrt{3} x + \\sqrt{27 \\, x^{2} + 4}\\right)}^{\\frac{2}{3}} + {\\left(12990780 \\cdot 3^{\\frac{2}{3}} x^{11} + 7039953 \\cdot 3^{\\frac{2}{3}} x^{9} + 2605446 \\cdot 3^{\\frac{2}{3}} x^{7} + 456024 \\cdot 3^{\\frac{2}{3}} x^{5} + 33920 \\cdot 3^{\\frac{2}{3}} x^{3} + 1024 \\cdot 3^{\\frac{2}{3}} x + {\\left(4330260 \\cdot 3^{\\frac{1}{6}} x^{10} + 2689281 \\cdot 3^{\\frac{1}{6}} x^{8} + 1334016 \\cdot 3^{\\frac{1}{6}} x^{6} + 205500 \\cdot 3^{\\frac{1}{6}} x^{4} + 16320 \\cdot 3^{\\frac{1}{6}} x^{2} + 512 \\cdot 3^{\\frac{1}{6}}\\right)} \\sqrt{27 \\, x^{2} + 4}\\right)} {\\left(\\sqrt{3} \\sqrt{27 \\, x^{2} + 4} - 9 \\, x\\right)}^{\\frac{2}{3}}\\right)}}{{\\left(14348907 \\cdot 18^{\\frac{1}{3}} x^{15} + 10628820 \\cdot 18^{\\frac{1}{3}} x^{13} + 3149280 \\cdot 18^{\\frac{1}{3}} x^{11} + 466560 \\cdot 18^{\\frac{1}{3}} x^{9} + 34560 \\cdot 18^{\\frac{1}{3}} x^{7} + 1024 \\cdot 18^{\\frac{1}{3}} x^{5}\\right)} {\\left(3 \\, \\sqrt{3} x + \\sqrt{27 \\, x^{2} + 4}\\right)}^{\\frac{2}{3}} {\\left(\\sqrt{3} \\sqrt{27 \\, x^{2} + 4} - 9 \\, x\\right)}^{\\frac{2}{3}}}\\)</html>"
      ],
      "text/latex": [
       "$\\displaystyle \\verb|d^4a/dx^4|\\verb| |\\verb|=| -\\frac{48 \\, {\\left({\\left(38972340 \\, x^{11} + 21119859 \\, x^{9} + 7816338 \\, x^{7} + 1368072 \\, x^{5} + 101760 \\, x^{3} - {\\left(4330260 \\, \\sqrt{3} x^{10} + 2689281 \\, \\sqrt{3} x^{8} + 1334016 \\, \\sqrt{3} x^{6} + 205500 \\, \\sqrt{3} x^{4} + 16320 \\, \\sqrt{3} x^{2} + 512 \\, \\sqrt{3}\\right)} \\sqrt{27 \\, x^{2} + 4} + 3072 \\, x\\right)} {\\left(3 \\, \\sqrt{3} x + \\sqrt{27 \\, x^{2} + 4}\\right)}^{\\frac{2}{3}} + {\\left(12990780 \\cdot 3^{\\frac{2}{3}} x^{11} + 7039953 \\cdot 3^{\\frac{2}{3}} x^{9} + 2605446 \\cdot 3^{\\frac{2}{3}} x^{7} + 456024 \\cdot 3^{\\frac{2}{3}} x^{5} + 33920 \\cdot 3^{\\frac{2}{3}} x^{3} + 1024 \\cdot 3^{\\frac{2}{3}} x + {\\left(4330260 \\cdot 3^{\\frac{1}{6}} x^{10} + 2689281 \\cdot 3^{\\frac{1}{6}} x^{8} + 1334016 \\cdot 3^{\\frac{1}{6}} x^{6} + 205500 \\cdot 3^{\\frac{1}{6}} x^{4} + 16320 \\cdot 3^{\\frac{1}{6}} x^{2} + 512 \\cdot 3^{\\frac{1}{6}}\\right)} \\sqrt{27 \\, x^{2} + 4}\\right)} {\\left(\\sqrt{3} \\sqrt{27 \\, x^{2} + 4} - 9 \\, x\\right)}^{\\frac{2}{3}}\\right)}}{{\\left(14348907 \\cdot 18^{\\frac{1}{3}} x^{15} + 10628820 \\cdot 18^{\\frac{1}{3}} x^{13} + 3149280 \\cdot 18^{\\frac{1}{3}} x^{11} + 466560 \\cdot 18^{\\frac{1}{3}} x^{9} + 34560 \\cdot 18^{\\frac{1}{3}} x^{7} + 1024 \\cdot 18^{\\frac{1}{3}} x^{5}\\right)} {\\left(3 \\, \\sqrt{3} x + \\sqrt{27 \\, x^{2} + 4}\\right)}^{\\frac{2}{3}} {\\left(\\sqrt{3} \\sqrt{27 \\, x^{2} + 4} - 9 \\, x\\right)}^{\\frac{2}{3}}}$"
      ],
      "text/plain": [
       "'d^4a/dx^4 =' -48*((38972340*x^11 + 21119859*x^9 + 7816338*x^7 + 1368072*x^5 + 101760*x^3 - (4330260*sqrt(3)*x^10 + 2689281*sqrt(3)*x^8 + 1334016*sqrt(3)*x^6 + 205500*sqrt(3)*x^4 + 16320*sqrt(3)*x^2 + 512*sqrt(3))*sqrt(27*x^2 + 4) + 3072*x)*(3*sqrt(3)*x + sqrt(27*x^2 + 4))^(2/3) + (12990780*3^(2/3)*x^11 + 7039953*3^(2/3)*x^9 + 2605446*3^(2/3)*x^7 + 456024*3^(2/3)*x^5 + 33920*3^(2/3)*x^3 + 1024*3^(2/3)*x + (4330260*3^(1/6)*x^10 + 2689281*3^(1/6)*x^8 + 1334016*3^(1/6)*x^6 + 205500*3^(1/6)*x^4 + 16320*3^(1/6)*x^2 + 512*3^(1/6))*sqrt(27*x^2 + 4))*(sqrt(3)*sqrt(27*x^2 + 4) - 9*x)^(2/3))/((14348907*18^(1/3)*x^15 + 10628820*18^(1/3)*x^13 + 3149280*18^(1/3)*x^11 + 466560*18^(1/3)*x^9 + 34560*18^(1/3)*x^7 + 1024*18^(1/3)*x^5)*(3*sqrt(3)*x + sqrt(27*x^2 + 4))^(2/3)*(sqrt(3)*sqrt(27*x^2 + 4) - 9*x)^(2/3))"
      ]
     },
     "metadata": {},
     "output_type": "display_data"
    },
    {
     "data": {
      "text/html": [
       "<html>\\(\\displaystyle \\verb|d^4b/dx^4|\\verb| |\\verb|=| \\frac{360 \\, {\\left(3 \\, {\\left(4374 \\, \\sqrt{3} x^{5} - 891 \\, \\sqrt{3} x^{3} - {\\left(1458 \\, x^{4} - 783 \\, x^{2} + 14\\right)} \\sqrt{27 \\, x^{2} + 4} - 228 \\, \\sqrt{3} x\\right)} {\\left(3 \\, \\sqrt{3} x + \\sqrt{27 \\, x^{2} + 4}\\right)}^{\\frac{2}{3}} + {\\left(13122 \\cdot 3^{\\frac{1}{6}} x^{5} - 2673 \\cdot 3^{\\frac{1}{6}} x^{3} + {\\left(1458 \\cdot 3^{\\frac{2}{3}} x^{4} - 783 \\cdot 3^{\\frac{2}{3}} x^{2} + 14 \\cdot 3^{\\frac{2}{3}}\\right)} \\sqrt{27 \\, x^{2} + 4} - 684 \\cdot 3^{\\frac{1}{6}} x\\right)} {\\left(\\sqrt{3} \\sqrt{27 \\, x^{2} + 4} - 9 \\, x\\right)}^{\\frac{2}{3}}\\right)}}{{\\left(531441 \\cdot 18^{\\frac{1}{3}} \\sqrt{3} x^{8} + 314928 \\cdot 18^{\\frac{1}{3}} \\sqrt{3} x^{6} + 69984 \\cdot 18^{\\frac{1}{3}} \\sqrt{3} x^{4} + 6912 \\cdot 18^{\\frac{1}{3}} \\sqrt{3} x^{2} + 256 \\cdot 18^{\\frac{1}{3}} \\sqrt{3}\\right)} {\\left(3 \\, \\sqrt{3} x + \\sqrt{27 \\, x^{2} + 4}\\right)}^{\\frac{2}{3}} {\\left(\\sqrt{3} \\sqrt{27 \\, x^{2} + 4} - 9 \\, x\\right)}^{\\frac{2}{3}}}\\)</html>"
      ],
      "text/latex": [
       "$\\displaystyle \\verb|d^4b/dx^4|\\verb| |\\verb|=| \\frac{360 \\, {\\left(3 \\, {\\left(4374 \\, \\sqrt{3} x^{5} - 891 \\, \\sqrt{3} x^{3} - {\\left(1458 \\, x^{4} - 783 \\, x^{2} + 14\\right)} \\sqrt{27 \\, x^{2} + 4} - 228 \\, \\sqrt{3} x\\right)} {\\left(3 \\, \\sqrt{3} x + \\sqrt{27 \\, x^{2} + 4}\\right)}^{\\frac{2}{3}} + {\\left(13122 \\cdot 3^{\\frac{1}{6}} x^{5} - 2673 \\cdot 3^{\\frac{1}{6}} x^{3} + {\\left(1458 \\cdot 3^{\\frac{2}{3}} x^{4} - 783 \\cdot 3^{\\frac{2}{3}} x^{2} + 14 \\cdot 3^{\\frac{2}{3}}\\right)} \\sqrt{27 \\, x^{2} + 4} - 684 \\cdot 3^{\\frac{1}{6}} x\\right)} {\\left(\\sqrt{3} \\sqrt{27 \\, x^{2} + 4} - 9 \\, x\\right)}^{\\frac{2}{3}}\\right)}}{{\\left(531441 \\cdot 18^{\\frac{1}{3}} \\sqrt{3} x^{8} + 314928 \\cdot 18^{\\frac{1}{3}} \\sqrt{3} x^{6} + 69984 \\cdot 18^{\\frac{1}{3}} \\sqrt{3} x^{4} + 6912 \\cdot 18^{\\frac{1}{3}} \\sqrt{3} x^{2} + 256 \\cdot 18^{\\frac{1}{3}} \\sqrt{3}\\right)} {\\left(3 \\, \\sqrt{3} x + \\sqrt{27 \\, x^{2} + 4}\\right)}^{\\frac{2}{3}} {\\left(\\sqrt{3} \\sqrt{27 \\, x^{2} + 4} - 9 \\, x\\right)}^{\\frac{2}{3}}}$"
      ],
      "text/plain": [
       "'d^4b/dx^4 =' 360*(3*(4374*sqrt(3)*x^5 - 891*sqrt(3)*x^3 - (1458*x^4 - 783*x^2 + 14)*sqrt(27*x^2 + 4) - 228*sqrt(3)*x)*(3*sqrt(3)*x + sqrt(27*x^2 + 4))^(2/3) + (13122*3^(1/6)*x^5 - 2673*3^(1/6)*x^3 + (1458*3^(2/3)*x^4 - 783*3^(2/3)*x^2 + 14*3^(2/3))*sqrt(27*x^2 + 4) - 684*3^(1/6)*x)*(sqrt(3)*sqrt(27*x^2 + 4) - 9*x)^(2/3))/((531441*18^(1/3)*sqrt(3)*x^8 + 314928*18^(1/3)*sqrt(3)*x^6 + 69984*18^(1/3)*sqrt(3)*x^4 + 6912*18^(1/3)*sqrt(3)*x^2 + 256*18^(1/3)*sqrt(3))*(3*sqrt(3)*x + sqrt(27*x^2 + 4))^(2/3)*(sqrt(3)*sqrt(27*x^2 + 4) - 9*x)^(2/3))"
      ]
     },
     "metadata": {},
     "output_type": "display_data"
    },
    {
     "data": {
      "text/html": [
       "<html>\\(\\displaystyle \\verb|d^5a/dx^5|\\verb| |\\verb|=| \\frac{1920 \\, {\\left(3 \\, {\\left(40920957 \\, \\sqrt{3} x^{13} + 25213923 \\, \\sqrt{3} x^{11} + 13592205 \\, \\sqrt{3} x^{9} + 3101301 \\, \\sqrt{3} x^{7} + 337884 \\, \\sqrt{3} x^{5} + 20416 \\, \\sqrt{3} x^{3} - {\\left(13640319 \\, x^{12} + 9782451 \\, x^{10} + 6787719 \\, x^{8} + 1322127 \\, x^{6} + 157830 \\, x^{4} + 9888 \\, x^{2} + 256\\right)} \\sqrt{27 \\, x^{2} + 4} + 512 \\, \\sqrt{3} x\\right)} {\\left(3 \\, \\sqrt{3} x + \\sqrt{27 \\, x^{2} + 4}\\right)}^{\\frac{2}{3}} + {\\left(122762871 \\cdot 3^{\\frac{1}{6}} x^{13} + 75641769 \\cdot 3^{\\frac{1}{6}} x^{11} + 40776615 \\cdot 3^{\\frac{1}{6}} x^{9} + 9303903 \\cdot 3^{\\frac{1}{6}} x^{7} + 1013652 \\cdot 3^{\\frac{1}{6}} x^{5} + 61248 \\cdot 3^{\\frac{1}{6}} x^{3} + {\\left(13640319 \\cdot 3^{\\frac{2}{3}} x^{12} + 9782451 \\cdot 3^{\\frac{2}{3}} x^{10} + 6787719 \\cdot 3^{\\frac{2}{3}} x^{8} + 1322127 \\cdot 3^{\\frac{2}{3}} x^{6} + 157830 \\cdot 3^{\\frac{2}{3}} x^{4} + 9888 \\cdot 3^{\\frac{2}{3}} x^{2} + 256 \\cdot 3^{\\frac{2}{3}}\\right)} \\sqrt{27 \\, x^{2} + 4} + 1536 \\cdot 3^{\\frac{1}{6}} x\\right)} {\\left(\\sqrt{3} \\sqrt{27 \\, x^{2} + 4} - 9 \\, x\\right)}^{\\frac{2}{3}}\\right)}}{{\\left(387420489 \\cdot 18^{\\frac{1}{3}} \\sqrt{3} x^{18} + 344373768 \\cdot 18^{\\frac{1}{3}} \\sqrt{3} x^{16} + 127545840 \\cdot 18^{\\frac{1}{3}} \\sqrt{3} x^{14} + 25194240 \\cdot 18^{\\frac{1}{3}} \\sqrt{3} x^{12} + 2799360 \\cdot 18^{\\frac{1}{3}} \\sqrt{3} x^{10} + 165888 \\cdot 18^{\\frac{1}{3}} \\sqrt{3} x^{8} + 4096 \\cdot 18^{\\frac{1}{3}} \\sqrt{3} x^{6}\\right)} {\\left(3 \\, \\sqrt{3} x + \\sqrt{27 \\, x^{2} + 4}\\right)}^{\\frac{2}{3}} {\\left(\\sqrt{3} \\sqrt{27 \\, x^{2} + 4} - 9 \\, x\\right)}^{\\frac{2}{3}}}\\)</html>"
      ],
      "text/latex": [
       "$\\displaystyle \\verb|d^5a/dx^5|\\verb| |\\verb|=| \\frac{1920 \\, {\\left(3 \\, {\\left(40920957 \\, \\sqrt{3} x^{13} + 25213923 \\, \\sqrt{3} x^{11} + 13592205 \\, \\sqrt{3} x^{9} + 3101301 \\, \\sqrt{3} x^{7} + 337884 \\, \\sqrt{3} x^{5} + 20416 \\, \\sqrt{3} x^{3} - {\\left(13640319 \\, x^{12} + 9782451 \\, x^{10} + 6787719 \\, x^{8} + 1322127 \\, x^{6} + 157830 \\, x^{4} + 9888 \\, x^{2} + 256\\right)} \\sqrt{27 \\, x^{2} + 4} + 512 \\, \\sqrt{3} x\\right)} {\\left(3 \\, \\sqrt{3} x + \\sqrt{27 \\, x^{2} + 4}\\right)}^{\\frac{2}{3}} + {\\left(122762871 \\cdot 3^{\\frac{1}{6}} x^{13} + 75641769 \\cdot 3^{\\frac{1}{6}} x^{11} + 40776615 \\cdot 3^{\\frac{1}{6}} x^{9} + 9303903 \\cdot 3^{\\frac{1}{6}} x^{7} + 1013652 \\cdot 3^{\\frac{1}{6}} x^{5} + 61248 \\cdot 3^{\\frac{1}{6}} x^{3} + {\\left(13640319 \\cdot 3^{\\frac{2}{3}} x^{12} + 9782451 \\cdot 3^{\\frac{2}{3}} x^{10} + 6787719 \\cdot 3^{\\frac{2}{3}} x^{8} + 1322127 \\cdot 3^{\\frac{2}{3}} x^{6} + 157830 \\cdot 3^{\\frac{2}{3}} x^{4} + 9888 \\cdot 3^{\\frac{2}{3}} x^{2} + 256 \\cdot 3^{\\frac{2}{3}}\\right)} \\sqrt{27 \\, x^{2} + 4} + 1536 \\cdot 3^{\\frac{1}{6}} x\\right)} {\\left(\\sqrt{3} \\sqrt{27 \\, x^{2} + 4} - 9 \\, x\\right)}^{\\frac{2}{3}}\\right)}}{{\\left(387420489 \\cdot 18^{\\frac{1}{3}} \\sqrt{3} x^{18} + 344373768 \\cdot 18^{\\frac{1}{3}} \\sqrt{3} x^{16} + 127545840 \\cdot 18^{\\frac{1}{3}} \\sqrt{3} x^{14} + 25194240 \\cdot 18^{\\frac{1}{3}} \\sqrt{3} x^{12} + 2799360 \\cdot 18^{\\frac{1}{3}} \\sqrt{3} x^{10} + 165888 \\cdot 18^{\\frac{1}{3}} \\sqrt{3} x^{8} + 4096 \\cdot 18^{\\frac{1}{3}} \\sqrt{3} x^{6}\\right)} {\\left(3 \\, \\sqrt{3} x + \\sqrt{27 \\, x^{2} + 4}\\right)}^{\\frac{2}{3}} {\\left(\\sqrt{3} \\sqrt{27 \\, x^{2} + 4} - 9 \\, x\\right)}^{\\frac{2}{3}}}$"
      ],
      "text/plain": [
       "'d^5a/dx^5 =' 1920*(3*(40920957*sqrt(3)*x^13 + 25213923*sqrt(3)*x^11 + 13592205*sqrt(3)*x^9 + 3101301*sqrt(3)*x^7 + 337884*sqrt(3)*x^5 + 20416*sqrt(3)*x^3 - (13640319*x^12 + 9782451*x^10 + 6787719*x^8 + 1322127*x^6 + 157830*x^4 + 9888*x^2 + 256)*sqrt(27*x^2 + 4) + 512*sqrt(3)*x)*(3*sqrt(3)*x + sqrt(27*x^2 + 4))^(2/3) + (122762871*3^(1/6)*x^13 + 75641769*3^(1/6)*x^11 + 40776615*3^(1/6)*x^9 + 9303903*3^(1/6)*x^7 + 1013652*3^(1/6)*x^5 + 61248*3^(1/6)*x^3 + (13640319*3^(2/3)*x^12 + 9782451*3^(2/3)*x^10 + 6787719*3^(2/3)*x^8 + 1322127*3^(2/3)*x^6 + 157830*3^(2/3)*x^4 + 9888*3^(2/3)*x^2 + 256*3^(2/3))*sqrt(27*x^2 + 4) + 1536*3^(1/6)*x)*(sqrt(3)*sqrt(27*x^2 + 4) - 9*x)^(2/3))/((387420489*18^(1/3)*sqrt(3)*x^18 + 344373768*18^(1/3)*sqrt(3)*x^16 + 127545840*18^(1/3)*sqrt(3)*x^14 + 25194240*18^(1/3)*sqrt(3)*x^12 + 2799360*18^(1/3)*sqrt(3)*x^10 + 165888*18^(1/3)*sqrt(3)*x^8 + 4096*18^(1/3)*sqrt(3)*x^6)*(3*sqrt(3)*x + sqrt(27*x^2 + 4))^(2/3)*(sqrt(3)*sqrt(27*x^2 + 4) - 9*x)^(2/3))"
      ]
     },
     "metadata": {},
     "output_type": "display_data"
    },
    {
     "data": {
      "text/html": [
       "<html>\\(\\displaystyle \\verb|d^5b/dx^5|\\verb| |\\verb|=| -\\frac{360 \\, {\\left(3 \\, {\\left(433026 \\, x^{6} - 238383 \\, x^{4} - 37908 \\, x^{2} - 3 \\, {\\left(16038 \\, \\sqrt{3} x^{5} - 14931 \\, \\sqrt{3} x^{3} + 838 \\, \\sqrt{3} x\\right)} \\sqrt{27 \\, x^{2} + 4} + 1024\\right)} {\\left(3 \\, \\sqrt{3} x + \\sqrt{27 \\, x^{2} + 4}\\right)}^{\\frac{2}{3}} + {\\left(433026 \\cdot 3^{\\frac{2}{3}} x^{6} - 238383 \\cdot 3^{\\frac{2}{3}} x^{4} - 37908 \\cdot 3^{\\frac{2}{3}} x^{2} + 9 \\, {\\left(16038 \\cdot 3^{\\frac{1}{6}} x^{5} - 14931 \\cdot 3^{\\frac{1}{6}} x^{3} + 838 \\cdot 3^{\\frac{1}{6}} x\\right)} \\sqrt{27 \\, x^{2} + 4} + 1024 \\cdot 3^{\\frac{2}{3}}\\right)} {\\left(\\sqrt{3} \\sqrt{27 \\, x^{2} + 4} - 9 \\, x\\right)}^{\\frac{2}{3}}\\right)}}{{\\left(14348907 \\cdot 18^{\\frac{1}{3}} x^{10} + 10628820 \\cdot 18^{\\frac{1}{3}} x^{8} + 3149280 \\cdot 18^{\\frac{1}{3}} x^{6} + 466560 \\cdot 18^{\\frac{1}{3}} x^{4} + 34560 \\cdot 18^{\\frac{1}{3}} x^{2} + 1024 \\cdot 18^{\\frac{1}{3}}\\right)} {\\left(3 \\, \\sqrt{3} x + \\sqrt{27 \\, x^{2} + 4}\\right)}^{\\frac{2}{3}} {\\left(\\sqrt{3} \\sqrt{27 \\, x^{2} + 4} - 9 \\, x\\right)}^{\\frac{2}{3}}}\\)</html>"
      ],
      "text/latex": [
       "$\\displaystyle \\verb|d^5b/dx^5|\\verb| |\\verb|=| -\\frac{360 \\, {\\left(3 \\, {\\left(433026 \\, x^{6} - 238383 \\, x^{4} - 37908 \\, x^{2} - 3 \\, {\\left(16038 \\, \\sqrt{3} x^{5} - 14931 \\, \\sqrt{3} x^{3} + 838 \\, \\sqrt{3} x\\right)} \\sqrt{27 \\, x^{2} + 4} + 1024\\right)} {\\left(3 \\, \\sqrt{3} x + \\sqrt{27 \\, x^{2} + 4}\\right)}^{\\frac{2}{3}} + {\\left(433026 \\cdot 3^{\\frac{2}{3}} x^{6} - 238383 \\cdot 3^{\\frac{2}{3}} x^{4} - 37908 \\cdot 3^{\\frac{2}{3}} x^{2} + 9 \\, {\\left(16038 \\cdot 3^{\\frac{1}{6}} x^{5} - 14931 \\cdot 3^{\\frac{1}{6}} x^{3} + 838 \\cdot 3^{\\frac{1}{6}} x\\right)} \\sqrt{27 \\, x^{2} + 4} + 1024 \\cdot 3^{\\frac{2}{3}}\\right)} {\\left(\\sqrt{3} \\sqrt{27 \\, x^{2} + 4} - 9 \\, x\\right)}^{\\frac{2}{3}}\\right)}}{{\\left(14348907 \\cdot 18^{\\frac{1}{3}} x^{10} + 10628820 \\cdot 18^{\\frac{1}{3}} x^{8} + 3149280 \\cdot 18^{\\frac{1}{3}} x^{6} + 466560 \\cdot 18^{\\frac{1}{3}} x^{4} + 34560 \\cdot 18^{\\frac{1}{3}} x^{2} + 1024 \\cdot 18^{\\frac{1}{3}}\\right)} {\\left(3 \\, \\sqrt{3} x + \\sqrt{27 \\, x^{2} + 4}\\right)}^{\\frac{2}{3}} {\\left(\\sqrt{3} \\sqrt{27 \\, x^{2} + 4} - 9 \\, x\\right)}^{\\frac{2}{3}}}$"
      ],
      "text/plain": [
       "'d^5b/dx^5 =' -360*(3*(433026*x^6 - 238383*x^4 - 37908*x^2 - 3*(16038*sqrt(3)*x^5 - 14931*sqrt(3)*x^3 + 838*sqrt(3)*x)*sqrt(27*x^2 + 4) + 1024)*(3*sqrt(3)*x + sqrt(27*x^2 + 4))^(2/3) + (433026*3^(2/3)*x^6 - 238383*3^(2/3)*x^4 - 37908*3^(2/3)*x^2 + 9*(16038*3^(1/6)*x^5 - 14931*3^(1/6)*x^3 + 838*3^(1/6)*x)*sqrt(27*x^2 + 4) + 1024*3^(2/3))*(sqrt(3)*sqrt(27*x^2 + 4) - 9*x)^(2/3))/((14348907*18^(1/3)*x^10 + 10628820*18^(1/3)*x^8 + 3149280*18^(1/3)*x^6 + 466560*18^(1/3)*x^4 + 34560*18^(1/3)*x^2 + 1024*18^(1/3))*(3*sqrt(3)*x + sqrt(27*x^2 + 4))^(2/3)*(sqrt(3)*sqrt(27*x^2 + 4) - 9*x)^(2/3))"
      ]
     },
     "metadata": {},
     "output_type": "display_data"
    },
    {
     "data": {
      "text/html": [
       "<html>\\(\\displaystyle \\verb|d^6a/dx^6|\\verb| |\\verb|=| -\\frac{5760 \\, {\\left({\\left(6260906421 \\, x^{15} + 4257019557 \\, x^{13} + 3243423789 \\, x^{11} + 883676547 \\, x^{9} + 125291916 \\, x^{7} + 11416608 \\, x^{5} + 572928 \\, x^{3} - {\\left(695656269 \\, \\sqrt{3} x^{14} + 557599707 \\, \\sqrt{3} x^{12} + 524816577 \\, \\sqrt{3} x^{10} + 118992591 \\, \\sqrt{3} x^{8} + 19141878 \\, \\sqrt{3} x^{6} + 1796592 \\, \\sqrt{3} x^{4} + 92928 \\, \\sqrt{3} x^{2} + 2048 \\, \\sqrt{3}\\right)} \\sqrt{27 \\, x^{2} + 4} + 12288 \\, x\\right)} {\\left(3 \\, \\sqrt{3} x + \\sqrt{27 \\, x^{2} + 4}\\right)}^{\\frac{2}{3}} + {\\left(2086968807 \\cdot 3^{\\frac{2}{3}} x^{15} + 1419006519 \\cdot 3^{\\frac{2}{3}} x^{13} + 1081141263 \\cdot 3^{\\frac{2}{3}} x^{11} + 294558849 \\cdot 3^{\\frac{2}{3}} x^{9} + 41763972 \\cdot 3^{\\frac{2}{3}} x^{7} + 3805536 \\cdot 3^{\\frac{2}{3}} x^{5} + 190976 \\cdot 3^{\\frac{2}{3}} x^{3} + 4096 \\cdot 3^{\\frac{2}{3}} x + {\\left(695656269 \\cdot 3^{\\frac{1}{6}} x^{14} + 557599707 \\cdot 3^{\\frac{1}{6}} x^{12} + 524816577 \\cdot 3^{\\frac{1}{6}} x^{10} + 118992591 \\cdot 3^{\\frac{1}{6}} x^{8} + 19141878 \\cdot 3^{\\frac{1}{6}} x^{6} + 1796592 \\cdot 3^{\\frac{1}{6}} x^{4} + 92928 \\cdot 3^{\\frac{1}{6}} x^{2} + 2048 \\cdot 3^{\\frac{1}{6}}\\right)} \\sqrt{27 \\, x^{2} + 4}\\right)} {\\left(\\sqrt{3} \\sqrt{27 \\, x^{2} + 4} - 9 \\, x\\right)}^{\\frac{2}{3}}\\right)}}{{\\left(10460353203 \\cdot 18^{\\frac{1}{3}} x^{21} + 10847773692 \\cdot 18^{\\frac{1}{3}} x^{19} + 4821232752 \\cdot 18^{\\frac{1}{3}} x^{17} + 1190427840 \\cdot 18^{\\frac{1}{3}} x^{15} + 176359680 \\cdot 18^{\\frac{1}{3}} x^{13} + 15676416 \\cdot 18^{\\frac{1}{3}} x^{11} + 774144 \\cdot 18^{\\frac{1}{3}} x^{9} + 16384 \\cdot 18^{\\frac{1}{3}} x^{7}\\right)} {\\left(3 \\, \\sqrt{3} x + \\sqrt{27 \\, x^{2} + 4}\\right)}^{\\frac{2}{3}} {\\left(\\sqrt{3} \\sqrt{27 \\, x^{2} + 4} - 9 \\, x\\right)}^{\\frac{2}{3}}}\\)</html>"
      ],
      "text/latex": [
       "$\\displaystyle \\verb|d^6a/dx^6|\\verb| |\\verb|=| -\\frac{5760 \\, {\\left({\\left(6260906421 \\, x^{15} + 4257019557 \\, x^{13} + 3243423789 \\, x^{11} + 883676547 \\, x^{9} + 125291916 \\, x^{7} + 11416608 \\, x^{5} + 572928 \\, x^{3} - {\\left(695656269 \\, \\sqrt{3} x^{14} + 557599707 \\, \\sqrt{3} x^{12} + 524816577 \\, \\sqrt{3} x^{10} + 118992591 \\, \\sqrt{3} x^{8} + 19141878 \\, \\sqrt{3} x^{6} + 1796592 \\, \\sqrt{3} x^{4} + 92928 \\, \\sqrt{3} x^{2} + 2048 \\, \\sqrt{3}\\right)} \\sqrt{27 \\, x^{2} + 4} + 12288 \\, x\\right)} {\\left(3 \\, \\sqrt{3} x + \\sqrt{27 \\, x^{2} + 4}\\right)}^{\\frac{2}{3}} + {\\left(2086968807 \\cdot 3^{\\frac{2}{3}} x^{15} + 1419006519 \\cdot 3^{\\frac{2}{3}} x^{13} + 1081141263 \\cdot 3^{\\frac{2}{3}} x^{11} + 294558849 \\cdot 3^{\\frac{2}{3}} x^{9} + 41763972 \\cdot 3^{\\frac{2}{3}} x^{7} + 3805536 \\cdot 3^{\\frac{2}{3}} x^{5} + 190976 \\cdot 3^{\\frac{2}{3}} x^{3} + 4096 \\cdot 3^{\\frac{2}{3}} x + {\\left(695656269 \\cdot 3^{\\frac{1}{6}} x^{14} + 557599707 \\cdot 3^{\\frac{1}{6}} x^{12} + 524816577 \\cdot 3^{\\frac{1}{6}} x^{10} + 118992591 \\cdot 3^{\\frac{1}{6}} x^{8} + 19141878 \\cdot 3^{\\frac{1}{6}} x^{6} + 1796592 \\cdot 3^{\\frac{1}{6}} x^{4} + 92928 \\cdot 3^{\\frac{1}{6}} x^{2} + 2048 \\cdot 3^{\\frac{1}{6}}\\right)} \\sqrt{27 \\, x^{2} + 4}\\right)} {\\left(\\sqrt{3} \\sqrt{27 \\, x^{2} + 4} - 9 \\, x\\right)}^{\\frac{2}{3}}\\right)}}{{\\left(10460353203 \\cdot 18^{\\frac{1}{3}} x^{21} + 10847773692 \\cdot 18^{\\frac{1}{3}} x^{19} + 4821232752 \\cdot 18^{\\frac{1}{3}} x^{17} + 1190427840 \\cdot 18^{\\frac{1}{3}} x^{15} + 176359680 \\cdot 18^{\\frac{1}{3}} x^{13} + 15676416 \\cdot 18^{\\frac{1}{3}} x^{11} + 774144 \\cdot 18^{\\frac{1}{3}} x^{9} + 16384 \\cdot 18^{\\frac{1}{3}} x^{7}\\right)} {\\left(3 \\, \\sqrt{3} x + \\sqrt{27 \\, x^{2} + 4}\\right)}^{\\frac{2}{3}} {\\left(\\sqrt{3} \\sqrt{27 \\, x^{2} + 4} - 9 \\, x\\right)}^{\\frac{2}{3}}}$"
      ],
      "text/plain": [
       "'d^6a/dx^6 =' -5760*((6260906421*x^15 + 4257019557*x^13 + 3243423789*x^11 + 883676547*x^9 + 125291916*x^7 + 11416608*x^5 + 572928*x^3 - (695656269*sqrt(3)*x^14 + 557599707*sqrt(3)*x^12 + 524816577*sqrt(3)*x^10 + 118992591*sqrt(3)*x^8 + 19141878*sqrt(3)*x^6 + 1796592*sqrt(3)*x^4 + 92928*sqrt(3)*x^2 + 2048*sqrt(3))*sqrt(27*x^2 + 4) + 12288*x)*(3*sqrt(3)*x + sqrt(27*x^2 + 4))^(2/3) + (2086968807*3^(2/3)*x^15 + 1419006519*3^(2/3)*x^13 + 1081141263*3^(2/3)*x^11 + 294558849*3^(2/3)*x^9 + 41763972*3^(2/3)*x^7 + 3805536*3^(2/3)*x^5 + 190976*3^(2/3)*x^3 + 4096*3^(2/3)*x + (695656269*3^(1/6)*x^14 + 557599707*3^(1/6)*x^12 + 524816577*3^(1/6)*x^10 + 118992591*3^(1/6)*x^8 + 19141878*3^(1/6)*x^6 + 1796592*3^(1/6)*x^4 + 92928*3^(1/6)*x^2 + 2048*3^(1/6))*sqrt(27*x^2 + 4))*(sqrt(3)*sqrt(27*x^2 + 4) - 9*x)^(2/3))/((10460353203*18^(1/3)*x^21 + 10847773692*18^(1/3)*x^19 + 4821232752*18^(1/3)*x^17 + 1190427840*18^(1/3)*x^15 + 176359680*18^(1/3)*x^13 + 15676416*18^(1/3)*x^11 + 774144*18^(1/3)*x^9 + 16384*18^(1/3)*x^7)*(3*sqrt(3)*x + sqrt(27*x^2 + 4))^(2/3)*(sqrt(3)*sqrt(27*x^2 + 4) - 9*x)^(2/3))"
      ]
     },
     "metadata": {},
     "output_type": "display_data"
    },
    {
     "data": {
      "text/html": [
       "<html>\\(\\displaystyle \\verb|d^6b/dx^6|\\verb| |\\verb|=| \\frac{30240 \\, {\\left(3 \\, {\\left(649539 \\, \\sqrt{3} x^{7} - 656100 \\, \\sqrt{3} x^{5} - 60021 \\, \\sqrt{3} x^{3} - {\\left(216513 \\, x^{6} - 310554 \\, x^{4} + 35883 \\, x^{2} - 286\\right)} \\sqrt{27 \\, x^{2} + 4} + 7620 \\, \\sqrt{3} x\\right)} {\\left(3 \\, \\sqrt{3} x + \\sqrt{27 \\, x^{2} + 4}\\right)}^{\\frac{2}{3}} + {\\left(1948617 \\cdot 3^{\\frac{1}{6}} x^{7} - 1968300 \\cdot 3^{\\frac{1}{6}} x^{5} - 180063 \\cdot 3^{\\frac{1}{6}} x^{3} + {\\left(216513 \\cdot 3^{\\frac{2}{3}} x^{6} - 310554 \\cdot 3^{\\frac{2}{3}} x^{4} + 35883 \\cdot 3^{\\frac{2}{3}} x^{2} - 286 \\cdot 3^{\\frac{2}{3}}\\right)} \\sqrt{27 \\, x^{2} + 4} + 22860 \\cdot 3^{\\frac{1}{6}} x\\right)} {\\left(\\sqrt{3} \\sqrt{27 \\, x^{2} + 4} - 9 \\, x\\right)}^{\\frac{2}{3}}\\right)}}{{\\left(387420489 \\cdot 18^{\\frac{1}{3}} \\sqrt{3} x^{12} + 344373768 \\cdot 18^{\\frac{1}{3}} \\sqrt{3} x^{10} + 127545840 \\cdot 18^{\\frac{1}{3}} \\sqrt{3} x^{8} + 25194240 \\cdot 18^{\\frac{1}{3}} \\sqrt{3} x^{6} + 2799360 \\cdot 18^{\\frac{1}{3}} \\sqrt{3} x^{4} + 165888 \\cdot 18^{\\frac{1}{3}} \\sqrt{3} x^{2} + 4096 \\cdot 18^{\\frac{1}{3}} \\sqrt{3}\\right)} {\\left(3 \\, \\sqrt{3} x + \\sqrt{27 \\, x^{2} + 4}\\right)}^{\\frac{2}{3}} {\\left(\\sqrt{3} \\sqrt{27 \\, x^{2} + 4} - 9 \\, x\\right)}^{\\frac{2}{3}}}\\)</html>"
      ],
      "text/latex": [
       "$\\displaystyle \\verb|d^6b/dx^6|\\verb| |\\verb|=| \\frac{30240 \\, {\\left(3 \\, {\\left(649539 \\, \\sqrt{3} x^{7} - 656100 \\, \\sqrt{3} x^{5} - 60021 \\, \\sqrt{3} x^{3} - {\\left(216513 \\, x^{6} - 310554 \\, x^{4} + 35883 \\, x^{2} - 286\\right)} \\sqrt{27 \\, x^{2} + 4} + 7620 \\, \\sqrt{3} x\\right)} {\\left(3 \\, \\sqrt{3} x + \\sqrt{27 \\, x^{2} + 4}\\right)}^{\\frac{2}{3}} + {\\left(1948617 \\cdot 3^{\\frac{1}{6}} x^{7} - 1968300 \\cdot 3^{\\frac{1}{6}} x^{5} - 180063 \\cdot 3^{\\frac{1}{6}} x^{3} + {\\left(216513 \\cdot 3^{\\frac{2}{3}} x^{6} - 310554 \\cdot 3^{\\frac{2}{3}} x^{4} + 35883 \\cdot 3^{\\frac{2}{3}} x^{2} - 286 \\cdot 3^{\\frac{2}{3}}\\right)} \\sqrt{27 \\, x^{2} + 4} + 22860 \\cdot 3^{\\frac{1}{6}} x\\right)} {\\left(\\sqrt{3} \\sqrt{27 \\, x^{2} + 4} - 9 \\, x\\right)}^{\\frac{2}{3}}\\right)}}{{\\left(387420489 \\cdot 18^{\\frac{1}{3}} \\sqrt{3} x^{12} + 344373768 \\cdot 18^{\\frac{1}{3}} \\sqrt{3} x^{10} + 127545840 \\cdot 18^{\\frac{1}{3}} \\sqrt{3} x^{8} + 25194240 \\cdot 18^{\\frac{1}{3}} \\sqrt{3} x^{6} + 2799360 \\cdot 18^{\\frac{1}{3}} \\sqrt{3} x^{4} + 165888 \\cdot 18^{\\frac{1}{3}} \\sqrt{3} x^{2} + 4096 \\cdot 18^{\\frac{1}{3}} \\sqrt{3}\\right)} {\\left(3 \\, \\sqrt{3} x + \\sqrt{27 \\, x^{2} + 4}\\right)}^{\\frac{2}{3}} {\\left(\\sqrt{3} \\sqrt{27 \\, x^{2} + 4} - 9 \\, x\\right)}^{\\frac{2}{3}}}$"
      ],
      "text/plain": [
       "'d^6b/dx^6 =' 30240*(3*(649539*sqrt(3)*x^7 - 656100*sqrt(3)*x^5 - 60021*sqrt(3)*x^3 - (216513*x^6 - 310554*x^4 + 35883*x^2 - 286)*sqrt(27*x^2 + 4) + 7620*sqrt(3)*x)*(3*sqrt(3)*x + sqrt(27*x^2 + 4))^(2/3) + (1948617*3^(1/6)*x^7 - 1968300*3^(1/6)*x^5 - 180063*3^(1/6)*x^3 + (216513*3^(2/3)*x^6 - 310554*3^(2/3)*x^4 + 35883*3^(2/3)*x^2 - 286*3^(2/3))*sqrt(27*x^2 + 4) + 22860*3^(1/6)*x)*(sqrt(3)*sqrt(27*x^2 + 4) - 9*x)^(2/3))/((387420489*18^(1/3)*sqrt(3)*x^12 + 344373768*18^(1/3)*sqrt(3)*x^10 + 127545840*18^(1/3)*sqrt(3)*x^8 + 25194240*18^(1/3)*sqrt(3)*x^6 + 2799360*18^(1/3)*sqrt(3)*x^4 + 165888*18^(1/3)*sqrt(3)*x^2 + 4096*18^(1/3)*sqrt(3))*(3*sqrt(3)*x + sqrt(27*x^2 + 4))^(2/3)*(sqrt(3)*sqrt(27*x^2 + 4) - 9*x)^(2/3))"
      ]
     },
     "metadata": {},
     "output_type": "display_data"
    },
    {
     "data": {
      "text/html": [
       "<html>\\(\\displaystyle \\verb|d^7a/dx^7|\\verb| |\\verb|=| \\frac{80640 \\, {\\left(3 \\, {\\left(26832456090 \\, \\sqrt{3} x^{17} + 19671288615 \\, \\sqrt{3} x^{15} + 20760919812 \\, \\sqrt{3} x^{13} + 6340209957 \\, \\sqrt{3} x^{11} + 1101136626 \\, \\sqrt{3} x^{9} + 135295896 \\, \\sqrt{3} x^{7} + 10189248 \\, \\sqrt{3} x^{5} + 437248 \\, \\sqrt{3} x^{3} - {\\left(8944152030 \\, x^{16} + 7819800021 \\, x^{14} + 9788237802 \\, x^{12} + 2430225261 \\, x^{10} + 500731668 \\, x^{8} + 62537748 \\, x^{6} + 4847712 \\, x^{4} + 213504 \\, x^{2} + 4096\\right)} \\sqrt{27 \\, x^{2} + 4} + 8192 \\, \\sqrt{3} x\\right)} {\\left(3 \\, \\sqrt{3} x + \\sqrt{27 \\, x^{2} + 4}\\right)}^{\\frac{2}{3}} + {\\left(80497368270 \\cdot 3^{\\frac{1}{6}} x^{17} + 59013865845 \\cdot 3^{\\frac{1}{6}} x^{15} + 62282759436 \\cdot 3^{\\frac{1}{6}} x^{13} + 19020629871 \\cdot 3^{\\frac{1}{6}} x^{11} + 3303409878 \\cdot 3^{\\frac{1}{6}} x^{9} + 405887688 \\cdot 3^{\\frac{1}{6}} x^{7} + 30567744 \\cdot 3^{\\frac{1}{6}} x^{5} + 1311744 \\cdot 3^{\\frac{1}{6}} x^{3} + {\\left(8944152030 \\cdot 3^{\\frac{2}{3}} x^{16} + 7819800021 \\cdot 3^{\\frac{2}{3}} x^{14} + 9788237802 \\cdot 3^{\\frac{2}{3}} x^{12} + 2430225261 \\cdot 3^{\\frac{2}{3}} x^{10} + 500731668 \\cdot 3^{\\frac{2}{3}} x^{8} + 62537748 \\cdot 3^{\\frac{2}{3}} x^{6} + 4847712 \\cdot 3^{\\frac{2}{3}} x^{4} + 213504 \\cdot 3^{\\frac{2}{3}} x^{2} + 4096 \\cdot 3^{\\frac{2}{3}}\\right)} \\sqrt{27 \\, x^{2} + 4} + 24576 \\cdot 3^{\\frac{1}{6}} x\\right)} {\\left(\\sqrt{3} \\sqrt{27 \\, x^{2} + 4} - 9 \\, x\\right)}^{\\frac{2}{3}}\\right)}}{{\\left(282429536481 \\cdot 18^{\\frac{1}{3}} \\sqrt{3} x^{24} + 334731302496 \\cdot 18^{\\frac{1}{3}} \\sqrt{3} x^{22} + 173564379072 \\cdot 18^{\\frac{1}{3}} \\sqrt{3} x^{20} + 51426482688 \\cdot 18^{\\frac{1}{3}} \\sqrt{3} x^{18} + 9523422720 \\cdot 18^{\\frac{1}{3}} \\sqrt{3} x^{16} + 1128701952 \\cdot 18^{\\frac{1}{3}} \\sqrt{3} x^{14} + 83607552 \\cdot 18^{\\frac{1}{3}} \\sqrt{3} x^{12} + 3538944 \\cdot 18^{\\frac{1}{3}} \\sqrt{3} x^{10} + 65536 \\cdot 18^{\\frac{1}{3}} \\sqrt{3} x^{8}\\right)} {\\left(3 \\, \\sqrt{3} x + \\sqrt{27 \\, x^{2} + 4}\\right)}^{\\frac{2}{3}} {\\left(\\sqrt{3} \\sqrt{27 \\, x^{2} + 4} - 9 \\, x\\right)}^{\\frac{2}{3}}}\\)</html>"
      ],
      "text/latex": [
       "$\\displaystyle \\verb|d^7a/dx^7|\\verb| |\\verb|=| \\frac{80640 \\, {\\left(3 \\, {\\left(26832456090 \\, \\sqrt{3} x^{17} + 19671288615 \\, \\sqrt{3} x^{15} + 20760919812 \\, \\sqrt{3} x^{13} + 6340209957 \\, \\sqrt{3} x^{11} + 1101136626 \\, \\sqrt{3} x^{9} + 135295896 \\, \\sqrt{3} x^{7} + 10189248 \\, \\sqrt{3} x^{5} + 437248 \\, \\sqrt{3} x^{3} - {\\left(8944152030 \\, x^{16} + 7819800021 \\, x^{14} + 9788237802 \\, x^{12} + 2430225261 \\, x^{10} + 500731668 \\, x^{8} + 62537748 \\, x^{6} + 4847712 \\, x^{4} + 213504 \\, x^{2} + 4096\\right)} \\sqrt{27 \\, x^{2} + 4} + 8192 \\, \\sqrt{3} x\\right)} {\\left(3 \\, \\sqrt{3} x + \\sqrt{27 \\, x^{2} + 4}\\right)}^{\\frac{2}{3}} + {\\left(80497368270 \\cdot 3^{\\frac{1}{6}} x^{17} + 59013865845 \\cdot 3^{\\frac{1}{6}} x^{15} + 62282759436 \\cdot 3^{\\frac{1}{6}} x^{13} + 19020629871 \\cdot 3^{\\frac{1}{6}} x^{11} + 3303409878 \\cdot 3^{\\frac{1}{6}} x^{9} + 405887688 \\cdot 3^{\\frac{1}{6}} x^{7} + 30567744 \\cdot 3^{\\frac{1}{6}} x^{5} + 1311744 \\cdot 3^{\\frac{1}{6}} x^{3} + {\\left(8944152030 \\cdot 3^{\\frac{2}{3}} x^{16} + 7819800021 \\cdot 3^{\\frac{2}{3}} x^{14} + 9788237802 \\cdot 3^{\\frac{2}{3}} x^{12} + 2430225261 \\cdot 3^{\\frac{2}{3}} x^{10} + 500731668 \\cdot 3^{\\frac{2}{3}} x^{8} + 62537748 \\cdot 3^{\\frac{2}{3}} x^{6} + 4847712 \\cdot 3^{\\frac{2}{3}} x^{4} + 213504 \\cdot 3^{\\frac{2}{3}} x^{2} + 4096 \\cdot 3^{\\frac{2}{3}}\\right)} \\sqrt{27 \\, x^{2} + 4} + 24576 \\cdot 3^{\\frac{1}{6}} x\\right)} {\\left(\\sqrt{3} \\sqrt{27 \\, x^{2} + 4} - 9 \\, x\\right)}^{\\frac{2}{3}}\\right)}}{{\\left(282429536481 \\cdot 18^{\\frac{1}{3}} \\sqrt{3} x^{24} + 334731302496 \\cdot 18^{\\frac{1}{3}} \\sqrt{3} x^{22} + 173564379072 \\cdot 18^{\\frac{1}{3}} \\sqrt{3} x^{20} + 51426482688 \\cdot 18^{\\frac{1}{3}} \\sqrt{3} x^{18} + 9523422720 \\cdot 18^{\\frac{1}{3}} \\sqrt{3} x^{16} + 1128701952 \\cdot 18^{\\frac{1}{3}} \\sqrt{3} x^{14} + 83607552 \\cdot 18^{\\frac{1}{3}} \\sqrt{3} x^{12} + 3538944 \\cdot 18^{\\frac{1}{3}} \\sqrt{3} x^{10} + 65536 \\cdot 18^{\\frac{1}{3}} \\sqrt{3} x^{8}\\right)} {\\left(3 \\, \\sqrt{3} x + \\sqrt{27 \\, x^{2} + 4}\\right)}^{\\frac{2}{3}} {\\left(\\sqrt{3} \\sqrt{27 \\, x^{2} + 4} - 9 \\, x\\right)}^{\\frac{2}{3}}}$"
      ],
      "text/plain": [
       "'d^7a/dx^7 =' 80640*(3*(26832456090*sqrt(3)*x^17 + 19671288615*sqrt(3)*x^15 + 20760919812*sqrt(3)*x^13 + 6340209957*sqrt(3)*x^11 + 1101136626*sqrt(3)*x^9 + 135295896*sqrt(3)*x^7 + 10189248*sqrt(3)*x^5 + 437248*sqrt(3)*x^3 - (8944152030*x^16 + 7819800021*x^14 + 9788237802*x^12 + 2430225261*x^10 + 500731668*x^8 + 62537748*x^6 + 4847712*x^4 + 213504*x^2 + 4096)*sqrt(27*x^2 + 4) + 8192*sqrt(3)*x)*(3*sqrt(3)*x + sqrt(27*x^2 + 4))^(2/3) + (80497368270*3^(1/6)*x^17 + 59013865845*3^(1/6)*x^15 + 62282759436*3^(1/6)*x^13 + 19020629871*3^(1/6)*x^11 + 3303409878*3^(1/6)*x^9 + 405887688*3^(1/6)*x^7 + 30567744*3^(1/6)*x^5 + 1311744*3^(1/6)*x^3 + (8944152030*3^(2/3)*x^16 + 7819800021*3^(2/3)*x^14 + 9788237802*3^(2/3)*x^12 + 2430225261*3^(2/3)*x^10 + 500731668*3^(2/3)*x^8 + 62537748*3^(2/3)*x^6 + 4847712*3^(2/3)*x^4 + 213504*3^(2/3)*x^2 + 4096*3^(2/3))*sqrt(27*x^2 + 4) + 24576*3^(1/6)*x)*(sqrt(3)*sqrt(27*x^2 + 4) - 9*x)^(2/3))/((282429536481*18^(1/3)*sqrt(3)*x^24 + 334731302496*18^(1/3)*sqrt(3)*x^22 + 173564379072*18^(1/3)*sqrt(3)*x^20 + 51426482688*18^(1/3)*sqrt(3)*x^18 + 9523422720*18^(1/3)*sqrt(3)*x^16 + 1128701952*18^(1/3)*sqrt(3)*x^14 + 83607552*18^(1/3)*sqrt(3)*x^12 + 3538944*18^(1/3)*sqrt(3)*x^10 + 65536*18^(1/3)*sqrt(3)*x^8)*(3*sqrt(3)*x + sqrt(27*x^2 + 4))^(2/3)*(sqrt(3)*sqrt(27*x^2 + 4) - 9*x)^(2/3))"
      ]
     },
     "metadata": {},
     "output_type": "display_data"
    },
    {
     "data": {
      "text/html": [
       "<html>\\(\\displaystyle \\verb|d^7b/dx^7|\\verb| |\\verb|=| -\\frac{30240 \\, {\\left(3 \\, {\\left(99379467 \\, x^{8} - 157227804 \\, x^{6} - 2009853 \\, x^{4} + 3255012 \\, x^{2} - 3 \\, {\\left(3680721 \\, \\sqrt{3} x^{7} - 7536402 \\, \\sqrt{3} x^{5} + 1480923 \\, \\sqrt{3} x^{3} - 36254 \\, \\sqrt{3} x\\right)} \\sqrt{27 \\, x^{2} + 4} - 32768\\right)} {\\left(3 \\, \\sqrt{3} x + \\sqrt{27 \\, x^{2} + 4}\\right)}^{\\frac{2}{3}} + {\\left(99379467 \\cdot 3^{\\frac{2}{3}} x^{8} - 157227804 \\cdot 3^{\\frac{2}{3}} x^{6} - 2009853 \\cdot 3^{\\frac{2}{3}} x^{4} + 3255012 \\cdot 3^{\\frac{2}{3}} x^{2} + 9 \\, {\\left(3680721 \\cdot 3^{\\frac{1}{6}} x^{7} - 7536402 \\cdot 3^{\\frac{1}{6}} x^{5} + 1480923 \\cdot 3^{\\frac{1}{6}} x^{3} - 36254 \\cdot 3^{\\frac{1}{6}} x\\right)} \\sqrt{27 \\, x^{2} + 4} - 32768 \\cdot 3^{\\frac{2}{3}}\\right)} {\\left(\\sqrt{3} \\sqrt{27 \\, x^{2} + 4} - 9 \\, x\\right)}^{\\frac{2}{3}}\\right)}}{{\\left(10460353203 \\cdot 18^{\\frac{1}{3}} x^{14} + 10847773692 \\cdot 18^{\\frac{1}{3}} x^{12} + 4821232752 \\cdot 18^{\\frac{1}{3}} x^{10} + 1190427840 \\cdot 18^{\\frac{1}{3}} x^{8} + 176359680 \\cdot 18^{\\frac{1}{3}} x^{6} + 15676416 \\cdot 18^{\\frac{1}{3}} x^{4} + 774144 \\cdot 18^{\\frac{1}{3}} x^{2} + 16384 \\cdot 18^{\\frac{1}{3}}\\right)} {\\left(3 \\, \\sqrt{3} x + \\sqrt{27 \\, x^{2} + 4}\\right)}^{\\frac{2}{3}} {\\left(\\sqrt{3} \\sqrt{27 \\, x^{2} + 4} - 9 \\, x\\right)}^{\\frac{2}{3}}}\\)</html>"
      ],
      "text/latex": [
       "$\\displaystyle \\verb|d^7b/dx^7|\\verb| |\\verb|=| -\\frac{30240 \\, {\\left(3 \\, {\\left(99379467 \\, x^{8} - 157227804 \\, x^{6} - 2009853 \\, x^{4} + 3255012 \\, x^{2} - 3 \\, {\\left(3680721 \\, \\sqrt{3} x^{7} - 7536402 \\, \\sqrt{3} x^{5} + 1480923 \\, \\sqrt{3} x^{3} - 36254 \\, \\sqrt{3} x\\right)} \\sqrt{27 \\, x^{2} + 4} - 32768\\right)} {\\left(3 \\, \\sqrt{3} x + \\sqrt{27 \\, x^{2} + 4}\\right)}^{\\frac{2}{3}} + {\\left(99379467 \\cdot 3^{\\frac{2}{3}} x^{8} - 157227804 \\cdot 3^{\\frac{2}{3}} x^{6} - 2009853 \\cdot 3^{\\frac{2}{3}} x^{4} + 3255012 \\cdot 3^{\\frac{2}{3}} x^{2} + 9 \\, {\\left(3680721 \\cdot 3^{\\frac{1}{6}} x^{7} - 7536402 \\cdot 3^{\\frac{1}{6}} x^{5} + 1480923 \\cdot 3^{\\frac{1}{6}} x^{3} - 36254 \\cdot 3^{\\frac{1}{6}} x\\right)} \\sqrt{27 \\, x^{2} + 4} - 32768 \\cdot 3^{\\frac{2}{3}}\\right)} {\\left(\\sqrt{3} \\sqrt{27 \\, x^{2} + 4} - 9 \\, x\\right)}^{\\frac{2}{3}}\\right)}}{{\\left(10460353203 \\cdot 18^{\\frac{1}{3}} x^{14} + 10847773692 \\cdot 18^{\\frac{1}{3}} x^{12} + 4821232752 \\cdot 18^{\\frac{1}{3}} x^{10} + 1190427840 \\cdot 18^{\\frac{1}{3}} x^{8} + 176359680 \\cdot 18^{\\frac{1}{3}} x^{6} + 15676416 \\cdot 18^{\\frac{1}{3}} x^{4} + 774144 \\cdot 18^{\\frac{1}{3}} x^{2} + 16384 \\cdot 18^{\\frac{1}{3}}\\right)} {\\left(3 \\, \\sqrt{3} x + \\sqrt{27 \\, x^{2} + 4}\\right)}^{\\frac{2}{3}} {\\left(\\sqrt{3} \\sqrt{27 \\, x^{2} + 4} - 9 \\, x\\right)}^{\\frac{2}{3}}}$"
      ],
      "text/plain": [
       "'d^7b/dx^7 =' -30240*(3*(99379467*x^8 - 157227804*x^6 - 2009853*x^4 + 3255012*x^2 - 3*(3680721*sqrt(3)*x^7 - 7536402*sqrt(3)*x^5 + 1480923*sqrt(3)*x^3 - 36254*sqrt(3)*x)*sqrt(27*x^2 + 4) - 32768)*(3*sqrt(3)*x + sqrt(27*x^2 + 4))^(2/3) + (99379467*3^(2/3)*x^8 - 157227804*3^(2/3)*x^6 - 2009853*3^(2/3)*x^4 + 3255012*3^(2/3)*x^2 + 9*(3680721*3^(1/6)*x^7 - 7536402*3^(1/6)*x^5 + 1480923*3^(1/6)*x^3 - 36254*3^(1/6)*x)*sqrt(27*x^2 + 4) - 32768*3^(2/3))*(sqrt(3)*sqrt(27*x^2 + 4) - 9*x)^(2/3))/((10460353203*18^(1/3)*x^14 + 10847773692*18^(1/3)*x^12 + 4821232752*18^(1/3)*x^10 + 1190427840*18^(1/3)*x^8 + 176359680*18^(1/3)*x^6 + 15676416*18^(1/3)*x^4 + 774144*18^(1/3)*x^2 + 16384*18^(1/3))*(3*sqrt(3)*x + sqrt(27*x^2 + 4))^(2/3)*(sqrt(3)*sqrt(27*x^2 + 4) - 9*x)^(2/3))"
      ]
     },
     "metadata": {},
     "output_type": "display_data"
    }
   ],
   "source": [
    "# Définir la variable\n",
    "var('x')\n",
    "\n",
    "# Définir la fonction W(x)\n",
    "W = (-x/2 + sqrt(1/27 + x^2/4))^(1/3) - (x/2 + sqrt(1/27 + x^2/4))^(1/3)\n",
    "\n",
    "# Calculer la dérivée de W\n",
    "W_prime = diff(W, x)\n",
    "\n",
    "# Définir les fonctions a(x) et b(x)\n",
    "a = 1 + W/x + W_prime\n",
    "b = (3*x)/2 + W\n",
    "\n",
    "# Afficher les fonctions a et b\n",
    "show(\"a(x) =\", a.simplify_full())\n",
    "show(\"b(x) =\", b.simplify_full())\n",
    "\n",
    "# Calcul et affichage des dérivées d'ordre 1 à 7\n",
    "for n in range(1, 8):\n",
    "    d_a = diff(a, x, n).simplify_full()\n",
    "    d_b = diff(b, x, n).simplify_full()\n",
    "    show(f\"d^{n}a/dx^{n} =\", d_a)\n",
    "    show(f\"d^{n}b/dx^{n} =\", d_b)"
   ]
  },
  {
   "cell_type": "code",
   "execution_count": null,
   "id": "e79deea6",
   "metadata": {},
   "outputs": [
    {
     "name": "stdout",
     "output_type": "stream",
     "text": [
      "a(1) = [0.953049569011730573366930471849206136733654252929792269432 +/- 9.15e-58]\n",
      "b(1) = [219.7494399395422518910216786194927047769036649401599729527 +/- 4.43e-56]\n",
      "Erreur sur a(1) (environ) = [+/- 1.18e-57]\n",
      "Erreur sur b(1) (environ) = [+/- 6.51e-56]\n"
     ]
    }
   ],
   "source": [
    "# Définir la précision en bits\n",
    "prec = 200\n",
    "R = RealBallField(prec)\n",
    "\n",
    "var('x')\n",
    "\n",
    "W = (-x/2 + sqrt(1/27 + x^2/4))^(1/3) - (x/2 + sqrt(1/27 + x^2/4))^(1/3)\n",
    "W_prime = diff(W, x)\n",
    "\n",
    "a = 1 + W/x + W_prime\n",
    "b = (3*x)/2 + W\n",
    "\n",
    "# Créer des fonctions numériques rapides avec le domaine RealBallField\n",
    "a_num = fast_callable(a, vars=[x], domain=R)\n",
    "b_num = fast_callable(b, vars=[x], domain=R)\n",
    "\n",
    "# Point d'évaluation en RealBallField\n",
    "x0 = R(150)\n",
    "\n",
    "# Évaluation numérique avec suivi de précision et erreur\n",
    "a_val = a_num(x0)\n",
    "b_val = b_num(x0)\n",
    "\n",
    "print(\"a(1) =\", a_val)\n",
    "print(\"b(1) =\", b_val)\n",
    "\n",
    "print(\"Erreur sur a(1) (environ) =\", abs(a_val - a_val.parent()(a_val)))  # ici c'est juste une valeur, pas forcément avec erreur explicite\n",
    "print(\"Erreur sur b(1) (environ) =\", abs(b_val - b_val.parent()(b_val)))\n"
   ]
  },
  {
   "cell_type": "code",
   "execution_count": null,
   "id": "ade1dec0",
   "metadata": {},
   "outputs": [
    {
     "name": "stdout",
     "output_type": "stream",
     "text": [
      "quoicoubeh\n",
      "J'en suis à 1\n",
      "J'en suis à 2\n",
      "J'en suis à 3\n",
      "J'en suis à 4\n",
      "J'en suis à 5\n",
      "J'en suis à 6\n",
      "J'en suis à 7\n",
      "Évaluations des dérivées en x=1 :\n",
      "d^0a/dx^0(1.0000000000000000000000000000000000000000000000000000000000000) = [-0.0995657917542381049909592561213408039935809253791502361938 +/- 5.02e-59]\n",
      "d^0b/dx^0(1.0000000000000000000000000000000000000000000000000000000000000) = [0.8176721961719806726305162602889517431088114181020014221963 +/- 4.47e-59]\n",
      "d^1a/dx^1(1.0000000000000000000000000000000000000000000000000000000000000) = [0.562458921144505356640633633750586484017539061910301727256 +/- 3.37e-58]\n",
      "d^1b/dx^1(1.0000000000000000000000000000000000000000000000000000000000000) = [1.0827620120737812223785244835897074528976076565188483416099 +/- 2.81e-59]\n",
      "d^2a/dx^2(1.0000000000000000000000000000000000000000000000000000000000000) = [-0.686784262510245927938463483009399083480164248805471277239 +/- 4.90e-58]\n",
      "d^2b/dx^2(1.0000000000000000000000000000000000000000000000000000000000000) = [0.2973691052427048068926254104498307742287428234934548078426 +/- 6.46e-59]\n",
      "d^3a/dx^3(1.0000000000000000000000000000000000000000000000000000000000000) = [1.21422230511005524397539460445408988029295932974882673124 +/- 6.09e-57]\n",
      "d^3b/dx^3(1.0000000000000000000000000000000000000000000000000000000000000) = [-0.453973735949349635335072446857718438131314595465232246255 +/- 6.99e-58]\n",
      "d^4a/dx^4(1.0000000000000000000000000000000000000000000000000000000000000) = [-2.4058664804068155426948883149543476453436807352829806338 +/- 1.87e-56]\n",
      "d^4b/dx^4(1.0000000000000000000000000000000000000000000000000000000000000) = [0.96976446137671600150029394285676638237772496519334188454 +/- 6.08e-57]\n",
      "d^5a/dx^5(1.0000000000000000000000000000000000000000000000000000000000000) = [3.017900833642103071254323393013382227215264313207037686 +/- 1.88e-55]\n",
      "d^5b/dx^5(1.0000000000000000000000000000000000000000000000000000000000000) = [-2.3977995668501745742947796114218200360604682422543831315 +/- 5.62e-56]\n",
      "d^6a/dx^6(1.0000000000000000000000000000000000000000000000000000000000000) = [19.99878991126323607706138673655383331038135126816005775 +/- 3.25e-54]\n",
      "d^6b/dx^6(1.0000000000000000000000000000000000000000000000000000000000000) = [5.375365832709072803548559486772564216859670090318433306 +/- 4.35e-55]\n",
      "d^7a/dx^7(1.0000000000000000000000000000000000000000000000000000000000000) = [-309.6053617195775902572534956548094452103956107668432010 +/- 4.75e-53]\n",
      "d^7b/dx^7(1.0000000000000000000000000000000000000000000000000000000000000) = [0.47863408415234487974741068722617715565524651517325072 +/- 4.97e-54]\n"
     ]
    }
   ],
   "source": [
    "## Adding the .simplify_full() command may give cleaner functions to look at, but drastically increases the runtime (from 0.5 sec to more than 4 min), and, most importantly, causes completely unstable computations that ruin the precision (for unknown reasons).\n",
    "\n",
    "prec = 200\n",
    "R = RealBallField(prec)\n",
    "\n",
    "var('x')\n",
    "\n",
    "# Définir W et dérivée\n",
    "W = (-x/2 + sqrt(1/27 + x^2/4))^(1/3) - (x/2 + sqrt(1/27 + x^2/4))^(1/3)\n",
    "W_prime = diff(W, x)\n",
    "# Définir a et b\n",
    "a = 1 + W/x + W_prime\n",
    "b = (3*x)/2 + W\n",
    "\n",
    "# Nombre de dérivées à calculer\n",
    "n = 7\n",
    "\n",
    "# Listes pour stocker les dérivées symboliques\n",
    "a_derivs = [a]\n",
    "b_derivs = [b]\n",
    "\n",
    "for k in range(1, n+1):\n",
    "    print(\"J'en suis à\",k)\n",
    "    a_deriv_k = diff(a, x, k)\n",
    "    b_deriv_k = diff(b, x, k)\n",
    "    a_derivs.append(a_deriv_k)\n",
    "    b_derivs.append(b_deriv_k)\n",
    "\n",
    "# Créer les fonctions numériques évaluables sur RBF\n",
    "a_funcs = [fast_callable(expr, vars=[x], domain=R) for expr in a_derivs]\n",
    "b_funcs = [fast_callable(expr, vars=[x], domain=R) for expr in b_derivs]\n",
    "\n",
    "# Exemple d’évaluation en x0\n",
    "x0 = R(1)\n",
    "\n",
    "print(\"Évaluations des dérivées en x=1 :\")\n",
    "for k in range(n+1):\n",
    "    a_val = a_funcs[k](x0)\n",
    "    b_val = b_funcs[k](x0)\n",
    "    print(f\"d^{k}a/dx^{k}({x0}) = {a_val}\")\n",
    "    print(f\"d^{k}b/dx^{k}({x0}) = {b_val}\")\n"
   ]
  }
 ],
 "metadata": {
  "kernelspec": {
   "display_name": "SageMath 10.5",
   "language": "sage",
   "name": "SageMath-10.5"
  },
  "language_info": {
   "codemirror_mode": {
    "name": "ipython",
    "version": 3
   },
   "file_extension": ".py",
   "mimetype": "text/x-python",
   "name": "python",
   "nbconvert_exporter": "python",
   "pygments_lexer": "ipython3",
   "version": "3.12.5"
  }
 },
 "nbformat": 4,
 "nbformat_minor": 5
}
