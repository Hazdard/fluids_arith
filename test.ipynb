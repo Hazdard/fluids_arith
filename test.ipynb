{
 "cells": [
  {
   "cell_type": "markdown",
   "id": "1aa41bb9",
   "metadata": {},
   "source": [
    "https://doc.sagemath.org/html/en/reference/rings_numerical/sage/rings/real_mpfi.html\n",
    "\n",
    "https://doc.sagemath.org/html/en/reference/spkg/mpfi.html#spkg-mpfi\n",
    "\n",
    "https://doc.sagemath.org/html/en/reference/spkg/mpfr.html#spkg-mpfr"
   ]
  },
  {
   "cell_type": "code",
   "execution_count": null,
   "id": "9691c191",
   "metadata": {},
   "outputs": [
    {
     "name": "stdout",
     "output_type": "stream",
     "text": [
      "False\n"
     ]
    }
   ],
   "source": [
    "R = RealIntervalField(10)\n",
    "\n",
    "a=RIF(1,2)\n",
    "print(a==a)"
   ]
  },
  {
   "cell_type": "code",
   "execution_count": 40,
   "id": "5d24314d",
   "metadata": {},
   "outputs": [
    {
     "name": "stdout",
     "output_type": "stream",
     "text": [
      "3.1426?20\n"
     ]
    },
    {
     "data": {
      "text/plain": [
       "'212.19140625000000?0'"
      ]
     },
     "execution_count": 40,
     "metadata": {},
     "output_type": "execute_result"
    }
   ],
   "source": [
    "c=R(pi)\n",
    "print(c.str(error_digits=2))\n",
    "\n",
    "RIF(54321/256).str(error_digits=1)"
   ]
  },
  {
   "cell_type": "code",
   "execution_count": 48,
   "id": "12aa90b5",
   "metadata": {},
   "outputs": [
    {
     "name": "stdout",
     "output_type": "stream",
     "text": [
      "[1.2 .. 1.3]\n",
      "True\n",
      "[1.0 .. 2.0]\n",
      "False\n"
     ]
    }
   ],
   "source": [
    "R = RealIntervalField(3)\n",
    "a = R(1.25)\n",
    "print(a.str(style='brackets'))\n",
    "print(a==5/4)\n",
    "\n",
    "R = RealIntervalField(1)\n",
    "a = R(1.25)\n",
    "print(a.str(style='brackets'))\n",
    "print(a==5/4)"
   ]
  },
  {
   "cell_type": "code",
   "execution_count": null,
   "id": "d0aba40c",
   "metadata": {},
   "outputs": [],
   "source": []
  }
 ],
 "metadata": {
  "kernelspec": {
   "display_name": "SageMath 10.5",
   "language": "sage",
   "name": "SageMath-10.5"
  },
  "language_info": {
   "codemirror_mode": {
    "name": "ipython",
    "version": 3
   },
   "file_extension": ".py",
   "mimetype": "text/x-python",
   "name": "python",
   "nbconvert_exporter": "python",
   "pygments_lexer": "ipython3",
   "version": "3.12.5"
  }
 },
 "nbformat": 4,
 "nbformat_minor": 5
}
