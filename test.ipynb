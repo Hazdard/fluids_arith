{
 "cells": [
  {
   "cell_type": "markdown",
   "id": "1aa41bb9",
   "metadata": {},
   "source": [
    "https://doc.sagemath.org/html/en/reference/rings_numerical/sage/rings/real_mpfi.html\n",
    "\n",
    "https://doc.sagemath.org/html/en/reference/spkg/mpfi.html#spkg-mpfi\n",
    "\n",
    "https://doc.sagemath.org/html/en/reference/spkg/mpfr.html#spkg-mpfr"
   ]
  },
  {
   "cell_type": "code",
   "execution_count": 75,
   "id": "bb6f449e",
   "metadata": {},
   "outputs": [
    {
     "data": {
      "text/plain": [
       "True"
      ]
     },
     "execution_count": 75,
     "metadata": {},
     "output_type": "execute_result"
    }
   ],
   "source": [
    "RealIntervalField(53) is RIF"
   ]
  },
  {
   "cell_type": "code",
   "execution_count": null,
   "id": "9691c191",
   "metadata": {},
   "outputs": [
    {
     "name": "stdout",
     "output_type": "stream",
     "text": [
      "True\n",
      "False\n"
     ]
    }
   ],
   "source": [
    "a=RIF(1,2)\n",
    "print(a==a)"
   ]
  },
  {
   "cell_type": "code",
   "execution_count": null,
   "id": "5d24314d",
   "metadata": {},
   "outputs": [
    {
     "name": "stdout",
     "output_type": "stream",
     "text": [
      "False\n",
      "3.1426?20\n"
     ]
    },
    {
     "data": {
      "text/plain": [
       "'212.19140625000000?0'"
      ]
     },
     "execution_count": 52,
     "metadata": {},
     "output_type": "execute_result"
    }
   ],
   "source": [
    "R = RealIntervalField(10)\n",
    "\n",
    "print(R(pi)==R(pi))\n",
    "print(R(pi).str(error_digits=2))\n",
    "\n",
    "RIF(54321/256).str(error_digits=1)"
   ]
  },
  {
   "cell_type": "code",
   "execution_count": null,
   "id": "12aa90b5",
   "metadata": {},
   "outputs": [
    {
     "name": "stdout",
     "output_type": "stream",
     "text": [
      "[1.2 .. 1.3]\n",
      "True\n",
      "[1.0 .. 2.0]\n",
      "False\n"
     ]
    }
   ],
   "source": [
    "R = RealIntervalField(3)\n",
    "a = R(1.25)\n",
    "print(a.str(style='brackets'))\n",
    "print(a==5/4)\n",
    "\n",
    "R = RealIntervalField(1)\n",
    "a = R(1.25)\n",
    "print(a.str(style='brackets'))\n",
    "print(a==5/4)"
   ]
  },
  {
   "cell_type": "markdown",
   "id": "39f61eb0",
   "metadata": {},
   "source": [
    "Comparison operations (==, !=, <, <=, >, >=) return True if every value in the first interval has the given relation to every value in the second interval."
   ]
  },
  {
   "cell_type": "code",
   "execution_count": 76,
   "id": "b5a0cb6a",
   "metadata": {},
   "outputs": [
    {
     "name": "stdout",
     "output_type": "stream",
     "text": [
      "False\n",
      "False\n",
      "True\n",
      "True\n"
     ]
    }
   ],
   "source": [
    "print(0 == RIF(0,1))\n",
    "print(0 != RIF(0,1))\n",
    "print(RIF(0,oo) == oo)\n",
    "print(RIF(-oo,oo) == oo)"
   ]
  },
  {
   "cell_type": "code",
   "execution_count": 20,
   "id": "d6bca89a",
   "metadata": {},
   "outputs": [
    {
     "name": "stdout",
     "output_type": "stream",
     "text": [
      "[0.33333333333333331 .. 0.66666666666666675]\n",
      "1.?\n",
      "[0.33333333333333331 .. 0.66666666666666675]\n"
     ]
    }
   ],
   "source": [
    "from sage.rings import real_mpfi\n",
    "\n",
    "real_mpfi.printing_style = 'brackets'\n",
    "print(RIF((1/3,2/3)))\n",
    "\n",
    "real_mpfi.printing_style = 'question'\n",
    "print(RIF((1/3,2/3)))\n",
    "print(RIF((1/3,2/3)).str(style='brackets'))\n"
   ]
  },
  {
   "cell_type": "code",
   "execution_count": 1,
   "id": "a8af8834",
   "metadata": {},
   "outputs": [
    {
     "name": "stdout",
     "output_type": "stream",
     "text": [
      "4.?\n",
      "[3.0000000 .. 5.0000000]\n",
      "21\n",
      "3.00000\n",
      "5.00000\n"
     ]
    }
   ],
   "source": [
    "print((RealIntervalField(53)(1.5,2.5)+RealIntervalField(21)(1.5,2.5)))\n",
    "print((RealIntervalField(53)(1.5,2.5)+RealIntervalField(21)(1.5,2.5)).str(style='brackets'))\n",
    "print((RealIntervalField(53)(1.5,2.5)+RealIntervalField(21)(1.5,2.5)).precision())\n",
    "print((RealIntervalField(53)(1.5,2.5)+RealIntervalField(21)(1.5,2.5)).lower())\n",
    "print((RealIntervalField(53)(1.5,2.5)+RealIntervalField(21)(1.5,2.5)).upper())"
   ]
  }
 ],
 "metadata": {
  "kernelspec": {
   "display_name": "SageMath 10.5",
   "language": "sage",
   "name": "SageMath-10.5"
  },
  "language_info": {
   "codemirror_mode": {
    "name": "ipython",
    "version": 3
   },
   "file_extension": ".py",
   "mimetype": "text/x-python",
   "name": "python",
   "nbconvert_exporter": "python",
   "pygments_lexer": "ipython3",
   "version": "3.12.5"
  }
 },
 "nbformat": 4,
 "nbformat_minor": 5
}
