{
 "cells": [
  {
   "cell_type": "markdown",
   "id": "1aa41bb9",
   "metadata": {},
   "source": [
    "https://doc.sagemath.org/html/en/reference/rings_numerical/sage/rings/real_mpfi.html\n",
    "\n",
    "https://doc.sagemath.org/html/en/reference/spkg/mpfi.html#spkg-mpfi\n",
    "\n",
    "https://doc.sagemath.org/html/en/reference/spkg/mpfr.html#spkg-mpfr"
   ]
  },
  {
   "cell_type": "code",
   "execution_count": 47,
   "id": "6aa391bd",
   "metadata": {},
   "outputs": [],
   "source": [
    "pts = [uniform(-1, 1) for _ in range(100)]"
   ]
  },
  {
   "cell_type": "code",
   "execution_count": 2,
   "id": "75385600",
   "metadata": {},
   "outputs": [],
   "source": [
    "def smooth_fast_callable_rif2(f, x, zero_value=RIF(0)):\n",
    "    f_fast = fast_callable(f, vars=[x], domain=RIF)\n",
    "    def f_modified2(interval):\n",
    "        interval = RIF(interval)\n",
    "        if interval.contains_zero():\n",
    "            if interval.absolute_diameter() <= 2**(-prec+1):\n",
    "                return RIF(zero_value)\n",
    "            else :\n",
    "                a, b = interval.endpoints()\n",
    "                mid = interval.center()\n",
    "                left = f_modified2(RIF(a, mid))\n",
    "                right = f_modified2(RIF(mid, b))\n",
    "                return left.union(right)\n",
    "        r = f_fast(interval)\n",
    "        if r.is_NaN():\n",
    "            print(interval)\n",
    "        return r\n",
    "\n",
    "    return f_modified2\n"
   ]
  },
  {
   "cell_type": "code",
   "execution_count": 30,
   "id": "516a89e2",
   "metadata": {},
   "outputs": [
    {
     "name": "stdout",
     "output_type": "stream",
     "text": [
      "abs(-(([2.6193722742502851633697311648546712249903633703824707853466096 .. 3.4801021696368500599192513408493492260966166125732665843351423])*sqrt(1/3) + [1.5000000000000000000000000000000000000000000000000000000000000 .. 2.0000000000000000000000000000000000000000000000000000000000000])^(1/3) + (([2.6193722742502851633697311648546712249903633703824707853466096 .. 3.4801021696368500599192513408493492260966166125732665843351423])*sqrt(1/3) + [-2.0000000000000000000000000000000000000000000000000000000000000 .. -1.5000000000000000000000000000000000000000000000000000000000000])^(1/3))\n",
      "NaN\n",
      "NaN\n",
      "[0.36787944117144232159552377016146086744581113103176783450783671 .. 2.7182818284590452353602874713526624977572470936999595749669680]\n"
     ]
    }
   ],
   "source": [
    "prec = 200\n",
    "RBF = RealBallField(prec)\n",
    "RIF = RealIntervalField(prec)\n",
    "\n",
    "W = (-x/2 + sqrt(1/27 + x^2/4))^(1/3) - (x/2 + sqrt(1/27 + x^2/4))^(1/3)\n",
    "\n",
    "I = RIF(3,4)\n",
    "print(abs(W(x=I)))\n",
    "print(RIF(W(x=I)).upper())\n",
    "print(RIF(W(x=I)).lower())\n",
    "\n",
    "print(smooth_fast_callable_rif2(exp(x),x,RIF(1))(RIF(-1,1)))"
   ]
  },
  {
   "cell_type": "code",
   "execution_count": 4,
   "id": "d17c423c",
   "metadata": {},
   "outputs": [
    {
     "name": "stdout",
     "output_type": "stream",
     "text": [
      "[-1.2570914763098893821294359732208888884060382342032850944501169e-301090 .. 1.2570914763098893821294359732208888884060382342032850944501169e-301090]\n",
      "[-1.3752797580758236428281328214757553809823827575592297065276754e-3010360 .. 1.3752797580758236428281328214757553809823827575592297065276754e-3010360]\n",
      "True\n",
      "False\n"
     ]
    }
   ],
   "source": [
    "from sage.rings import real_mpfi\n",
    "RIF = RealIntervalField(prec)\n",
    "real_mpfi.printing_style = 'brackets'\n",
    "x = var('x')\n",
    "f = fast_callable(x+1,vars=[x],domain=RIF)\n",
    "I = RIF(-10, 2)\n",
    "# print(f(I))\n",
    "# print(f(f(I)))\n",
    "\n",
    "#print(smooth_fast_callable_rif(phi_0,x,phi_0_0)(RIF(0,0)))\n",
    "\n",
    "\n",
    "I1=RIF(-2**(-prec-999999),2**(-prec-999999))\n",
    "I2=RIF(-2**(-prec-9999999),2**(-prec-9999999))\n",
    "print(I1)\n",
    "print(I2)\n",
    "print(I2 in I1)\n",
    "print(I1 in I2)"
   ]
  },
  {
   "cell_type": "code",
   "execution_count": 74,
   "id": "aa8c80a0",
   "metadata": {},
   "outputs": [
    {
     "data": {
      "image/png": "[encoded data removed]",
      "text/plain": [
       "Graphics object consisting of 1 graphics primitive"
      ]
     },
     "execution_count": 74,
     "metadata": {},
     "output_type": "execute_result"
    }
   ],
   "source": [
    "def points_concentres(A, B, y, n):\n",
    "\n",
    "    t = [-1+ 2*i/(n-1) for i in range(n)]\n",
    "\n",
    "    # On applique une fonction en cloche (gaussienne aplatie) pour concentrer autour de 0\n",
    "    t_concentres = [xi * abs(xi)**0.5 for xi in t]\n",
    "\n",
    "    # Transformation vers l'intervalle [A, B] concentrée autour de y\n",
    "    largeur_gauche = y - A\n",
    "    largeur_droite = B - y\n",
    "\n",
    "    points = []\n",
    "    for xi in t_concentres:\n",
    "        if xi < 0:\n",
    "            val = y + xi * largeur_gauche\n",
    "        else:\n",
    "            val = y + xi * largeur_droite\n",
    "        points.append(val)\n",
    "\n",
    "    return points\n",
    "\n",
    "A = -10\n",
    "B = 10\n",
    "y = 5\n",
    "n = 30\n",
    "\n",
    "pts = points_concentres(A, B, y, n)\n",
    "list_plot([[x, 0] for x in pts], plotjoined=False, marker='o', figsize=4)\n",
    "\n"
   ]
  },
  {
   "cell_type": "code",
   "execution_count": 62,
   "id": "aad2c59e",
   "metadata": {},
   "outputs": [
    {
     "data": {
      "image/png": "[encoded data removed]",
      "text/plain": [
       "Graphics object consisting of 20 graphics primitives"
      ]
     },
     "metadata": {},
     "output_type": "display_data"
    }
   ],
   "source": [
    "def grid_concentrated_1D(y,A, n, B=NaN):\n",
    "    if B == NaN:\n",
    "        B = A\n",
    "        A = -B\n",
    "    if not (A <= y <= B):\n",
    "        raise ValueError(\"y doit être entre A et B.\")\n",
    "    if n == 1:\n",
    "        return [y]\n",
    "\n",
    "    from scipy.stats import norm\n",
    "    # Espace normalisé symétrique autour de 0\n",
    "    t = [(i + 0.5) / n for i in range(n)]\n",
    "    # Transformée inverse de la fonction de répartition normale\n",
    "    z = [norm.ppf(val) for val in t]\n",
    "\n",
    "    # Normalisation dans [A,B] centrée autour de y\n",
    "    z_min = min(z)\n",
    "    z_max = max(z)\n",
    "    scale = min(y - A, B - y) / max(abs(z_min), abs(z_max))\n",
    "    return [y + scale * zi for zi in z]\n",
    "\n",
    "pts = grid_concentrated_1D(1,0, 20, 10)\n",
    "show(sum(point((x, 0), size=8, color=\"green\") for x in pts), axes=False,figsize=2)\n"
   ]
  },
  {
   "cell_type": "code",
   "execution_count": 77,
   "id": "fa50748a",
   "metadata": {},
   "outputs": [
    {
     "name": "stdout",
     "output_type": "stream",
     "text": [
      "[23.1406926327792690057290863679485473802661062426002119934450464095243423506904527835169720 +/- 6.34e-89]\n",
      "[23.1406926327792690057290863679485473802661062426002119934450464095243423506904527835169720 +/- 6.34e-89]\n"
     ]
    }
   ],
   "source": [
    "print(exp(RBF(pi)))\n",
    "print(RBF(exp(pi)))"
   ]
  }
 ],
 "metadata": {
  "kernelspec": {
   "display_name": "SageMath 10.5",
   "language": "sage",
   "name": "SageMath-10.5"
  },
  "language_info": {
   "codemirror_mode": {
    "name": "ipython",
    "version": 3
   },
   "file_extension": ".py",
   "mimetype": "text/x-python",
   "name": "python",
   "nbconvert_exporter": "python",
   "pygments_lexer": "ipython3",
   "version": "3.12.5"
  }
 },
 "nbformat": 4,
 "nbformat_minor": 5
}
