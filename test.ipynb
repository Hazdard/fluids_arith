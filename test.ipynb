{
 "cells": [
  {
   "cell_type": "markdown",
   "id": "1aa41bb9",
   "metadata": {},
   "source": [
    "https://doc.sagemath.org/html/en/reference/rings_numerical/sage/rings/real_mpfi.html\n",
    "\n",
    "https://doc.sagemath.org/html/en/reference/spkg/mpfi.html#spkg-mpfi\n",
    "\n",
    "https://doc.sagemath.org/html/en/reference/spkg/mpfr.html#spkg-mpfr"
   ]
  },
  {
   "cell_type": "code",
   "execution_count": 8,
   "id": "5ef14c81",
   "metadata": {},
   "outputs": [
    {
     "name": "stdout",
     "output_type": "stream",
     "text": [
      "2.7182818284590452353602874713526624977572470936999595749670\n",
      "1.0000000065192580223083496093750000000000000000000000000000\n"
     ]
    }
   ],
   "source": [
    "prec = 200\n",
    "RBF = RealBallField(prec)\n",
    "RIF = RealIntervalField(prec)\n",
    "\n",
    "I = RIF(-1,1)\n",
    "J=RBF(-1,1)\n",
    "\n",
    "\n",
    "def g(x):\n",
    "    return exp(x)\n",
    "\n",
    "\n",
    "print(abs(g(I).upper()))\n",
    "print(abs(g(J).upper()))"
   ]
  },
  {
   "cell_type": "code",
   "execution_count": null,
   "id": "cb3beb16",
   "metadata": {},
   "outputs": [
    {
     "data": {
      "text/plain": [
       "x |--> 1"
      ]
     },
     "execution_count": 57,
     "metadata": {},
     "output_type": "execute_result"
    }
   ],
   "source": [
    "f.taylor(x,2,1)"
   ]
  },
  {
   "cell_type": "code",
   "execution_count": null,
   "id": "f9e32048",
   "metadata": {},
   "outputs": [],
   "source": [
    "phi_1_d1_0=diff(phi_list[1],x).taylor(x,0)\n",
    "phi_1_d1_func=smooth_fast_callable(diff(phi_list[1],x),x,phi_1_d1_0)\n",
    "\n",
    "phi_1_d2_0=diff(diff(phi_list[2],x),x).taylor(x,0)\n",
    "phi_1_d1_func=smooth_fast_callable(diff(diff(phi_list[2],x),x),x,phi_1_d2_0)\n",
    "\n",
    "\n",
    "def M_0_func(ball1,ball2):\n",
    "    M_fast = fast_callable(M_0, vars=[x,y], domain=RBF)\n",
    "    if ball1==ball2 :\n",
    "        return (lambda_list_0[0] * phi_funcs[0](ball2))\n",
    "    if ball2==RBF(0):\n",
    "        return (lambda_funcs[0](ball1-ball2) * phi_list_0[0])\n",
    "    else :\n",
    "        return M_fast(ball1,ball2)\n",
    "    \n",
    "M_1 = (lambda_list[1](x=x - y) * diff(phi_list[1], x)(x=y) + lambda_list[2](x=x - y) * phi_list[1](x=y))\n",
    "\n",
    "def M_1_func(ball1, ball2):\n",
    "    M_fast = fast_callable(M_1, vars=[x,y], domain=RBF)\n",
    "    if ball1 == ball2:\n",
    "        return lambda_list_0[1] * diff(phi_list[0], x)(x=ball2) + lambda_list_0[2] * phi_list_0[1]\n",
    "    if ball2 == RBF(0):\n",
    "        # cas ball2 == 0\n",
    "        return lambda_list[1](ball1 - ball2) * diff(phi_list[0], x)(x=ball2) + lambda_list[2](ball1 - ball2) * phi_list_0[1]\n",
    "    else:\n",
    "        return M_fast(ball1, ball2)\n",
    "\n",
    "\n",
    "def M_2_func(ball1, ball2):\n",
    "    M_fast = fast_callable(M_2, vars=[x,y], domain=RBF)\n",
    "    if ball1 == ball2:\n",
    "        # cas ball1 == ball2, valeurs en 0\n",
    "        return lambda_list_0[3] * diff(diff(phi_list[2], x), x)(x=ball2) + lambda_list_0[3] * diff(phi_list[2], x)(x=ball2) + lambda_list_0[4] * phi_list_0[2]\n",
    "    if ball2 == RBF(0):\n",
    "        # cas ball2 == 0\n",
    "        return (lambda_list[3](ball1 - ball2) * diff(diff(phi_list[2], x), x)(x=ball2) +\n",
    "                lambda_list[3](ball1 - ball2) * diff(phi_list[2], x)(x=ball2) +\n",
    "                lambda_list[4](ball1 - ball2) * phi_list_0[2])\n",
    "    else:\n",
    "        return M_fast(ball1, ball2)\n",
    "\n",
    "\n",
    "\n",
    "\n",
    "#M_funcs=[smooth_convert_2D_safe(expr,x,y) for expr in M_list]"
   ]
  }
 ],
 "metadata": {
  "kernelspec": {
   "display_name": "SageMath 10.5",
   "language": "sage",
   "name": "SageMath-10.5"
  },
  "language_info": {
   "codemirror_mode": {
    "name": "ipython",
    "version": 3
   },
   "file_extension": ".py",
   "mimetype": "text/x-python",
   "name": "python",
   "nbconvert_exporter": "python",
   "pygments_lexer": "ipython3",
   "version": "3.12.5"
  }
 },
 "nbformat": 4,
 "nbformat_minor": 5
}
