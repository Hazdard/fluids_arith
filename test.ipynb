{
 "cells": [
  {
   "cell_type": "markdown",
   "id": "1aa41bb9",
   "metadata": {},
   "source": [
    "https://doc.sagemath.org/html/en/reference/rings_numerical/sage/rings/real_mpfi.html\n",
    "\n",
    "https://doc.sagemath.org/html/en/reference/spkg/mpfi.html#spkg-mpfi\n",
    "\n",
    "https://doc.sagemath.org/html/en/reference/spkg/mpfr.html#spkg-mpfr"
   ]
  },
  {
   "cell_type": "code",
   "execution_count": 41,
   "id": "f9e32048",
   "metadata": {},
   "outputs": [],
   "source": [
    "## Adding the .simplify_full() command may give cleaner functions to look at, but drastically increases the runtime (from 0.5 sec to more than 4 min), and, most importantly, causes completely unstable computations that ruin the precision (for unknown reasons).\n",
    "import time\n",
    "import numpy as np\n",
    "prec = 300\n",
    "RBF = RealBallField(prec)\n",
    "RIF = RealIntervalField(prec)\n",
    "var('x')\n",
    "assume(x, 'real')\n",
    "var('y')\n",
    "assume(y, 'real')\n",
    "\n",
    "n_derivs=10  # Number of derivatives to compute\n",
    "\n",
    "\n",
    "W = (-x/2 + sqrt(1/27 + x^2/4))^(1/3) - (x/2 + sqrt(1/27 + x^2/4))^(1/3)\n",
    "W_prime = diff(W, x)\n",
    "a = 1 + W/x + W_prime\n",
    "b = (3*x)/2 + W\n",
    "a_derivs = [a]\n",
    "a_derivs_0=[a_derivs[0].taylor(x,0)]\n",
    "b_derivs = [b]\n",
    "b_derivs_0=[b_derivs[0].taylor(x,0)]\n",
    "for k in range(1, n_derivs):\n",
    "    a_derivs.append(diff(a, x, k))\n",
    "    a_derivs_0.append(a_derivs[k].taylor(x,0))\n",
    "    b_derivs.append(diff(b, x, k))\n",
    "    b_derivs_0.append(b_derivs[k].taylor(x,0))\n",
    "\n",
    "\n",
    "phi_0 = -a_derivs[0] + b_derivs[1]/2 + a_derivs[2]/2 - a_derivs[4]/2 + a_derivs[6]/2\n",
    "phi_1 = -a_derivs[0] - b_derivs[1]/2 + 2*a_derivs[2] + b_derivs[3]/2 - 3*a_derivs[4] - b_derivs[5]/2\n",
    "phi_2 = -a_derivs[0] - (3/2)*b_derivs[1] + (9/2)*a_derivs[2] + (5/2)*b_derivs[3] \n",
    "phi_3 = -a_derivs[0] - (5/2)*b_derivs[1] # corresponds to the sign in the inequality\n",
    "phi_list = [phi_0, phi_1, phi_2, phi_3]\n",
    "\n",
    "phi_0_0 = -a_derivs_0[0] + b_derivs_0[1]/2 + a_derivs_0[2]/2 - a_derivs_0[4]/2 + a_derivs_0[6]/2\n",
    "phi_1_0 = -a_derivs_0[0] - b_derivs_0[1]/2 + 2*a_derivs_0[2] + b_derivs_0[3]/2 - 3*a_derivs_0[4] - b_derivs_0[5]/2\n",
    "phi_2_0 = -a_derivs_0[0] - (3/2)*b_derivs_0[1] + (9/2)*a_derivs_0[2] + (5/2)*b_derivs_0[3]\n",
    "phi_3_0 = -a_derivs_0[0] - (5/2)*b_derivs_0[1]  \n",
    "phi_list_0 = [phi_0_0, phi_1_0, phi_2_0, phi_3_0]\n",
    "\n",
    "\n",
    "# Base Fourier function\n",
    "f = (pi/4) * exp(-2*pi*abs(x)) * (2*(pi**2)*(x**2) + 3*pi*abs(x) + 3/2)\n",
    "lambda_0 = f\n",
    "lambda_1 = -diff(f, x)\n",
    "lambda_2 = -diff(f, x, 2)\n",
    "lambda_3 = 2*diff(f, x, 3)\n",
    "lambda_4 = diff(f, x, 4)\n",
    "lambda_list = [lambda_0,lambda_1,lambda_2,lambda_3,lambda_4]\n",
    "lambda_list_0 = [limit(lambda_0,x=0),limit(lambda_1,x=0),limit(lambda_2,x=0),limit(lambda_3,x=0),limit(lambda_4,x=0)]\n",
    "\n",
    "\n",
    "M_0 = (lambda_list[0](x=x - y) * phi_list[0](x=y))\n",
    "M_1 = (lambda_list[1](x=x - y) * diff(phi_list[1], x)(x=y) + lambda_list[2](x=x - y) * phi_list[1](x=y))\n",
    "M_2 = (lambda_list[3](x=x - y) * diff(diff(phi_list[2], x),x)(x=y) +lambda_list[3](x=x - y) * diff(phi_list[2], x)(x=y)+ lambda_list[4](x=x - y) * phi_list[2](x=y))\n",
    "M_list=[M_0,M_1,M_2]\n",
    "\n",
    "def smooth_fast_callable(f,x,zero_value=RBF(0)):\n",
    "    f_fast = fast_callable(f, vars=[x], domain=RBF)\n",
    "    def f_modified(ball):\n",
    "        return RBF(zero_value) if abs(RBF(ball).center()) <= 2**(-prec) else f_fast(ball) # Set the sensibility to be equal to the field precision\n",
    "    return f_modified\n",
    "\n",
    "# Convert symbolic functions to numerical ones evaluable on RealBallField elements\n",
    "a_funcs = [smooth_fast_callable(a_derivs[k],x,a_derivs_0[k]) for k in range(n_derivs)]\n",
    "b_funcs = [smooth_fast_callable(b_derivs[k],x,b_derivs_0[k]) for k in range(n_derivs)]\n",
    "phi_funcs = [smooth_fast_callable(phi_list[k],x,phi_list_0[k]) for k in range(4)]\n",
    "lambda_funcs = [smooth_fast_callable(lambda_list[k],x,lambda_list_0[k]) for k in range(5)]\n",
    "\n",
    "phi_1_d1_0=diff(phi_list[1],x).taylor(x,0)\n",
    "phi_1_d1_func=smooth_fast_callable(diff(phi_list[1],x),x,phi_1_d1_0)\n",
    "\n",
    "phi_2_d1_0=diff(phi_list[2],x).taylor(x,0)\n",
    "phi_2_d1_func=smooth_fast_callable(diff(phi_list[2],x),x,phi_2_d1_0)\n",
    "phi_2_d2_0=diff(diff(phi_list[2],x),x).taylor(x,0)\n",
    "phi_2_d2_func=smooth_fast_callable(diff(diff(phi_list[2],x),x),x,phi_2_d2_0)\n",
    "\n",
    "\n",
    "def M_0_func(ball1,ball2):\n",
    "   return lambda_funcs[0](ball1-ball2)*phi_funcs[0](ball2)\n",
    "    \n",
    "def M_1_func(ball1, ball2):\n",
    "    return (lambda_funcs[1](ball1-ball2) * phi_1_d1_func(ball2) + lambda_funcs[2](ball1-ball2) * phi_funcs[1](ball2))\n",
    "\n",
    "def M_2_func(ball1, ball2):\n",
    "    return (lambda_funcs[3](ball1-ball2) * phi_2_d2_func(ball2) + lambda_funcs[3](ball1-ball2) * phi_2_d1_func(ball2) + lambda_funcs[4](ball1-ball2) * phi_funcs[2](ball2))\n",
    "\n",
    "\n",
    "M_funcs=[M_0_func,M_1_func,M_2_func]\n"
   ]
  },
  {
   "cell_type": "code",
   "execution_count": 2,
   "id": "75385600",
   "metadata": {},
   "outputs": [],
   "source": [
    "def smooth_fast_callable_rif2(f, x, zero_value=RIF(0)):\n",
    "    f_fast = fast_callable(f, vars=[x], domain=RIF)\n",
    "    def f_modified2(interval):\n",
    "        interval = RIF(interval)\n",
    "        if interval.contains_zero():\n",
    "            if interval.absolute_diameter() <= 2**(-prec+1):\n",
    "                return RIF(zero_value)\n",
    "            else :\n",
    "                a, b = interval.endpoints()\n",
    "                mid = interval.center()\n",
    "                left = f_modified2(RIF(a, mid))\n",
    "                right = f_modified2(RIF(mid, b))\n",
    "                return left.union(right)\n",
    "        r = f_fast(interval)\n",
    "        if r.is_NaN():\n",
    "            print(interval)\n",
    "        return r\n",
    "\n",
    "    return f_modified2\n"
   ]
  },
  {
   "cell_type": "code",
   "execution_count": 30,
   "id": "516a89e2",
   "metadata": {},
   "outputs": [
    {
     "name": "stdout",
     "output_type": "stream",
     "text": [
      "abs(-(([2.6193722742502851633697311648546712249903633703824707853466096 .. 3.4801021696368500599192513408493492260966166125732665843351423])*sqrt(1/3) + [1.5000000000000000000000000000000000000000000000000000000000000 .. 2.0000000000000000000000000000000000000000000000000000000000000])^(1/3) + (([2.6193722742502851633697311648546712249903633703824707853466096 .. 3.4801021696368500599192513408493492260966166125732665843351423])*sqrt(1/3) + [-2.0000000000000000000000000000000000000000000000000000000000000 .. -1.5000000000000000000000000000000000000000000000000000000000000])^(1/3))\n",
      "NaN\n",
      "NaN\n",
      "[0.36787944117144232159552377016146086744581113103176783450783671 .. 2.7182818284590452353602874713526624977572470936999595749669680]\n"
     ]
    }
   ],
   "source": [
    "prec = 200\n",
    "RBF = RealBallField(prec)\n",
    "RIF = RealIntervalField(prec)\n",
    "\n",
    "W = (-x/2 + sqrt(1/27 + x^2/4))^(1/3) - (x/2 + sqrt(1/27 + x^2/4))^(1/3)\n",
    "\n",
    "I = RIF(3,4)\n",
    "print(abs(W(x=I)))\n",
    "print(RIF(W(x=I)).upper())\n",
    "print(RIF(W(x=I)).lower())\n",
    "\n",
    "print(smooth_fast_callable_rif2(exp(x),x,RIF(1))(RIF(-1,1)))"
   ]
  },
  {
   "cell_type": "code",
   "execution_count": 36,
   "id": "2da44139",
   "metadata": {},
   "outputs": [
    {
     "name": "stdout",
     "output_type": "stream",
     "text": [
      "[.. NaN ..]\n"
     ]
    }
   ],
   "source": [
    "prec = 200\n",
    "RIF = RealIntervalField(prec)\n",
    "x = var('x')\n",
    "\n",
    "# Définir l'expression symbolique\n",
    "W_expr = (-x/2 + sqrt(1/27 + x^2/4))^(1/3) - (x/2 + sqrt(1/27 + x^2/4))^(1/3)\n",
    "\n",
    "# Transformer l'expression en fonction numérique sur le champ d'intervalles\n",
    "W_interval_func = fast_callable(W_expr, vars=[x], domain=RIF)\n",
    "\n",
    "# Créer un intervalle d'entrée\n",
    "I = RIF(-1, 1)\n",
    "\n",
    "# Évaluer et afficher la valeur absolue sur l'intervalle\n",
    "print(abs(W_interval_func(I)))\n"
   ]
  },
  {
   "cell_type": "code",
   "execution_count": 19,
   "id": "5b0a198d",
   "metadata": {},
   "outputs": [
    {
     "name": "stdout",
     "output_type": "stream",
     "text": [
      "-(([2.6057920014084605492574776345257664159533764367361792905833627 .. 2.6057920014084605492574776345257664159533764367361792905833852] + [3.4538443571610460388485010851238979833563685012966796757249421 .. 3.4538443571610460388485010851238979833563685012966796757249745]*I)*sqrt(1/3) + [1.5000000000000000000000000000000000000000000000000000000000000 .. 1.5000000000000000000000000000000000000000000000000000000000000] + [2.0000000000000000000000000000000000000000000000000000000000000 .. 2.0000000000000000000000000000000000000000000000000000000000000]*I)^(1/3) + (([2.6057920014084605492574776345257664159533764367361792905833627 .. 2.6057920014084605492574776345257664159533764367361792905833852] + [3.4538443571610460388485010851238979833563685012966796757249421 .. 3.4538443571610460388485010851238979833563685012966796757249745]*I)*sqrt(1/3) + [-1.5000000000000000000000000000000000000000000000000000000000000 .. -1.5000000000000000000000000000000000000000000000000000000000000] - [2.0000000000000000000000000000000000000000000000000000000000000 .. 2.0000000000000000000000000000000000000000000000000000000000000]*I)^(1/3)\n"
     ]
    }
   ],
   "source": [
    "prec = 200\n",
    "CIF = ComplexIntervalField(prec)\n",
    "x = var('x')\n",
    "\n",
    "# même expression, mais convertie dans le domaine complexe\n",
    "W = (-x/2 + sqrt(1/27 + x^2/4))^(1/3) - (x/2 + sqrt(1/27 + x^2/4))^(1/3)\n",
    "\n",
    "I = CIF(3, 4)  # intervalle complexe (imaginaire nul)\n",
    "\n",
    "print(W(x=I))\n"
   ]
  },
  {
   "cell_type": "code",
   "execution_count": 21,
   "id": "0c233a3a",
   "metadata": {},
   "outputs": [
    {
     "name": "stdout",
     "output_type": "stream",
     "text": [
      "Inf: -1.4432102683163446529288744884710217078765672764826473363123\n",
      "Sup: -1.4432102683163446529288744884710217078765672764826473363119\n"
     ]
    }
   ],
   "source": [
    "prec = 200\n",
    "CIF = ComplexIntervalField(prec)\n",
    "x = var('x')\n",
    "\n",
    "# Définition de l'expression dans le domaine symbolique\n",
    "W = (-x/2 + sqrt(1/27 + x^2/4))^(1/3) - (x/2 + sqrt(1/27 + x^2/4))^(1/3)\n",
    "\n",
    "# Intervalle complexe [3, 4]\n",
    "I = CIF(3, 4)\n",
    "\n",
    "# Substitution manuelle de x dans l'expression\n",
    "W_val = W.subs(x=I)\n",
    "\n",
    "# Conversion de l'expression symbolique en valeur numérique (CIF)\n",
    "W_num = CIF(W_val)\n",
    "\n",
    "# Extraction de la partie réelle\n",
    "re_part = W_num.real()\n",
    "\n",
    "# Affichage des bornes\n",
    "print(\"Inf:\", re_part.lower())\n",
    "print(\"Sup:\", re_part.upper())\n"
   ]
  },
  {
   "cell_type": "code",
   "execution_count": 4,
   "id": "d17c423c",
   "metadata": {},
   "outputs": [
    {
     "name": "stdout",
     "output_type": "stream",
     "text": [
      "[-1.2570914763098893821294359732208888884060382342032850944501169e-301090 .. 1.2570914763098893821294359732208888884060382342032850944501169e-301090]\n",
      "[-1.3752797580758236428281328214757553809823827575592297065276754e-3010360 .. 1.3752797580758236428281328214757553809823827575592297065276754e-3010360]\n",
      "True\n",
      "False\n"
     ]
    }
   ],
   "source": [
    "from sage.rings import real_mpfi\n",
    "RIF = RealIntervalField(prec)\n",
    "real_mpfi.printing_style = 'brackets'\n",
    "x = var('x')\n",
    "f = fast_callable(x+1,vars=[x],domain=RIF)\n",
    "I = RIF(-10, 2)\n",
    "# print(f(I))\n",
    "# print(f(f(I)))\n",
    "\n",
    "#print(smooth_fast_callable_rif(phi_0,x,phi_0_0)(RIF(0,0)))\n",
    "\n",
    "\n",
    "I1=RIF(-2**(-prec-999999),2**(-prec-999999))\n",
    "I2=RIF(-2**(-prec-9999999),2**(-prec-9999999))\n",
    "print(I1)\n",
    "print(I2)\n",
    "print(I2 in I1)\n",
    "print(I1 in I2)"
   ]
  },
  {
   "cell_type": "code",
   "execution_count": 5,
   "id": "a2472cf0",
   "metadata": {},
   "outputs": [
    {
     "name": "stdout",
     "output_type": "stream",
     "text": [
      "94101.053071474046878292952838356448992692467288133059595200\n",
      "94101.053071474046878292952838356448992692467288133059595198\n",
      "9.7879567019977867900654411638848213335517463871034498216380e-55\n"
     ]
    }
   ],
   "source": [
    "# Tester avec une fonction continue tout ok, mais qui atteint son max pas à entre 0 et 2**(-prec)\n",
    "\n",
    "f= M_2_func\n",
    "Ix=RIF([-2,2])\n",
    "Iy=RIF([-2,2])\n",
    "print(f(Ix,Iy).upper())\n",
    "print(f(Ix,Iy).lower())\n",
    "print(RIF(f(Ix,Iy)).upper()-RIF(f(Ix,Iy)).lower())"
   ]
  }
 ],
 "metadata": {
  "kernelspec": {
   "display_name": "SageMath 10.5",
   "language": "sage",
   "name": "SageMath-10.5"
  },
  "language_info": {
   "codemirror_mode": {
    "name": "ipython",
    "version": 3
   },
   "file_extension": ".py",
   "mimetype": "text/x-python",
   "name": "python",
   "nbconvert_exporter": "python",
   "pygments_lexer": "ipython3",
   "version": "3.12.5"
  }
 },
 "nbformat": 4,
 "nbformat_minor": 5
}
