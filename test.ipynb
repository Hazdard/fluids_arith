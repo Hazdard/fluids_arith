{
 "cells": [
  {
   "cell_type": "markdown",
   "id": "1aa41bb9",
   "metadata": {},
   "source": [
    "https://doc.sagemath.org/html/en/reference/rings_numerical/sage/rings/real_mpfi.html\n",
    "\n",
    "https://doc.sagemath.org/html/en/reference/spkg/mpfi.html#spkg-mpfi\n",
    "\n",
    "https://doc.sagemath.org/html/en/reference/spkg/mpfr.html#spkg-mpfr"
   ]
  },
  {
   "cell_type": "code",
   "execution_count": 43,
   "id": "5ef14c81",
   "metadata": {},
   "outputs": [
    {
     "name": "stdout",
     "output_type": "stream",
     "text": [
      "2.7182818284590452353602874713526624977572470936999595749670\n",
      "0.36787944117144232159552377016146086744581113103176783450783\n",
      "\n",
      "1.0000000018626451509656805083038651841752235229184026047820\n",
      "0.13533528298453108328829450279734718265936030551117923941952\n"
     ]
    }
   ],
   "source": [
    "prec = 200\n",
    "RBF = RealBallField(prec)\n",
    "RIF = RealIntervalField(prec)\n",
    "\n",
    "I = RIF(-1,1)\n",
    "J=RBF(-1,1)\n",
    "\n",
    "\n",
    "def f1(x):\n",
    "    return exp(x)\n",
    "\n",
    "f2=exp(x)\n",
    "\n",
    "f3 = fast_callable(f2,vars=[x],domain=RIF)\n",
    "\n",
    "g=f3\n",
    "\n",
    "print(g(I).upper())\n",
    "print(g(I).lower())\n",
    "print(\"\")\n",
    "print(g(J).upper())\n",
    "print(g(J).lower())"
   ]
  },
  {
   "cell_type": "code",
   "execution_count": null,
   "id": "c8b5aebb",
   "metadata": {},
   "outputs": [
    {
     "name": "stdout",
     "output_type": "stream",
     "text": [
      "1.?\n"
     ]
    }
   ],
   "source": [
    "def smooth_fast_callable_rif(f, x, zero_value=RealIntervalField()(0)):\n",
    "    RIF = RealIntervalField()\n",
    "    f_fast = fast_callable(f, vars=[x], domain=RIF)\n",
    "    prec = RIF.prec()\n",
    "\n",
    "    def f_modified(interval):\n",
    "        interval = RIF(interval)\n",
    "\n",
    "        # Si l'intervalle est contenu dans une petite bande autour de 0\n",
    "        if interval.abs() <= 2**(-prec):\n",
    "            return RIF(zero_value)\n",
    "\n",
    "        # Si 0 est inclus dans un intervalle plus large, on découpe l'intervalle\n",
    "        if interval.contains_zero():\n",
    "            a, b = interval.endpoints()\n",
    "            mid = RIF((a + b)/2)\n",
    "            left = f_modified(RIF(a, mid))\n",
    "            right = f_modified(RIF(mid, b))\n",
    "            return left.union(right)\n",
    "\n",
    "        # Sinon, on peut simplement évaluer\n",
    "        return f_fast(interval)\n",
    "\n",
    "    return f_modified\n"
   ]
  },
  {
   "cell_type": "code",
   "execution_count": 56,
   "id": "a58915de",
   "metadata": {},
   "outputs": [
    {
     "name": "stdout",
     "output_type": "stream",
     "text": [
      "[-9.0000000000000000000000000000000 .. 3.0000000000000000000000000000000]\n",
      "[-8.0000000000000000000000000000000 .. 4.0000000000000000000000000000000]\n"
     ]
    }
   ],
   "source": [
    "RIF = RealIntervalField(100)\n",
    "x = var('x')\n",
    "f = x + 1\n",
    "I = RIF(-10, 2)\n",
    "print(RIF(f(x=I)).str(style='brackets'))\n",
    "print(RIF(f(x=f(x=I))).str(style='brackets'))\n"
   ]
  },
  {
   "cell_type": "code",
   "execution_count": 8,
   "id": "abd1b72b",
   "metadata": {},
   "outputs": [
    {
     "name": "stdout",
     "output_type": "stream",
     "text": [
      "{'xmin': -4.0, 'xmax': 2.0, 'ymin': -0.9999942254823972, 'ymax': 0.5061192578887295}\n"
     ]
    },
    {
     "data": {
      "image/png": "[encoded data removed]",
      "text/plain": [
       "Graphics object consisting of 1 graphics primitive"
      ]
     },
     "metadata": {},
     "output_type": "display_data"
    }
   ],
   "source": [
    "var('x y')\n",
    "\n",
    "W = (-x/2 + sqrt(1/27 + x^2/4))^(1/3) - (x/2 + sqrt(1/27 + x^2/4))^(1/3)\n",
    "W_prime = diff(W, x)\n",
    "a = 1 + W/x + W_prime\n",
    "\n",
    "P= plot(a, (x, -4, 2))\n",
    "print(P.get_minmax_data())\n",
    "P.show()"
   ]
  },
  {
   "cell_type": "code",
   "execution_count": 44,
   "id": "f9e32048",
   "metadata": {},
   "outputs": [],
   "source": [
    "## Adding the .simplify_full() command may give cleaner functions to look at, but drastically increases the runtime (from 0.5 sec to more than 4 min), and, most importantly, causes completely unstable computations that ruin the precision (for unknown reasons).\n",
    "import time\n",
    "import numpy as np\n",
    "prec = 300\n",
    "RBF = RealBallField(prec)\n",
    "RIF = RealIntervalField(prec)\n",
    "var('x')\n",
    "assume(x, 'real')\n",
    "var('y')\n",
    "assume(y, 'real')\n",
    "\n",
    "n_derivs=10  # Number of derivatives to compute\n",
    "\n",
    "\n",
    "W = (-x/2 + sqrt(1/27 + x^2/4))^(1/3) - (x/2 + sqrt(1/27 + x^2/4))^(1/3)\n",
    "W_prime = diff(W, x)\n",
    "a = 1 + W/x + W_prime\n",
    "b = (3*x)/2 + W\n",
    "a_derivs = [a]\n",
    "a_derivs_0=[a_derivs[0].taylor(x,0)]\n",
    "b_derivs = [b]\n",
    "b_derivs_0=[b_derivs[0].taylor(x,0)]\n",
    "for k in range(1, n_derivs):\n",
    "    a_derivs.append(diff(a, x, k))\n",
    "    a_derivs_0.append(a_derivs[k].taylor(x,0))\n",
    "    b_derivs.append(diff(b, x, k))\n",
    "    b_derivs_0.append(b_derivs[k].taylor(x,0))\n",
    "\n",
    "\n",
    "phi_0 = -a_derivs[0] + b_derivs[1]/2 + a_derivs[2]/2 - a_derivs[4]/2 + a_derivs[6]/2\n",
    "phi_1 = -a_derivs[0] - b_derivs[1]/2 + 2*a_derivs[2] + b_derivs[3]/2 - 3*a_derivs[4] - b_derivs[5]/2\n",
    "phi_2 = -a_derivs[0] - (3/2)*b_derivs[1] + (9/2)*a_derivs[2] + (5/2)*b_derivs[3] \n",
    "phi_3 = -a_derivs[0] - (5/2)*b_derivs[1] # corresponds to the sign in the inequality\n",
    "phi_list = [phi_0, phi_1, phi_2, phi_3]\n",
    "\n",
    "phi_0_0 = -a_derivs_0[0] + b_derivs_0[1]/2 + a_derivs_0[2]/2 - a_derivs_0[4]/2 + a_derivs_0[6]/2\n",
    "phi_1_0 = -a_derivs_0[0] - b_derivs_0[1]/2 + 2*a_derivs_0[2] + b_derivs_0[3]/2 - 3*a_derivs_0[4] - b_derivs_0[5]/2\n",
    "phi_2_0 = -a_derivs_0[0] - (3/2)*b_derivs_0[1] + (9/2)*a_derivs_0[2] + (5/2)*b_derivs_0[3]\n",
    "phi_3_0 = -a_derivs_0[0] - (5/2)*b_derivs_0[1]  \n",
    "phi_list_0 = [phi_0_0, phi_1_0, phi_2_0, phi_3_0]\n",
    "\n",
    "\n",
    "# Base Fourier function\n",
    "f = (pi/4) * exp(-2*pi*abs(x)) * (2*(pi**2)*(x**2) + 3*pi*abs(x) + 3/2)\n",
    "lambda_0 = f\n",
    "lambda_1 = -diff(f, x)\n",
    "lambda_2 = -diff(f, x, 2)\n",
    "lambda_3 = 2*diff(f, x, 3)\n",
    "lambda_4 = diff(f, x, 4)\n",
    "lambda_list = [lambda_0,lambda_1,lambda_2,lambda_3,lambda_4]\n",
    "lambda_list_0 = [limit(lambda_0,x=0),limit(lambda_1,x=0),limit(lambda_2,x=0),limit(lambda_3,x=0),limit(lambda_4,x=0)]\n",
    "\n",
    "\n",
    "M_0 = (lambda_list[0](x=x - y) * phi_list[0](x=y))\n",
    "M_1 = (lambda_list[1](x=x - y) * diff(phi_list[1], x)(x=y) + lambda_list[2](x=x - y) * phi_list[1](x=y))\n",
    "M_2 = (lambda_list[3](x=x - y) * diff(diff(phi_list[2], x),x)(x=y) +lambda_list[3](x=x - y) * diff(phi_list[2], x)(x=y)+ lambda_list[4](x=x - y) * phi_list[2](x=y))\n",
    "M_list=[M_0,M_1,M_2]\n",
    "\n",
    "def smooth_fast_callable(f,x,zero_value=RBF(0)):\n",
    "    f_fast = fast_callable(f, vars=[x], domain=RBF)\n",
    "    def f_modified(ball):\n",
    "        return RBF(zero_value) if abs(RBF(ball).center()) <= 2**(-prec) else f_fast(ball) # Set the sensibility to be equal to the field precision\n",
    "    return f_modified\n",
    "\n",
    "# Convert symbolic functions to numerical ones evaluable on RealBallField elements\n",
    "a_funcs = [smooth_fast_callable(a_derivs[k],x,a_derivs_0[k]) for k in range(n_derivs)]\n",
    "b_funcs = [smooth_fast_callable(b_derivs[k],x,b_derivs_0[k]) for k in range(n_derivs)]\n",
    "phi_funcs = [smooth_fast_callable(phi_list[k],x,phi_list_0[k]) for k in range(4)]\n",
    "lambda_funcs = [smooth_fast_callable(lambda_list[k],x,lambda_list_0[k]) for k in range(5)]\n",
    "\n",
    "phi_1_d1_0=diff(phi_list[1],x).taylor(x,0)\n",
    "phi_1_d1_func=smooth_fast_callable(diff(phi_list[1],x),x,phi_1_d1_0)\n",
    "\n",
    "phi_2_d1_0=diff(phi_list[2],x).taylor(x,0)\n",
    "phi_2_d1_func=smooth_fast_callable(diff(phi_list[2],x),x,phi_2_d1_0)\n",
    "phi_2_d2_0=diff(diff(phi_list[2],x),x).taylor(x,0)\n",
    "phi_2_d2_func=smooth_fast_callable(diff(diff(phi_list[2],x),x),x,phi_2_d2_0)\n",
    "\n",
    "\n",
    "def M_0_func(ball1,ball2):\n",
    "   return lambda_funcs[0](ball1-ball2)*phi_funcs[0](ball2)\n",
    "    \n",
    "def M_1_func(ball1, ball2):\n",
    "    return (lambda_funcs[1](ball1-ball2) * phi_1_d1_func(ball2) + lambda_funcs[2](ball1-ball2) * phi_funcs[1](ball2))\n",
    "\n",
    "def M_2_func(ball1, ball2):\n",
    "    return (lambda_funcs[3](ball1-ball2) * phi_2_d2_func(ball2) + lambda_funcs[3](ball1-ball2) * phi_2_d1_func(ball2) + lambda_funcs[4](ball1-ball2) * phi_funcs[2](ball2))\n",
    "\n",
    "\n",
    "M_funcs=[M_0_func,M_1_func,M_2_func]\n"
   ]
  },
  {
   "cell_type": "code",
   "execution_count": 33,
   "id": "a2472cf0",
   "metadata": {},
   "outputs": [
    {
     "name": "stdout",
     "output_type": "stream",
     "text": [
      "94101.0530714740468782929528383564489926924672881330595951989264335172600810863125293784267\n",
      "94101.0530714740468782929528383564489926924672881330595951989264335172600810863125293784258\n",
      "7.72133638420204337720842826020753345291256937185193424077961159065537911936261688885525540e-85\n"
     ]
    }
   ],
   "source": [
    "f= M_2_func\n",
    "Ix=RIF([-2,2])\n",
    "Iy=RIF([-2,2])\n",
    "print(f(Ix,Iy).upper())\n",
    "print(f(Ix,Iy).lower())\n",
    "print(RIF(f(Ix,Iy)).upper()-RIF(f(Ix,Iy)).lower())\n"
   ]
  },
  {
   "cell_type": "code",
   "execution_count": null,
   "id": "9cd7655a",
   "metadata": {},
   "outputs": [],
   "source": []
  },
  {
   "cell_type": "code",
   "execution_count": 3,
   "id": "d7d494d6",
   "metadata": {},
   "outputs": [
    {
     "data": {
      "text/plain": [
       "NaN"
      ]
     },
     "execution_count": 3,
     "metadata": {},
     "output_type": "execute_result"
    }
   ],
   "source": [
    "def maximum_interval(f, a, b, prec=100):\n",
    "    \"\"\"\n",
    "    Calcule une majoration du maximum absolu de f sur l'intervalle [a, b]\n",
    "    en utilisant l'arithmétique des intervalles (RealIntervalField).\n",
    "    \n",
    "    Paramètres :\n",
    "    - f : une fonction Sage avec une variable nommée x\n",
    "    - a, b : bornes réelles de l'intervalle [a, b]\n",
    "    - prec : précision (en bits) de l'arithmétique des intervalles\n",
    "\n",
    "    Retour :\n",
    "    - Une borne supérieure de |f(x)| sur [a, b]\n",
    "    \"\"\"\n",
    "    RIF = RealIntervalField(prec)\n",
    "    x = var('x')\n",
    "    I = RIF(a, b)\n",
    "    \n",
    "    fxI = f(x=I)\n",
    "    upper = abs(RIF(fxI)).upper()\n",
    "    lower = abs(RIF(fxI)).lower()\n",
    "    \n",
    "    return max(upper, lower)\n",
    "\n",
    "x = var('x')\n",
    "f = lambda x: sin(x) + x^2\n",
    "maximum_interval(phi_1, 2, 3)"
   ]
  },
  {
   "cell_type": "code",
   "execution_count": null,
   "id": "a8725890",
   "metadata": {},
   "outputs": [],
   "source": []
  }
 ],
 "metadata": {
  "kernelspec": {
   "display_name": "SageMath 10.5",
   "language": "sage",
   "name": "SageMath-10.5"
  },
  "language_info": {
   "codemirror_mode": {
    "name": "ipython",
    "version": 3
   },
   "file_extension": ".py",
   "mimetype": "text/x-python",
   "name": "python",
   "nbconvert_exporter": "python",
   "pygments_lexer": "ipython3",
   "version": "3.12.5"
  }
 },
 "nbformat": 4,
 "nbformat_minor": 5
}
