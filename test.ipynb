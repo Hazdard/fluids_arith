{
 "cells": [
  {
   "cell_type": "markdown",
   "id": "1aa41bb9",
   "metadata": {},
   "source": [
    "https://doc.sagemath.org/html/en/reference/rings_numerical/sage/rings/real_mpfi.html\n",
    "\n",
    "https://doc.sagemath.org/html/en/reference/spkg/mpfi.html#spkg-mpfi\n",
    "\n",
    "https://doc.sagemath.org/html/en/reference/spkg/mpfr.html#spkg-mpfr"
   ]
  },
  {
   "cell_type": "code",
   "execution_count": 47,
   "id": "6aa391bd",
   "metadata": {},
   "outputs": [],
   "source": [
    "pts = [uniform(-1, 1) for _ in range(100)]"
   ]
  },
  {
   "cell_type": "code",
   "execution_count": 2,
   "id": "75385600",
   "metadata": {},
   "outputs": [],
   "source": [
    "def smooth_fast_callable_rif2(f, x, zero_value=RIF(0)):\n",
    "    f_fast = fast_callable(f, vars=[x], domain=RIF)\n",
    "    def f_modified2(interval):\n",
    "        interval = RIF(interval)\n",
    "        if interval.contains_zero():\n",
    "            if interval.absolute_diameter() <= 2**(-prec+1):\n",
    "                return RIF(zero_value)\n",
    "            else :\n",
    "                a, b = interval.endpoints()\n",
    "                mid = interval.center()\n",
    "                left = f_modified2(RIF(a, mid))\n",
    "                right = f_modified2(RIF(mid, b))\n",
    "                return left.union(right)\n",
    "        r = f_fast(interval)\n",
    "        if r.is_NaN():\n",
    "            print(interval)\n",
    "        return r\n",
    "\n",
    "    return f_modified2\n"
   ]
  },
  {
   "cell_type": "code",
   "execution_count": 13,
   "id": "516a89e2",
   "metadata": {},
   "outputs": [
    {
     "name": "stdout",
     "output_type": "stream",
     "text": [
      "abs(-(3.?*sqrt(1/3) + 2.?)^(1/3) + (3.?*sqrt(1/3) - 2.?)^(1/3))\n",
      "NaN\n",
      "NaN\n"
     ]
    },
    {
     "ename": "NameError",
     "evalue": "name 'smooth_fast_callable_rif2' is not defined",
     "output_type": "error",
     "traceback": [
      "\u001b[0;31m---------------------------------------------------------------------------\u001b[0m",
      "\u001b[0;31mNameError\u001b[0m                                 Traceback (most recent call last)",
      "Cell \u001b[0;32mIn[13], line 12\u001b[0m\n\u001b[1;32m      9\u001b[0m \u001b[38;5;28mprint\u001b[39m(RIF(W(x\u001b[38;5;241m=\u001b[39mI))\u001b[38;5;241m.\u001b[39mupper())\n\u001b[1;32m     10\u001b[0m \u001b[38;5;28mprint\u001b[39m(RIF(W(x\u001b[38;5;241m=\u001b[39mI))\u001b[38;5;241m.\u001b[39mlower())\n\u001b[0;32m---> 12\u001b[0m \u001b[38;5;28mprint\u001b[39m(\u001b[43msmooth_fast_callable_rif2\u001b[49m(exp(x),x,RIF(Integer(\u001b[38;5;241m1\u001b[39m)))(RIF(\u001b[38;5;241m-\u001b[39mInteger(\u001b[38;5;241m1\u001b[39m),Integer(\u001b[38;5;241m1\u001b[39m))))\n",
      "\u001b[0;31mNameError\u001b[0m: name 'smooth_fast_callable_rif2' is not defined"
     ]
    }
   ],
   "source": [
    "prec = 200\n",
    "RBF = RealBallField(prec)\n",
    "RIF = RealIntervalField(prec)\n",
    "\n",
    "W = (-x/2 + sqrt(1/27 + x^2/4))^(1/3) - (x/2 + sqrt(1/27 + x^2/4))^(1/3)\n",
    "\n",
    "I = RIF(3,4)\n",
    "print(abs(W(x=I)))\n",
    "print(RIF(W(x=I)).upper())\n",
    "print(RIF(W(x=I)).lower())\n",
    "\n",
    "print(smooth_fast_callable_rif2(exp(x),x,RIF(1))(RIF(-1,1)))"
   ]
  },
  {
   "cell_type": "code",
   "execution_count": null,
   "id": "67349c56",
   "metadata": {},
   "outputs": [
    {
     "ename": "ValueError",
     "evalue": "0 does not determine real interval",
     "output_type": "error",
     "traceback": [
      "\u001b[0;31m---------------------------------------------------------------------------\u001b[0m",
      "\u001b[0;31mValueError\u001b[0m                                Traceback (most recent call last)",
      "Cell \u001b[0;32mIn[18], line 5\u001b[0m\n\u001b[1;32m      3\u001b[0m f \u001b[38;5;241m=\u001b[39m (exp(x)\u001b[38;5;241m-\u001b[39mInteger(\u001b[38;5;241m1\u001b[39m))\u001b[38;5;241m/\u001b[39mx\n\u001b[1;32m      4\u001b[0m f0 \u001b[38;5;241m=\u001b[39m limit(f, x\u001b[38;5;241m=\u001b[39mInteger(\u001b[38;5;241m0\u001b[39m)) \n\u001b[0;32m----> 5\u001b[0m __tmp__\u001b[38;5;241m=\u001b[39mvar(\u001b[38;5;124m\"\u001b[39m\u001b[38;5;124mx\u001b[39m\u001b[38;5;124m\"\u001b[39m); g \u001b[38;5;241m=\u001b[39m symbolic_expression(piecewise([ (Integer(\u001b[38;5;241m0\u001b[39m), f0), (\u001b[38;5;124m'\u001b[39m\u001b[38;5;124melse\u001b[39m\u001b[38;5;124m'\u001b[39m, f) ]))\u001b[38;5;241m.\u001b[39mfunction(x)\n\u001b[1;32m      6\u001b[0m g_rb \u001b[38;5;241m=\u001b[39m fast_callable(g, R)\n\u001b[1;32m      7\u001b[0m B \u001b[38;5;241m=\u001b[39m RBF\u001b[38;5;241m.\u001b[39mball(Integer(\u001b[38;5;241m0\u001b[39m), RealNumber(\u001b[38;5;124m'\u001b[39m\u001b[38;5;124m1e-4\u001b[39m\u001b[38;5;124m'\u001b[39m))\n",
      "File \u001b[0;32m/private/var/tmp/sage-10.5-current/local/var/lib/sage/venv-python3.12.5/lib/python3.12/site-packages/sage/functions/piecewise.py:145\u001b[0m, in \u001b[0;36mPiecewiseFunction.__call__\u001b[0;34m(self, function_pieces, **kwds)\u001b[0m\n\u001b[1;32m    143\u001b[0m domain, function \u001b[38;5;241m=\u001b[39m piece\n\u001b[1;32m    144\u001b[0m \u001b[38;5;28;01mif\u001b[39;00m \u001b[38;5;129;01mnot\u001b[39;00m \u001b[38;5;28misinstance\u001b[39m(domain, RealSet):\n\u001b[0;32m--> 145\u001b[0m     domain \u001b[38;5;241m=\u001b[39m \u001b[43mRealSet\u001b[49m\u001b[43m(\u001b[49m\u001b[43mdomain\u001b[49m\u001b[43m)\u001b[49m\n\u001b[1;32m    146\u001b[0m \u001b[38;5;28;01mif\u001b[39;00m domain\u001b[38;5;241m.\u001b[39mis_empty():\n\u001b[1;32m    147\u001b[0m     \u001b[38;5;28;01mcontinue\u001b[39;00m\n",
      "File \u001b[0;32m/private/var/tmp/sage-10.5-current/local/var/lib/sage/venv-python3.12.5/lib/python3.12/site-packages/sage/misc/classcall_metaclass.pyx:321\u001b[0m, in \u001b[0;36msage.misc.classcall_metaclass.ClasscallMetaclass.__call__ (build/cythonized/sage/misc/classcall_metaclass.c:3190)\u001b[0;34m()\u001b[0m\n\u001b[1;32m    319\u001b[0m \"\"\"\n\u001b[1;32m    320\u001b[0m if cls.classcall is not None:\n\u001b[0;32m--> 321\u001b[0m     return cls.classcall(cls, *args, **kwds)\n\u001b[1;32m    322\u001b[0m else:\n\u001b[1;32m    323\u001b[0m     # Fast version of type.__call__(cls, *args, **kwds)\n",
      "File \u001b[0;32m/private/var/tmp/sage-10.5-current/local/var/lib/sage/venv-python3.12.5/lib/python3.12/site-packages/sage/sets/real_set.py:1280\u001b[0m, in \u001b[0;36mRealSet.__classcall__\u001b[0;34m(cls, *args, **kwds)\u001b[0m\n\u001b[1;32m   1277\u001b[0m             intervals\u001b[38;5;241m.\u001b[39mappend(InternalRealInterval(lower, lower_closed,\n\u001b[1;32m   1278\u001b[0m                                                   upper, upper_closed))\n\u001b[1;32m   1279\u001b[0m         \u001b[38;5;28;01melse\u001b[39;00m:\n\u001b[0;32m-> 1280\u001b[0m             \u001b[38;5;28;01mraise\u001b[39;00m \u001b[38;5;167;01mValueError\u001b[39;00m(\u001b[38;5;28mstr\u001b[39m(arg) \u001b[38;5;241m+\u001b[39m \u001b[38;5;124m'\u001b[39m\u001b[38;5;124m does not determine real interval\u001b[39m\u001b[38;5;124m'\u001b[39m)\n\u001b[1;32m   1282\u001b[0m union_intervals \u001b[38;5;241m=\u001b[39m RealSet\u001b[38;5;241m.\u001b[39mnormalize(intervals)\n\u001b[1;32m   1283\u001b[0m \u001b[38;5;28;01mreturn\u001b[39;00m UniqueRepresentation\u001b[38;5;241m.\u001b[39m__classcall__(\u001b[38;5;28mcls\u001b[39m, \u001b[38;5;241m*\u001b[39munion_intervals, normalized\u001b[38;5;241m=\u001b[39m\u001b[38;5;28;01mTrue\u001b[39;00m)\n",
      "\u001b[0;31mValueError\u001b[0m: 0 does not determine real interval"
     ]
    }
   ],
   "source": [
    "prec = 200\n",
    "RBF = RealBallField(prec)\n",
    "f = (exp(x)-1)/x\n",
    "f0 = limit(f, x=0) \n",
    "g(x) = piecewise([ (0, f0), ('else', f) ])\n",
    "g_rb = fast_callable(g, R)\n",
    "B = RBF.ball(0, 1e-4)\n",
    "g_rb(B)"
   ]
  },
  {
   "cell_type": "code",
   "execution_count": 10,
   "id": "c026ed4a",
   "metadata": {},
   "outputs": [],
   "source": [
    "x = var('x')\n",
    "f = piecewise([\n",
    "    [(-oo, 0), -1],        # x < 0\n",
    "    [(0, 0), 0],           # x == 0\n",
    "    [(0, oo), 1]           # x > 0\n",
    "], var=x)\n"
   ]
  },
  {
   "cell_type": "code",
   "execution_count": 11,
   "id": "0ff74da0",
   "metadata": {},
   "outputs": [
    {
     "ename": "ValueError",
     "evalue": "point 0 is not in the domain",
     "output_type": "error",
     "traceback": [
      "\u001b[0;31m---------------------------------------------------------------------------\u001b[0m",
      "\u001b[0;31mValueError\u001b[0m                                Traceback (most recent call last)",
      "Cell \u001b[0;32mIn[11], line 2\u001b[0m\n\u001b[1;32m      1\u001b[0m f(\u001b[38;5;241m-\u001b[39mInteger(\u001b[38;5;241m1\u001b[39m))   \u001b[38;5;66;03m# -1\u001b[39;00m\n\u001b[0;32m----> 2\u001b[0m \u001b[43mf\u001b[49m\u001b[43m(\u001b[49m\u001b[43mInteger\u001b[49m\u001b[43m(\u001b[49m\u001b[38;5;241;43m0\u001b[39;49m\u001b[43m)\u001b[49m\u001b[43m)\u001b[49m    \u001b[38;5;66;03m# 0\u001b[39;00m\n\u001b[1;32m      3\u001b[0m f(Integer(\u001b[38;5;241m1\u001b[39m))    \u001b[38;5;66;03m# 1\u001b[39;00m\n\u001b[1;32m      5\u001b[0m plot(f, (x, \u001b[38;5;241m-\u001b[39mInteger(\u001b[38;5;241m3\u001b[39m), Integer(\u001b[38;5;241m3\u001b[39m)))\n",
      "File \u001b[0;32m/private/var/tmp/sage-10.5-current/local/var/lib/sage/venv-python3.12.5/lib/python3.12/site-packages/sage/symbolic/expression.pyx:13580\u001b[0m, in \u001b[0;36msage.symbolic.expression._eval_on_operands.new_f (build/cythonized/sage/symbolic/expression.cpp:123970)\u001b[0;34m()\u001b[0m\n\u001b[1;32m  13578\u001b[0m     new_args = list(ex._unpack_operands())\n\u001b[1;32m  13579\u001b[0m     new_args.extend(args)\n\u001b[0;32m> 13580\u001b[0m     return f(ex, *new_args, **kwds)\n\u001b[1;32m  13581\u001b[0m return new_f\n\u001b[1;32m  13582\u001b[0m \n",
      "File \u001b[0;32m/private/var/tmp/sage-10.5-current/local/var/lib/sage/venv-python3.12.5/lib/python3.12/site-packages/sage/functions/piecewise.py:500\u001b[0m, in \u001b[0;36mPiecewiseFunction.EvaluationMethods.__call__\u001b[0;34m(self, parameters, variable, value, **kwds)\u001b[0m\n\u001b[1;32m    498\u001b[0m \u001b[38;5;28;01mif\u001b[39;00m value \u001b[38;5;129;01mis\u001b[39;00m \u001b[38;5;129;01mnot\u001b[39;00m \u001b[38;5;28;01mNone\u001b[39;00m:\n\u001b[1;32m    499\u001b[0m     substitution[variable] \u001b[38;5;241m=\u001b[39m value\n\u001b[0;32m--> 500\u001b[0m \u001b[38;5;28;01mreturn\u001b[39;00m \u001b[38;5;28;43mself\u001b[39;49m\u001b[38;5;241;43m.\u001b[39;49m\u001b[43msubs\u001b[49m\u001b[43m(\u001b[49m\u001b[43msubstitution\u001b[49m\u001b[43m)\u001b[49m\n",
      "File \u001b[0;32m/private/var/tmp/sage-10.5-current/local/var/lib/sage/venv-python3.12.5/lib/python3.12/site-packages/sage/symbolic/expression.pyx:5857\u001b[0m, in \u001b[0;36msage.symbolic.expression.Expression.subs (build/cythonized/sage/symbolic/expression.cpp:76809)\u001b[0;34m()\u001b[0m\n\u001b[1;32m   5855\u001b[0m     smap.insert(make_pair((<Expression>self.coerce_in(k))._gobj,\n\u001b[1;32m   5856\u001b[0m                           (<Expression>self.coerce_in(v))._gobj))\n\u001b[0;32m-> 5857\u001b[0m res = self._gobj.subs_map(smap, 0)\n\u001b[1;32m   5858\u001b[0m return new_Expression_from_GEx(self._parent, res)\n\u001b[1;32m   5859\u001b[0m \n",
      "File \u001b[0;32m/private/var/tmp/sage-10.5-current/local/var/lib/sage/venv-python3.12.5/lib/python3.12/site-packages/sage/functions/piecewise.py:234\u001b[0m, in \u001b[0;36mPiecewiseFunction._subs_\u001b[0;34m(self, subs_map, options, parameters, x)\u001b[0m\n\u001b[1;32m    232\u001b[0m         \u001b[38;5;28;01mif\u001b[39;00m domain\u001b[38;5;241m.\u001b[39mcontains(point):\n\u001b[1;32m    233\u001b[0m             \u001b[38;5;28;01mreturn\u001b[39;00m subs_map\u001b[38;5;241m.\u001b[39mapply_to(func, \u001b[38;5;241m0\u001b[39m)\n\u001b[0;32m--> 234\u001b[0m     \u001b[38;5;28;01mraise\u001b[39;00m \u001b[38;5;167;01mValueError\u001b[39;00m(\u001b[38;5;124mf\u001b[39m\u001b[38;5;124m'\u001b[39m\u001b[38;5;124mpoint \u001b[39m\u001b[38;5;132;01m{\u001b[39;00mpoint\u001b[38;5;132;01m}\u001b[39;00m\u001b[38;5;124m is not in the domain\u001b[39m\u001b[38;5;124m'\u001b[39m)\n\u001b[1;32m    236\u001b[0m \u001b[38;5;28;01mraise\u001b[39;00m \u001b[38;5;167;01mValueError\u001b[39;00m(\u001b[38;5;124m'\u001b[39m\u001b[38;5;124msubstitution not allowed\u001b[39m\u001b[38;5;124m'\u001b[39m)\n",
      "\u001b[0;31mValueError\u001b[0m: point 0 is not in the domain"
     ]
    }
   ],
   "source": [
    "f(-1)   # -1\n",
    "f(0)    # 0\n",
    "f(1)    # 1\n",
    "\n",
    "plot(f, (x, -3, 3))\n"
   ]
  },
  {
   "cell_type": "code",
   "execution_count": 4,
   "id": "d17c423c",
   "metadata": {},
   "outputs": [
    {
     "name": "stdout",
     "output_type": "stream",
     "text": [
      "[-1.2570914763098893821294359732208888884060382342032850944501169e-301090 .. 1.2570914763098893821294359732208888884060382342032850944501169e-301090]\n",
      "[-1.3752797580758236428281328214757553809823827575592297065276754e-3010360 .. 1.3752797580758236428281328214757553809823827575592297065276754e-3010360]\n",
      "True\n",
      "False\n"
     ]
    }
   ],
   "source": [
    "from sage.rings import real_mpfi\n",
    "RIF = RealIntervalField(prec)\n",
    "real_mpfi.printing_style = 'brackets'\n",
    "x = var('x')\n",
    "f = fast_callable(x+1,vars=[x],domain=RIF)\n",
    "I = RIF(-10, 2)\n",
    "# print(f(I))\n",
    "# print(f(f(I)))\n",
    "\n",
    "#print(smooth_fast_callable_rif(phi_0,x,phi_0_0)(RIF(0,0)))\n",
    "\n",
    "\n",
    "I1=RIF(-2**(-prec-999999),2**(-prec-999999))\n",
    "I2=RIF(-2**(-prec-9999999),2**(-prec-9999999))\n",
    "print(I1)\n",
    "print(I2)\n",
    "print(I2 in I1)\n",
    "print(I1 in I2)"
   ]
  },
  {
   "cell_type": "code",
   "execution_count": 74,
   "id": "aa8c80a0",
   "metadata": {},
   "outputs": [
    {
     "data": {
      "image/png": "[encoded data removed]",
      "text/plain": [
       "Graphics object consisting of 1 graphics primitive"
      ]
     },
     "execution_count": 74,
     "metadata": {},
     "output_type": "execute_result"
    }
   ],
   "source": [
    "def points_concentres(A, B, y, n):\n",
    "\n",
    "    t = [-1+ 2*i/(n-1) for i in range(n)]\n",
    "\n",
    "    # On applique une fonction en cloche (gaussienne aplatie) pour concentrer autour de 0\n",
    "    t_concentres = [xi * abs(xi)**0.5 for xi in t]\n",
    "\n",
    "    # Transformation vers l'intervalle [A, B] concentrée autour de y\n",
    "    largeur_gauche = y - A\n",
    "    largeur_droite = B - y\n",
    "\n",
    "    points = []\n",
    "    for xi in t_concentres:\n",
    "        if xi < 0:\n",
    "            val = y + xi * largeur_gauche\n",
    "        else:\n",
    "            val = y + xi * largeur_droite\n",
    "        points.append(val)\n",
    "\n",
    "    return points\n",
    "\n",
    "A = -10\n",
    "B = 10\n",
    "y = 5\n",
    "n = 30\n",
    "\n",
    "pts = points_concentres(A, B, y, n)\n",
    "list_plot([[x, 0] for x in pts], plotjoined=False, marker='o', figsize=4)\n",
    "\n"
   ]
  },
  {
   "cell_type": "code",
   "execution_count": 62,
   "id": "aad2c59e",
   "metadata": {},
   "outputs": [
    {
     "data": {
      "image/png": "[encoded data removed]",
      "text/plain": [
       "Graphics object consisting of 20 graphics primitives"
      ]
     },
     "metadata": {},
     "output_type": "display_data"
    }
   ],
   "source": [
    "def grid_concentrated_1D(y,A, n, B=NaN):\n",
    "    if B == NaN:\n",
    "        B = A\n",
    "        A = -B\n",
    "    if not (A <= y <= B):\n",
    "        raise ValueError(\"y doit être entre A et B.\")\n",
    "    if n == 1:\n",
    "        return [y]\n",
    "\n",
    "    from scipy.stats import norm\n",
    "    # Espace normalisé symétrique autour de 0\n",
    "    t = [(i + 0.5) / n for i in range(n)]\n",
    "    # Transformée inverse de la fonction de répartition normale\n",
    "    z = [norm.ppf(val) for val in t]\n",
    "\n",
    "    # Normalisation dans [A,B] centrée autour de y\n",
    "    z_min = min(z)\n",
    "    z_max = max(z)\n",
    "    scale = min(y - A, B - y) / max(abs(z_min), abs(z_max))\n",
    "    return [y + scale * zi for zi in z]\n",
    "\n",
    "pts = grid_concentrated_1D(1,0, 20, 10)\n",
    "show(sum(point((x, 0), size=8, color=\"green\") for x in pts), axes=False,figsize=2)\n"
   ]
  },
  {
   "cell_type": "code",
   "execution_count": 77,
   "id": "fa50748a",
   "metadata": {},
   "outputs": [
    {
     "name": "stdout",
     "output_type": "stream",
     "text": [
      "[23.1406926327792690057290863679485473802661062426002119934450464095243423506904527835169720 +/- 6.34e-89]\n",
      "[23.1406926327792690057290863679485473802661062426002119934450464095243423506904527835169720 +/- 6.34e-89]\n"
     ]
    }
   ],
   "source": [
    "print(exp(RBF(pi)))\n",
    "print(RBF(exp(pi)))"
   ]
  }
 ],
 "metadata": {
  "kernelspec": {
   "display_name": "SageMath 10.5",
   "language": "sage",
   "name": "SageMath-10.5"
  },
  "language_info": {
   "codemirror_mode": {
    "name": "ipython",
    "version": 3
   },
   "file_extension": ".py",
   "mimetype": "text/x-python",
   "name": "python",
   "nbconvert_exporter": "python",
   "pygments_lexer": "ipython3",
   "version": "3.12.5"
  }
 },
 "nbformat": 4,
 "nbformat_minor": 5
}
