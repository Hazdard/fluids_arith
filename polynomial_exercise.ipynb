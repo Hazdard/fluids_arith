{
 "cells": [
  {
   "cell_type": "code",
   "execution_count": 1,
   "id": "b86bacd3-4202-4a6a-acfd-5ffc9eff65f2",
   "metadata": {
    "vscode": {
     "languageId": "python"
    }
   },
   "outputs": [],
   "source": [
    "# We will show a polynomial is positive using interval arithmetic.\n",
    "# Consider the polynomial x^8 - x^7 + 2x^6 - 2x^5 + 3x^4 - 3x^3 + 4x^2 - 4x + 5.\n",
    "\n",
    "# Set the precision for interval arithmetic\n",
    "prec = 200\n",
    "\n",
    "RR = RealBallField(prec);\n",
    "RR_poly.<t> = PolynomialRing(RR)\n",
    "\n",
    "def PolyBound(P, a, b, h):\n",
    "    # Obtain upper and lower bounds on a polynomial P in a region [a, b], 0 <= a < b\n",
    "    coe = P.list() # coefficients of P\n",
    "    lenP = len(coe)-1 # degree of P\n",
    "\n",
    "    if a < 0 or b < 0 or b <= a:\n",
    "        raise ValueError(\"Must have 0 <= a < b\")\n",
    "\n",
    "    # Separate P into its positive and negative parts P = P_pos - P_neg\n",
    "    P_pos = RR_poly( [max(coe[i],0) for i in (0..lenP)] )\n",
    "    P_neg = RR_poly( [max(-coe[i],0) for i in (0..lenP)] )\n",
    "\n",
    "    # Get testing points uniformly distributed and evaluate\n",
    "    m = floor( float( (b-a)/h ) + 1)\n",
    "    ti = [a + i * h for i in (0..m)]\n",
    "    ti[-1] = b\n",
    "\n",
    "    P_pos_V = [P_pos(ti[i] ) for i in (0.. m)]\n",
    "    P_neg_V = [P_neg(ti[i] ) for i in (0.. m)]\n",
    "\n",
    "    \n",
    "    # Get bounds on polynomial and return\n",
    "    P_up = max( [ max( P_pos_V[i], P_pos_V[i+1] ) - min( P_neg_V[i], P_neg_V[i+1] ) for i in (0..m-1)] )\n",
    "    P_low = min( [ min( P_pos_V[i], P_pos_V[i+1] ) - max( P_neg_V[i], P_neg_V[i+1] ) for i in (0..m-1)] )\n",
    "\n",
    "    return P_up, P_low\n"
   ]
  },
  {
   "cell_type": "code",
   "execution_count": 3,
   "id": "15497304-6f04-41e8-9013-73313c4d76b1",
   "metadata": {
    "vscode": {
     "languageId": "python"
    }
   },
   "outputs": [
    {
     "name": "stdout",
     "output_type": "stream",
     "text": [
      "Polynomial is not non-negative\n"
     ]
    }
   ],
   "source": [
    "P = t**2 - 1 #t**8 - t**7 + 2 * t**6 - 2 * t**5 + 3*t**4 - 3*t**3 + 2*t**2 - 2*t + 5\n",
    "#plot(P, (t,0,0.25)).show()\n",
    "\n",
    "P_up, P_low = PolyBound(P, 0, RR(5), RR(0.0001))\n",
    "\n",
    "if P_low > 0:\n",
    "    print(\"Polynomial is positive\")\n",
    "elif P_low >= 0:\n",
    "    print(\"Polynomial is non-negative\")\n",
    "else:\n",
    "    print(\"Polynomial is not non-negative\")"
   ]
  },
  {
   "cell_type": "code",
   "execution_count": null,
   "id": "f01eb31f",
   "metadata": {
    "vscode": {
     "languageId": "python"
    }
   },
   "outputs": [],
   "source": []
  }
 ],
 "metadata": {
  "kernelspec": {
   "display_name": "SageMath 10.5",
   "language": "sage",
   "name": "SageMath-10.5"
  },
  "language_info": {
   "codemirror_mode": {
    "name": "ipython",
    "version": 3
   },
   "file_extension": ".py",
   "mimetype": "text/x-python",
   "name": "sage",
   "nbconvert_exporter": "python",
   "pygments_lexer": "ipython3",
   "version": "3.12.5"
  }
 },
 "nbformat": 4,
 "nbformat_minor": 5
}
